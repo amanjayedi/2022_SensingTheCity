{
 "cells": [
  {
   "cell_type": "markdown",
   "metadata": {
    "heading_collapsed": true
   },
   "source": [
    "## Excel file merge"
   ]
  },
  {
   "cell_type": "code",
   "execution_count": 22,
   "metadata": {
    "hidden": true
   },
   "outputs": [],
   "source": [
    "\n",
    "# importing the required modules\n",
    "import glob\n",
    "import pandas as pd\n",
    " \n",
    "# specifying the path to csv files\n",
    "path = \"H:\\\\MIZZOU\\\\_MotherFolderAmanWorks\\\\Aman thesis works\\\\_1_FinalTopic\\\\_CAADRIA2022\\Paper_2\\\\_Journal\\Datasets\\For Paper\\\\SentimentOutputAnalysis\"\n",
    " \n",
    "# csv files in the path\n",
    "file_list = glob.glob(path + \"/*.xlsx\")\n",
    " \n",
    "# list of excel files we want to merge.\n",
    "# pd.read_excel(file_path) reads the excel\n",
    "# data into pandas dataframe.\n",
    "excl_list = []\n",
    " \n",
    "for file in file_list:\n",
    "    excl_list.append(pd.read_excel(file))\n",
    " \n",
    "# create a new dataframe to store the\n",
    "# merged excel file.\n",
    "excl_merged = pd.DataFrame()\n",
    " \n",
    "for excl_file in excl_list:\n",
    "     \n",
    "    # appends the data into the excl_merged\n",
    "    # dataframe.\n",
    "    excl_merged = excl_merged.append(\n",
    "      excl_file, ignore_index=True)\n",
    " \n",
    "# exports the dataframe into excel file with\n",
    "# specified name.\n",
    "excl_merged.to_excel('H:\\\\MIZZOU\\\\_MotherFolderAmanWorks\\\\Aman thesis works\\\\_1_FinalTopic\\\\_CAADRIA2022\\Paper_2\\\\_Journal\\Datasets\\For Paper\\\\CompiledFile_SentimentRanking.xlsx', index=False)"
   ]
  },
  {
   "cell_type": "markdown",
   "metadata": {},
   "source": [
    "## CSV file merge"
   ]
  },
  {
   "cell_type": "code",
   "execution_count": 35,
   "metadata": {},
   "outputs": [],
   "source": [
    "# importing the required modules\n",
    "import glob\n",
    "import pandas as pd\n",
    " \n",
    "# specifying the path to csv files\n",
    "path = \"H:\\\\MIZZOU\\\\_MotherFolderAmanWorks\\\\Aman thesis works\\\\_1_FinalTopic\\\\_CAADRIA2022\\\\Paper_2\\\\_Journal\\\\Datasets\\\\For Paper\\\\SentimentOutputResults\"\n",
    " \n",
    "# csv files in the path\n",
    "file_list = glob.glob(path + \"/*.csv\")\n",
    "\n",
    "len(file_list)\n",
    "# list of excel files we want to merge.\n",
    "# pd.read_excel(file_path) reads the excel\n",
    "# data into pandas dataframe.\n",
    "excl_list = []\n",
    " \n",
    "for file in file_list:\n",
    "    excl_list.append(pd.read_csv(file))\n",
    " \n",
    "# create a new dataframe to store the\n",
    "# merged excel file.\n",
    "excl_merged = pd.DataFrame()\n",
    " \n",
    "for excl_file in excl_list:\n",
    "     \n",
    "    # appends the data into the excl_merged\n",
    "    # dataframe.\n",
    "    excl_merged = excl_merged.append(\n",
    "      excl_file, ignore_index=True)\n",
    " \n",
    "# exports the dataframe into excel file with\n",
    "# specified name.\n",
    "excl_merged.to_csv('H:\\\\MIZZOU\\\\_MotherFolderAmanWorks\\\\Aman thesis works\\\\_1_FinalTopic\\\\_CAADRIA2022\\Paper_2\\\\_Journal\\Datasets\\For Paper\\\\CompiledFile_SentimentRanking.csv', index=False)"
   ]
  },
  {
   "cell_type": "markdown",
   "metadata": {},
   "source": []
  }
 ],
 "metadata": {
  "kernelspec": {
   "display_name": "Python 3",
   "language": "python",
   "name": "python3"
  },
  "language_info": {
   "codemirror_mode": {
    "name": "ipython",
    "version": 3
   },
   "file_extension": ".py",
   "mimetype": "text/x-python",
   "name": "python",
   "nbconvert_exporter": "python",
   "pygments_lexer": "ipython3",
   "version": "3.7.9"
  }
 },
 "nbformat": 4,
 "nbformat_minor": 4
}
