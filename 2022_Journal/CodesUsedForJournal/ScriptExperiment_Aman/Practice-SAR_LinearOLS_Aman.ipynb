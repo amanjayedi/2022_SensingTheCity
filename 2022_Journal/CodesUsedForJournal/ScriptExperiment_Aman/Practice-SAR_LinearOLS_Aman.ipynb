{
 "cells": [
  {
   "cell_type": "markdown",
   "metadata": {},
   "source": [
    "# Aman_SAR Linear Regression"
   ]
  },
  {
   "cell_type": "markdown",
   "metadata": {},
   "source": [
    "## Spatially Adjusted Regression - Linear Regression\n",
    "\n",
    "Ordinary Least Squares vs Spatial Simultaneous Autoregressive Models\n",
    "\n",
    "In this practice, it is assumed that we are working under the normal probability model. The goals of this practice are to:\n",
    "\n",
    "a) evaluate a standard OLS regression using a continuous dependent variable when spatial autocorrelation may be present, and \n",
    "\n",
    "b) evaluate the same relationships given the ability to adjust for spatial autocorrelation using the rho term obtained from a simultaneous autoregressive error model."
   ]
  },
  {
   "cell_type": "markdown",
   "metadata": {},
   "source": [
    "### Load relevant libraries\n",
    "\n",
    "Documentation for the R libraries used in this notebook can be found at: \n",
    "   \n",
    "  \n",
    "  - [rgdal library](https://web.dsa.missouri.edu/static/PDF/R/rgdal.pdf)   \n",
    "  \n",
    "  - [classInt library](https://web.dsa.missouri.edu/static/PDF/R/classInt.pdf)\n",
    "  \n",
    "  - [spdep library](https://web.dsa.missouri.edu/static/PDF/R/spdep.pdf)\n",
    "  \n",
    "  - [RColorBrewer library](https://web.dsa.missouri.edu/static/PDF/R/RColorBrewer.pdf)\n",
    "  \n",
    "  - [geoR library](https://web.dsa.missouri.edu/static/PDF/R/geoR.pdf)\n",
    "  \n",
    "  - [car library](https://web.dsa.missouri.edu/static/PDF/R/car.pdf)\n",
    "  \n",
    "  - [MASS library](https://web.dsa.missouri.edu/static/PDF/R/MASS.pdf)"
   ]
  },
  {
   "cell_type": "code",
   "execution_count": 58,
   "metadata": {},
   "outputs": [
    {
     "name": "stderr",
     "output_type": "stream",
     "text": [
      "also installing the dependency 'tigris'\n",
      "\n",
      "\n"
     ]
    },
    {
     "name": "stdout",
     "output_type": "stream",
     "text": [
      "package 'tigris' successfully unpacked and MD5 sums checked\n",
      "package 'tidycensus' successfully unpacked and MD5 sums checked\n",
      "\n",
      "The downloaded binary packages are in\n",
      "\tC:\\Users\\ja2qm\\AppData\\Local\\Temp\\RtmpGmwYTG\\downloaded_packages\n"
     ]
    }
   ],
   "source": [
    "#Some packages\n",
    "# install.packages(\"broom\")\n",
    "# install.packages(\"car\")\n",
    "# install.packages(\"stargazer\")\n",
    "# install.packages(\"spatialreg\")\n",
    "install.packages(\"tidycensus\")"
   ]
  },
  {
   "cell_type": "code",
   "execution_count": 59,
   "metadata": {},
   "outputs": [
    {
     "ename": "ERROR",
     "evalue": "Error in library(tmap): there is no package called 'tmap'\n",
     "output_type": "error",
     "traceback": [
      "Error in library(tmap): there is no package called 'tmap'\nTraceback:\n",
      "1. library(tmap)"
     ]
    }
   ],
   "source": [
    "library(sf)\n",
    "library(tidyverse)\n",
    "library(tidycensus)\n",
    "library(tmap)\n",
    "library(spdep)\n",
    "library(tigris)\n",
    "library(rmapshaper)\n",
    "library(broom)\n",
    "library(car)\n",
    "library(spatialreg)\n",
    "library(knitr)\n",
    "library(stargazer)\n"
   ]
  },
  {
   "cell_type": "code",
   "execution_count": 2,
   "metadata": {},
   "outputs": [],
   "source": [
    "## Load relevant R packages.\n",
    "inLibraries = list('repr','rgdal','spdep','spatialreg','classInt','car','RColorBrewer','MASS','geoR')\n",
    "for (rpack in inLibraries) {\n",
    "  if (is.element(rpack,installed.packages()[,1])){           \n",
    "      #Load the library into R\n",
    "      suppressMessages(library(rpack,character.only = TRUE))\n",
    "    }\n",
    "    else {\n",
    "        print(paste(\"Warning:  \",rpack,\" is not an installed package\"))\n",
    "    }\n",
    "}\n",
    "\n",
    "## Resize plot area.\n",
    "options(repr.plot.width=6, repr.plot.height=6)"
   ]
  },
  {
   "cell_type": "markdown",
   "metadata": {},
   "source": [
    "## US Farming Data\n",
    "\n",
    "In this practice, we will be working with county data on agricultural practices in the USA (usagriculture/usfarming.shp). Elements of this dataset were obtained from the 2012 [US Ag. Census](https://web.dsa.missouri.edu/static/PDF/R/Ag_Census_Map_documentation_07172015.pdf) ; External source: https://agcensus.library.cornell.edu/census_year/2012-census/. The fields in this dataset may seem kinda mystical, but they are documented in depth at the website noted above (download the associated [Ag. Census Excel](https://web.dsa.missouri.edu/static/PDF/R/Ag_Census_Map_data_07172015.xlsx).\n",
    "\n",
    "There is also a field in the ag. census polygons named 'GRIDCODE', which reflects mean annual precipitation between 1990 and 2009 for each county. The original precipitation data was obtained from (USGS United States Average Annual Precipitation 1990-2009, data can be found at - External source: https://data.globalchange.gov/dataset/usgs-united-states-average-annual-precipitation-1990-2009). The precip. data were then spatially joined to the county polygons.\n",
    "\n",
    "Note: By all means, this is not really a large dataset (3070 records), however, since all operations will be conducted on a remote server, the size of the data coupled with the complexity of the methods could result in longer times required to obtain the results for each step.\n",
    "\n",
    "First, read in the county level data."
   ]
  },
  {
   "cell_type": "code",
   "execution_count": 95,
   "metadata": {},
   "outputs": [
    {
     "name": "stdout",
     "output_type": "stream",
     "text": [
      "OGR data source with driver: ESRI Shapefile \n",
      "Source: \"C:\\Users\\ja2qm\\MIZZOU\\_MotherFolderAmanWorks\\Aman thesis works\\_1_FinalTopic\\_CAADRIA2022\\Paper_2\\SensingTheCity_Stat_R_TimScript\\ScriptExperiment_Aman\\dataset\", layer: \"POI\"\n",
      "with 341 features\n",
      "It has 21 fields\n"
     ]
    }
   ],
   "source": [
    "## Read in the featureclass.\n",
    "#inFeatures <- readOGR(\"/dsa/data/geospatial/DS8612/usagriculture\",\"usfarming\",GDAL1_integer64_policy=TRUE)\n",
    "inFeatures <- readOGR(dsn=\"C:/Users/ja2qm/MIZZOU/_MotherFolderAmanWorks/Aman thesis works/_1_FinalTopic/_CAADRIA2022/Paper_2/SensingTheCity_Stat_R_TimScript/ScriptExperiment_Aman/dataset\", layer=\"POI\")"
   ]
  },
  {
   "cell_type": "markdown",
   "metadata": {},
   "source": [
    "## Subset Features\n",
    "\n",
    "As agricultural conditions vary considerably over the U.S., let's select a specific state to analyze - California.\n",
    "\n",
    "Note, that state names are not explicitly included in the dataset. However, the FIPS (Federal Information Processing Specification) code for each county is provided. Typically, the first two digits of a FIPS code reflect the state id number while the last three reflect a specific county within a state.  In this dataset, the 'atlas_stco' field contains the FIPS code as a character variable. Thus, in order to select the first two characters associated with a particular state, we need some way to match one portion of a string to another. There are several ways to do this. In this case, first a new field is added to the dataframe 'stcode' and populated with the first two characters in the 'atlas_stco' field which is the FIPS code. Next, grep() is used to select the FIPS code prefixes which correspond with the FIPS code of California ('06')."
   ]
  },
  {
   "cell_type": "code",
   "execution_count": null,
   "metadata": {},
   "outputs": [],
   "source": [
    "# ## Add new column to data frame and populate with first two numbers of FIPS code.\n",
    "# inFeatures@data$stcode <- substr(inFeatures@data$atlas_stco, start=1, stop=2)\n",
    "\n",
    "# ## Select features with a state fips code beginning with...\n",
    "# inFeaturesSubsetA <- inFeatures[grep(\"06\", inFeatures@data$stcode), ]\n",
    "\n",
    "# ## Plot the state selected.\n",
    "# plot(inFeaturesSubsetA,col=\"lightblue\", lwd=.2, main=\"California Counties\",cex.main=.8)"
   ]
  },
  {
   "cell_type": "code",
   "execution_count": 96,
   "metadata": {},
   "outputs": [
    {
     "data": {
      "image/png": "[encoded data removed]",
      "text/plain": [
       "plot without title"
      ]
     },
     "metadata": {
      "image/png": {
       "height": 360,
       "width": 360
      }
     },
     "output_type": "display_data"
    }
   ],
   "source": [
    "plot(inFeatures)"
   ]
  },
  {
   "cell_type": "markdown",
   "metadata": {},
   "source": [
    "## Generate Neighborhoods for Features\n",
    "\n",
    "Generate neighborhoods for each feature according to the Queen's Criterion.  Then test the neighborhoods to see if they are valid.  Retain only the features with valid neighborhoods."
   ]
  },
  {
   "cell_type": "code",
   "execution_count": 4,
   "metadata": {},
   "outputs": [
    {
     "ename": "ERROR",
     "evalue": "Error in extends(class(pl), \"SpatialPolygons\"): object 'inFeaturesSubsetA' not found\n",
     "output_type": "error",
     "traceback": [
      "Error in extends(class(pl), \"SpatialPolygons\"): object 'inFeaturesSubsetA' not found\nTraceback:\n",
      "1. poly2nb(inFeaturesSubsetA, queen = TRUE)",
      "2. extends(class(pl), \"SpatialPolygons\")"
     ]
    }
   ],
   "source": [
    "# ## Identify the neighbors of each feature.\n",
    "# inFeaturesSubsetA.nb <- poly2nb(inFeaturesSubsetA ,queen=TRUE)\n",
    "\n",
    "# ## Select features with at least one neighbor.\n",
    "# inFeaturesSubset <- inFeaturesSubsetA[card(inFeaturesSubsetA.nb) >= 1, ]\n",
    "\n",
    "# ## Identify the neighbors of each feature having at least one neighbor.\n",
    "# inFeaturesSubset.nb <- poly2nb(inFeaturesSubset, queen=TRUE)\n",
    "\n",
    "# ## Create a binary weighted neighbors list\n",
    "# inFeaturesSubset.listb <- nb2listw(inFeaturesSubset.nb,style=\"B\")\n",
    "# ## Create a row standardized weighted neighbors list\n",
    "# inFeaturesSubset.listw <- nb2listw(inFeaturesSubset.nb,style=\"W\")"
   ]
  },
  {
   "cell_type": "code",
   "execution_count": 115,
   "metadata": {},
   "outputs": [
    {
     "name": "stderr",
     "output_type": "stream",
     "text": [
      "Warning message in knearneigh(inFeatures):\n",
      "\"knearneigh: identical points found\"\n",
      "Warning message in knearneigh(inFeatures):\n",
      "\"knearneigh: kd_tree not available for identical points\"\n"
     ]
    },
    {
     "data": {
      "text/plain": [
       "Neighbour list object:\n",
       "Number of regions: 341 \n",
       "Number of nonzero links: 341 \n",
       "Percentage nonzero weights: 0.2932551 \n",
       "Average number of links: 1 \n",
       "Non-symmetric neighbours list"
      ]
     },
     "metadata": {},
     "output_type": "display_data"
    }
   ],
   "source": [
    "# creating neighborhood \n",
    "xy <- coordinates(inFeatures)\n",
    "xy.nb <- knn2nb(knearneigh(inFeatures))\n",
    "xy.nb\n",
    "\n",
    "## Create a binary weighted neighbors list\n",
    "xy.listB <- nb2listw(xy.nb,style=\"B\")\n",
    "# creating neighborhood list\n",
    "xy.listW <- nb2listw(xy.nb,style=\"W\")"
   ]
  },
  {
   "cell_type": "code",
   "execution_count": 98,
   "metadata": {},
   "outputs": [],
   "source": [
    "## Analysis Variables \n",
    "#Configure the variables to analyze. \n",
    "\n",
    "#In this practice, the dependent variable is 'y12_M082_1' (acres of irrigated land as percent of land in farms acreage (year 2012)) and the explanatory variable will be 'GRIDCODE' (mean annual rainfall 1990-2009). "
   ]
  },
  {
   "cell_type": "code",
   "execution_count": null,
   "metadata": {},
   "outputs": [],
   "source": [
    "# ## Response variable.\n",
    "# YVar <- inFeaturesSubset$y12_M082_1\n",
    "\n",
    "# ## Explanatory variable.\n",
    "# EXVar <- inFeaturesSubset$GRIDCODE"
   ]
  },
  {
   "cell_type": "code",
   "execution_count": 102,
   "metadata": {},
   "outputs": [],
   "source": [
    "## Response variable.\n",
    "YVar <- inFeatures$sidewalk\n",
    "\n",
    "## Explanatory variable.\n",
    "EXVar <- inFeatures$sky"
   ]
  },
  {
   "cell_type": "code",
   "execution_count": 132,
   "metadata": {},
   "outputs": [
    {
     "data": {
      "text/html": [
       "<style>\n",
       ".list-inline {list-style: none; margin:0; padding: 0}\n",
       ".list-inline>li {display: inline-block}\n",
       ".list-inline>li:not(:last-child)::after {content: \"\\00b7\"; padding: 0 .5ex}\n",
       "</style>\n",
       "<ol class=list-inline><li>0.658581396</li><li>0.45714543</li><li>0.484815202</li><li>0.747813093</li><li>0.885198318</li><li>0.46758732</li><li>0.254501828</li><li>0.592568332</li><li>0.316036261</li><li>0.377184415</li><li>0.477917863</li><li>0.795700625</li><li>0.623258224</li><li>0.551870942</li><li>0.635993729</li><li>0.555801084</li><li>0.617476419</li><li>0.919663704</li><li>0.865536607</li><li>0.462222723</li><li>0.623856887</li><li>0.615803463</li><li>0.689099456</li><li>0.497064078</li><li>0.561481852</li><li>0.433955663</li><li>0.399892364</li><li>0.427861124</li><li>0.42407532</li><li>0.906942634</li><li>0.952566793</li><li>0.932892023</li><li>0.408694289</li><li>0.317378613</li><li>0.249879546</li><li>0.160456084</li><li>0.373798636</li><li>0.528560893</li><li>0.145849672</li><li>0.061317237</li><li>0.245810563</li><li>0.105335798</li><li>0.2286088</li><li>0.593237103</li><li>0.177419344</li><li>0.659791093</li><li>0.22423533</li><li>0.29051439</li><li>0.591590952</li><li>0.448430795</li><li>0.467490407</li><li>0.316443846</li><li>0.016093103</li><li>0.086903717</li><li>0.312932974</li><li>0.295757329</li><li>0.487301268</li><li>0.065030871</li><li>0.732089773</li><li>0.708930937</li><li>0.795187878</li><li>0.632397628</li><li>0.525217728</li><li>0.672142381</li><li>0.503375813</li><li>0.287506641</li><li>0.241310625</li><li>0.054897592</li><li>0.242470835</li><li>0.183553748</li><li>0.026931581</li><li>0.790085153</li><li>0.982618844</li><li>1</li><li>0.97036447</li><li>0.915477875</li><li>0.9198809</li><li>0.911668702</li><li>0.722937311</li><li>0.576211983</li><li>0.270280822</li><li>0.535693985</li><li>0.536120816</li><li>0.392671294</li><li>0.443530833</li><li>0.369822443</li><li>0.330888736</li><li>0.647417124</li><li>0.357821692</li><li>0.671536158</li><li>0.475976848</li><li>0.781624143</li><li>0.596815333</li><li>0.755432127</li><li>0.759537538</li><li>0.76408284</li><li>0.914875776</li><li>0.819646452</li><li>0.968922455</li><li>0.27207681</li><li>0.228375108</li><li>0.136936399</li><li>0.670584896</li><li>0.656770973</li><li>0.605782905</li><li>0.479602504</li><li>0.789509172</li><li>0.334561818</li><li>0.580660371</li><li>0.851750178</li><li>0.323728838</li><li>0.153770442</li><li>0.209835804</li><li>0.403080193</li><li>0</li><li>0</li><li>0</li><li>0.339806132</li><li>0.405708536</li><li>0.412644365</li><li>0</li><li>0</li><li>0.076821299</li><li>0.267187845</li><li>0.414630056</li><li>0.393554511</li><li>0.67787951</li><li>0.845649453</li><li>0.721243047</li><li>0.31672084</li><li>0.319582187</li><li>0.325777076</li><li>0.487368626</li><li>0.31948115</li><li>0.411112997</li><li>0.315314566</li><li>0.491229348</li><li>0.740142511</li><li>0.403944852</li><li>0.264019262</li><li>0.341577377</li><li>0.290358366</li><li>0.40186912</li><li>0.449070011</li><li>0.79407853</li><li>0</li><li>0</li><li>0</li><li>0</li><li>0.609125382</li><li>0.872429135</li><li>0.63415925</li><li>0.822718122</li><li>0.747694873</li><li>0.802578718</li><li>0.67995799</li><li>0.277543132</li><li>0.509734286</li><li>0.355361744</li><li>0.579569581</li><li>0.493056267</li><li>0.807464934</li><li>0.721161942</li><li>0.859420761</li><li>0.741272478</li><li>0.745504358</li><li>0.803503174</li><li>0.790617832</li><li>0.267689594</li><li>0.644891193</li><li>0.614578644</li><li>0.495239221</li><li>0.43020835</li><li>0.436192917</li><li>0.225859487</li><li>0.273901667</li><li>0.169047686</li><li>0.457894617</li><li>0.413175669</li><li>0.320743084</li><li>0.366946661</li><li>0.441527271</li><li>0.376805697</li><li>0.229739454</li><li>0.438984844</li><li>0.249102178</li><li>0.368133677</li><li>0.227073308</li><li>0.171735827</li><li>0.255066124</li><li>0.558870005</li><li>0.75398805</li><li>0.288368551</li><li>0.170330928</li><li>0.586897875</li><li>0.104425775</li><li>0.274887983</li><li>0.262996517</li><li>0.249658226</li><li>0.00817027</li><li>0.586457297</li><li>0.459032833</li><li>0.694679186</li><li>0.445844379</li><li>0.188193213</li><li>0.81094419</li><li>0.570855634</li><li>0.396795263</li><li>0.376543138</li><li>0.658988294</li><li>0.488601005</li><li>0.284529135</li><li>0.542894435</li><li>0.37289205</li><li>0.337043073</li><li>0.602221857</li><li>0.099702456</li><li>0.344284763</li><li>0.28089042</li><li>0.306473463</li><li>0.367245649</li><li>0</li><li>0.232523134</li><li>0.220957462</li><li>0.030210824</li><li>0.045733444</li><li>0.388101936</li><li>0.310277138</li><li>0.192977018</li><li>0.505250844</li><li>0.261410164</li><li>0.42848728</li><li>0.201532192</li><li>0.481325636</li><li>0.497917739</li><li>0.271134483</li><li>0.301559754</li><li>0.042553177</li><li>0.360436976</li><li>0.501768152</li><li>0.572401435</li><li>0.335607244</li><li>0.389317133</li><li>0.652832583</li><li>0.266411851</li><li>0.603841202</li><li>0.246664224</li><li>0.31143666</li><li>0.208665972</li><li>0.252418536</li><li>0.529884687</li><li>0.378030516</li><li>0.140592298</li><li>0.262148354</li><li>0.439602752</li><li>0.162124916</li><li>0.306593746</li><li>0.113188522</li><li>0.303812128</li><li>0.955766993</li><li>0.865837657</li><li>0.886148893</li><li>0.922184137</li><li>0.875940695</li><li>0.791653636</li><li>0.816859336</li><li>0.852842343</li><li>0.91176699</li><li>0.909780612</li><li>0.919134461</li><li>0.875062289</li><li>0.768856334</li><li>0.699189434</li><li>0.727834524</li><li>0.617593265</li><li>0.627011724</li><li>0.282995706</li><li>0.368561195</li><li>0.445179046</li><li>0.490054017</li><li>0.505921676</li><li>0.600616258</li><li>0.54857864</li><li>0.946580164</li><li>0.948517742</li><li>0.520433924</li><li>0.434780457</li><li>0.363304509</li><li>0.335078001</li><li>0.538440549</li><li>0.706454493</li><li>0.563001535</li><li>0.286674287</li><li>0.10846589</li><li>0.419377432</li><li>0.303097994</li><li>0.390064258</li><li>0.38882638</li><li>0.391642364</li><li>0.500135747</li><li>0.571558771</li><li>0.574200173</li><li>0.615273533</li><li>0.767404697</li><li>0.907243683</li><li>0.824929944</li><li>0.78858884</li><li>0.716590522</li><li>0.73572574</li><li>0.841880145</li><li>0.411607874</li><li>0.434356376</li><li>0.52122229</li><li>0.345631239</li><li>0.51104777</li><li>0.79430741</li><li>0.545882938</li><li>0.273768325</li><li>0.795438753</li><li>0.420209099</li><li>0.84517176</li><li>0.803263984</li><li>0.780428879</li><li>0.739366517</li><li>0.456098629</li><li>0.438947728</li><li>0.507683298</li><li>0.879349842</li><li>0.728552095</li><li>0.213791378</li><li>0.292514515</li><li>0.225475958</li><li>0.310352744</li><li>0.795764546</li><li>0.8561154</li><li>0.922479688</li><li>0.739057907</li><li>0.918643022</li><li>0.879575286</li><li>0.590135191</li><li>0.763460808</li></ol>\n"
      ],
      "text/latex": [
       "\\begin{enumerate*}\n",
       "\\item 0.658581396\n",
       "\\item 0.45714543\n",
       "\\item 0.484815202\n",
       "\\item 0.747813093\n",
       "\\item 0.885198318\n",
       "\\item 0.46758732\n",
       "\\item 0.254501828\n",
       "\\item 0.592568332\n",
       "\\item 0.316036261\n",
       "\\item 0.377184415\n",
       "\\item 0.477917863\n",
       "\\item 0.795700625\n",
       "\\item 0.623258224\n",
       "\\item 0.551870942\n",
       "\\item 0.635993729\n",
       "\\item 0.555801084\n",
       "\\item 0.617476419\n",
       "\\item 0.919663704\n",
       "\\item 0.865536607\n",
       "\\item 0.462222723\n",
       "\\item 0.623856887\n",
       "\\item 0.615803463\n",
       "\\item 0.689099456\n",
       "\\item 0.497064078\n",
       "\\item 0.561481852\n",
       "\\item 0.433955663\n",
       "\\item 0.399892364\n",
       "\\item 0.427861124\n",
       "\\item 0.42407532\n",
       "\\item 0.906942634\n",
       "\\item 0.952566793\n",
       "\\item 0.932892023\n",
       "\\item 0.408694289\n",
       "\\item 0.317378613\n",
       "\\item 0.249879546\n",
       "\\item 0.160456084\n",
       "\\item 0.373798636\n",
       "\\item 0.528560893\n",
       "\\item 0.145849672\n",
       "\\item 0.061317237\n",
       "\\item 0.245810563\n",
       "\\item 0.105335798\n",
       "\\item 0.2286088\n",
       "\\item 0.593237103\n",
       "\\item 0.177419344\n",
       "\\item 0.659791093\n",
       "\\item 0.22423533\n",
       "\\item 0.29051439\n",
       "\\item 0.591590952\n",
       "\\item 0.448430795\n",
       "\\item 0.467490407\n",
       "\\item 0.316443846\n",
       "\\item 0.016093103\n",
       "\\item 0.086903717\n",
       "\\item 0.312932974\n",
       "\\item 0.295757329\n",
       "\\item 0.487301268\n",
       "\\item 0.065030871\n",
       "\\item 0.732089773\n",
       "\\item 0.708930937\n",
       "\\item 0.795187878\n",
       "\\item 0.632397628\n",
       "\\item 0.525217728\n",
       "\\item 0.672142381\n",
       "\\item 0.503375813\n",
       "\\item 0.287506641\n",
       "\\item 0.241310625\n",
       "\\item 0.054897592\n",
       "\\item 0.242470835\n",
       "\\item 0.183553748\n",
       "\\item 0.026931581\n",
       "\\item 0.790085153\n",
       "\\item 0.982618844\n",
       "\\item 1\n",
       "\\item 0.97036447\n",
       "\\item 0.915477875\n",
       "\\item 0.9198809\n",
       "\\item 0.911668702\n",
       "\\item 0.722937311\n",
       "\\item 0.576211983\n",
       "\\item 0.270280822\n",
       "\\item 0.535693985\n",
       "\\item 0.536120816\n",
       "\\item 0.392671294\n",
       "\\item 0.443530833\n",
       "\\item 0.369822443\n",
       "\\item 0.330888736\n",
       "\\item 0.647417124\n",
       "\\item 0.357821692\n",
       "\\item 0.671536158\n",
       "\\item 0.475976848\n",
       "\\item 0.781624143\n",
       "\\item 0.596815333\n",
       "\\item 0.755432127\n",
       "\\item 0.759537538\n",
       "\\item 0.76408284\n",
       "\\item 0.914875776\n",
       "\\item 0.819646452\n",
       "\\item 0.968922455\n",
       "\\item 0.27207681\n",
       "\\item 0.228375108\n",
       "\\item 0.136936399\n",
       "\\item 0.670584896\n",
       "\\item 0.656770973\n",
       "\\item 0.605782905\n",
       "\\item 0.479602504\n",
       "\\item 0.789509172\n",
       "\\item 0.334561818\n",
       "\\item 0.580660371\n",
       "\\item 0.851750178\n",
       "\\item 0.323728838\n",
       "\\item 0.153770442\n",
       "\\item 0.209835804\n",
       "\\item 0.403080193\n",
       "\\item 0\n",
       "\\item 0\n",
       "\\item 0\n",
       "\\item 0.339806132\n",
       "\\item 0.405708536\n",
       "\\item 0.412644365\n",
       "\\item 0\n",
       "\\item 0\n",
       "\\item 0.076821299\n",
       "\\item 0.267187845\n",
       "\\item 0.414630056\n",
       "\\item 0.393554511\n",
       "\\item 0.67787951\n",
       "\\item 0.845649453\n",
       "\\item 0.721243047\n",
       "\\item 0.31672084\n",
       "\\item 0.319582187\n",
       "\\item 0.325777076\n",
       "\\item 0.487368626\n",
       "\\item 0.31948115\n",
       "\\item 0.411112997\n",
       "\\item 0.315314566\n",
       "\\item 0.491229348\n",
       "\\item 0.740142511\n",
       "\\item 0.403944852\n",
       "\\item 0.264019262\n",
       "\\item 0.341577377\n",
       "\\item 0.290358366\n",
       "\\item 0.40186912\n",
       "\\item 0.449070011\n",
       "\\item 0.79407853\n",
       "\\item 0\n",
       "\\item 0\n",
       "\\item 0\n",
       "\\item 0\n",
       "\\item 0.609125382\n",
       "\\item 0.872429135\n",
       "\\item 0.63415925\n",
       "\\item 0.822718122\n",
       "\\item 0.747694873\n",
       "\\item 0.802578718\n",
       "\\item 0.67995799\n",
       "\\item 0.277543132\n",
       "\\item 0.509734286\n",
       "\\item 0.355361744\n",
       "\\item 0.579569581\n",
       "\\item 0.493056267\n",
       "\\item 0.807464934\n",
       "\\item 0.721161942\n",
       "\\item 0.859420761\n",
       "\\item 0.741272478\n",
       "\\item 0.745504358\n",
       "\\item 0.803503174\n",
       "\\item 0.790617832\n",
       "\\item 0.267689594\n",
       "\\item 0.644891193\n",
       "\\item 0.614578644\n",
       "\\item 0.495239221\n",
       "\\item 0.43020835\n",
       "\\item 0.436192917\n",
       "\\item 0.225859487\n",
       "\\item 0.273901667\n",
       "\\item 0.169047686\n",
       "\\item 0.457894617\n",
       "\\item 0.413175669\n",
       "\\item 0.320743084\n",
       "\\item 0.366946661\n",
       "\\item 0.441527271\n",
       "\\item 0.376805697\n",
       "\\item 0.229739454\n",
       "\\item 0.438984844\n",
       "\\item 0.249102178\n",
       "\\item 0.368133677\n",
       "\\item 0.227073308\n",
       "\\item 0.171735827\n",
       "\\item 0.255066124\n",
       "\\item 0.558870005\n",
       "\\item 0.75398805\n",
       "\\item 0.288368551\n",
       "\\item 0.170330928\n",
       "\\item 0.586897875\n",
       "\\item 0.104425775\n",
       "\\item 0.274887983\n",
       "\\item 0.262996517\n",
       "\\item 0.249658226\n",
       "\\item 0.00817027\n",
       "\\item 0.586457297\n",
       "\\item 0.459032833\n",
       "\\item 0.694679186\n",
       "\\item 0.445844379\n",
       "\\item 0.188193213\n",
       "\\item 0.81094419\n",
       "\\item 0.570855634\n",
       "\\item 0.396795263\n",
       "\\item 0.376543138\n",
       "\\item 0.658988294\n",
       "\\item 0.488601005\n",
       "\\item 0.284529135\n",
       "\\item 0.542894435\n",
       "\\item 0.37289205\n",
       "\\item 0.337043073\n",
       "\\item 0.602221857\n",
       "\\item 0.099702456\n",
       "\\item 0.344284763\n",
       "\\item 0.28089042\n",
       "\\item 0.306473463\n",
       "\\item 0.367245649\n",
       "\\item 0\n",
       "\\item 0.232523134\n",
       "\\item 0.220957462\n",
       "\\item 0.030210824\n",
       "\\item 0.045733444\n",
       "\\item 0.388101936\n",
       "\\item 0.310277138\n",
       "\\item 0.192977018\n",
       "\\item 0.505250844\n",
       "\\item 0.261410164\n",
       "\\item 0.42848728\n",
       "\\item 0.201532192\n",
       "\\item 0.481325636\n",
       "\\item 0.497917739\n",
       "\\item 0.271134483\n",
       "\\item 0.301559754\n",
       "\\item 0.042553177\n",
       "\\item 0.360436976\n",
       "\\item 0.501768152\n",
       "\\item 0.572401435\n",
       "\\item 0.335607244\n",
       "\\item 0.389317133\n",
       "\\item 0.652832583\n",
       "\\item 0.266411851\n",
       "\\item 0.603841202\n",
       "\\item 0.246664224\n",
       "\\item 0.31143666\n",
       "\\item 0.208665972\n",
       "\\item 0.252418536\n",
       "\\item 0.529884687\n",
       "\\item 0.378030516\n",
       "\\item 0.140592298\n",
       "\\item 0.262148354\n",
       "\\item 0.439602752\n",
       "\\item 0.162124916\n",
       "\\item 0.306593746\n",
       "\\item 0.113188522\n",
       "\\item 0.303812128\n",
       "\\item 0.955766993\n",
       "\\item 0.865837657\n",
       "\\item 0.886148893\n",
       "\\item 0.922184137\n",
       "\\item 0.875940695\n",
       "\\item 0.791653636\n",
       "\\item 0.816859336\n",
       "\\item 0.852842343\n",
       "\\item 0.91176699\n",
       "\\item 0.909780612\n",
       "\\item 0.919134461\n",
       "\\item 0.875062289\n",
       "\\item 0.768856334\n",
       "\\item 0.699189434\n",
       "\\item 0.727834524\n",
       "\\item 0.617593265\n",
       "\\item 0.627011724\n",
       "\\item 0.282995706\n",
       "\\item 0.368561195\n",
       "\\item 0.445179046\n",
       "\\item 0.490054017\n",
       "\\item 0.505921676\n",
       "\\item 0.600616258\n",
       "\\item 0.54857864\n",
       "\\item 0.946580164\n",
       "\\item 0.948517742\n",
       "\\item 0.520433924\n",
       "\\item 0.434780457\n",
       "\\item 0.363304509\n",
       "\\item 0.335078001\n",
       "\\item 0.538440549\n",
       "\\item 0.706454493\n",
       "\\item 0.563001535\n",
       "\\item 0.286674287\n",
       "\\item 0.10846589\n",
       "\\item 0.419377432\n",
       "\\item 0.303097994\n",
       "\\item 0.390064258\n",
       "\\item 0.38882638\n",
       "\\item 0.391642364\n",
       "\\item 0.500135747\n",
       "\\item 0.571558771\n",
       "\\item 0.574200173\n",
       "\\item 0.615273533\n",
       "\\item 0.767404697\n",
       "\\item 0.907243683\n",
       "\\item 0.824929944\n",
       "\\item 0.78858884\n",
       "\\item 0.716590522\n",
       "\\item 0.73572574\n",
       "\\item 0.841880145\n",
       "\\item 0.411607874\n",
       "\\item 0.434356376\n",
       "\\item 0.52122229\n",
       "\\item 0.345631239\n",
       "\\item 0.51104777\n",
       "\\item 0.79430741\n",
       "\\item 0.545882938\n",
       "\\item 0.273768325\n",
       "\\item 0.795438753\n",
       "\\item 0.420209099\n",
       "\\item 0.84517176\n",
       "\\item 0.803263984\n",
       "\\item 0.780428879\n",
       "\\item 0.739366517\n",
       "\\item 0.456098629\n",
       "\\item 0.438947728\n",
       "\\item 0.507683298\n",
       "\\item 0.879349842\n",
       "\\item 0.728552095\n",
       "\\item 0.213791378\n",
       "\\item 0.292514515\n",
       "\\item 0.225475958\n",
       "\\item 0.310352744\n",
       "\\item 0.795764546\n",
       "\\item 0.8561154\n",
       "\\item 0.922479688\n",
       "\\item 0.739057907\n",
       "\\item 0.918643022\n",
       "\\item 0.879575286\n",
       "\\item 0.590135191\n",
       "\\item 0.763460808\n",
       "\\end{enumerate*}\n"
      ],
      "text/markdown": [
       "1. 0.658581396\n",
       "2. 0.45714543\n",
       "3. 0.484815202\n",
       "4. 0.747813093\n",
       "5. 0.885198318\n",
       "6. 0.46758732\n",
       "7. 0.254501828\n",
       "8. 0.592568332\n",
       "9. 0.316036261\n",
       "10. 0.377184415\n",
       "11. 0.477917863\n",
       "12. 0.795700625\n",
       "13. 0.623258224\n",
       "14. 0.551870942\n",
       "15. 0.635993729\n",
       "16. 0.555801084\n",
       "17. 0.617476419\n",
       "18. 0.919663704\n",
       "19. 0.865536607\n",
       "20. 0.462222723\n",
       "21. 0.623856887\n",
       "22. 0.615803463\n",
       "23. 0.689099456\n",
       "24. 0.497064078\n",
       "25. 0.561481852\n",
       "26. 0.433955663\n",
       "27. 0.399892364\n",
       "28. 0.427861124\n",
       "29. 0.42407532\n",
       "30. 0.906942634\n",
       "31. 0.952566793\n",
       "32. 0.932892023\n",
       "33. 0.408694289\n",
       "34. 0.317378613\n",
       "35. 0.249879546\n",
       "36. 0.160456084\n",
       "37. 0.373798636\n",
       "38. 0.528560893\n",
       "39. 0.145849672\n",
       "40. 0.061317237\n",
       "41. 0.245810563\n",
       "42. 0.105335798\n",
       "43. 0.2286088\n",
       "44. 0.593237103\n",
       "45. 0.177419344\n",
       "46. 0.659791093\n",
       "47. 0.22423533\n",
       "48. 0.29051439\n",
       "49. 0.591590952\n",
       "50. 0.448430795\n",
       "51. 0.467490407\n",
       "52. 0.316443846\n",
       "53. 0.016093103\n",
       "54. 0.086903717\n",
       "55. 0.312932974\n",
       "56. 0.295757329\n",
       "57. 0.487301268\n",
       "58. 0.065030871\n",
       "59. 0.732089773\n",
       "60. 0.708930937\n",
       "61. 0.795187878\n",
       "62. 0.632397628\n",
       "63. 0.525217728\n",
       "64. 0.672142381\n",
       "65. 0.503375813\n",
       "66. 0.287506641\n",
       "67. 0.241310625\n",
       "68. 0.054897592\n",
       "69. 0.242470835\n",
       "70. 0.183553748\n",
       "71. 0.026931581\n",
       "72. 0.790085153\n",
       "73. 0.982618844\n",
       "74. 1\n",
       "75. 0.97036447\n",
       "76. 0.915477875\n",
       "77. 0.9198809\n",
       "78. 0.911668702\n",
       "79. 0.722937311\n",
       "80. 0.576211983\n",
       "81. 0.270280822\n",
       "82. 0.535693985\n",
       "83. 0.536120816\n",
       "84. 0.392671294\n",
       "85. 0.443530833\n",
       "86. 0.369822443\n",
       "87. 0.330888736\n",
       "88. 0.647417124\n",
       "89. 0.357821692\n",
       "90. 0.671536158\n",
       "91. 0.475976848\n",
       "92. 0.781624143\n",
       "93. 0.596815333\n",
       "94. 0.755432127\n",
       "95. 0.759537538\n",
       "96. 0.76408284\n",
       "97. 0.914875776\n",
       "98. 0.819646452\n",
       "99. 0.968922455\n",
       "100. 0.27207681\n",
       "101. 0.228375108\n",
       "102. 0.136936399\n",
       "103. 0.670584896\n",
       "104. 0.656770973\n",
       "105. 0.605782905\n",
       "106. 0.479602504\n",
       "107. 0.789509172\n",
       "108. 0.334561818\n",
       "109. 0.580660371\n",
       "110. 0.851750178\n",
       "111. 0.323728838\n",
       "112. 0.153770442\n",
       "113. 0.209835804\n",
       "114. 0.403080193\n",
       "115. 0\n",
       "116. 0\n",
       "117. 0\n",
       "118. 0.339806132\n",
       "119. 0.405708536\n",
       "120. 0.412644365\n",
       "121. 0\n",
       "122. 0\n",
       "123. 0.076821299\n",
       "124. 0.267187845\n",
       "125. 0.414630056\n",
       "126. 0.393554511\n",
       "127. 0.67787951\n",
       "128. 0.845649453\n",
       "129. 0.721243047\n",
       "130. 0.31672084\n",
       "131. 0.319582187\n",
       "132. 0.325777076\n",
       "133. 0.487368626\n",
       "134. 0.31948115\n",
       "135. 0.411112997\n",
       "136. 0.315314566\n",
       "137. 0.491229348\n",
       "138. 0.740142511\n",
       "139. 0.403944852\n",
       "140. 0.264019262\n",
       "141. 0.341577377\n",
       "142. 0.290358366\n",
       "143. 0.40186912\n",
       "144. 0.449070011\n",
       "145. 0.79407853\n",
       "146. 0\n",
       "147. 0\n",
       "148. 0\n",
       "149. 0\n",
       "150. 0.609125382\n",
       "151. 0.872429135\n",
       "152. 0.63415925\n",
       "153. 0.822718122\n",
       "154. 0.747694873\n",
       "155. 0.802578718\n",
       "156. 0.67995799\n",
       "157. 0.277543132\n",
       "158. 0.509734286\n",
       "159. 0.355361744\n",
       "160. 0.579569581\n",
       "161. 0.493056267\n",
       "162. 0.807464934\n",
       "163. 0.721161942\n",
       "164. 0.859420761\n",
       "165. 0.741272478\n",
       "166. 0.745504358\n",
       "167. 0.803503174\n",
       "168. 0.790617832\n",
       "169. 0.267689594\n",
       "170. 0.644891193\n",
       "171. 0.614578644\n",
       "172. 0.495239221\n",
       "173. 0.43020835\n",
       "174. 0.436192917\n",
       "175. 0.225859487\n",
       "176. 0.273901667\n",
       "177. 0.169047686\n",
       "178. 0.457894617\n",
       "179. 0.413175669\n",
       "180. 0.320743084\n",
       "181. 0.366946661\n",
       "182. 0.441527271\n",
       "183. 0.376805697\n",
       "184. 0.229739454\n",
       "185. 0.438984844\n",
       "186. 0.249102178\n",
       "187. 0.368133677\n",
       "188. 0.227073308\n",
       "189. 0.171735827\n",
       "190. 0.255066124\n",
       "191. 0.558870005\n",
       "192. 0.75398805\n",
       "193. 0.288368551\n",
       "194. 0.170330928\n",
       "195. 0.586897875\n",
       "196. 0.104425775\n",
       "197. 0.274887983\n",
       "198. 0.262996517\n",
       "199. 0.249658226\n",
       "200. 0.00817027\n",
       "201. 0.586457297\n",
       "202. 0.459032833\n",
       "203. 0.694679186\n",
       "204. 0.445844379\n",
       "205. 0.188193213\n",
       "206. 0.81094419\n",
       "207. 0.570855634\n",
       "208. 0.396795263\n",
       "209. 0.376543138\n",
       "210. 0.658988294\n",
       "211. 0.488601005\n",
       "212. 0.284529135\n",
       "213. 0.542894435\n",
       "214. 0.37289205\n",
       "215. 0.337043073\n",
       "216. 0.602221857\n",
       "217. 0.099702456\n",
       "218. 0.344284763\n",
       "219. 0.28089042\n",
       "220. 0.306473463\n",
       "221. 0.367245649\n",
       "222. 0\n",
       "223. 0.232523134\n",
       "224. 0.220957462\n",
       "225. 0.030210824\n",
       "226. 0.045733444\n",
       "227. 0.388101936\n",
       "228. 0.310277138\n",
       "229. 0.192977018\n",
       "230. 0.505250844\n",
       "231. 0.261410164\n",
       "232. 0.42848728\n",
       "233. 0.201532192\n",
       "234. 0.481325636\n",
       "235. 0.497917739\n",
       "236. 0.271134483\n",
       "237. 0.301559754\n",
       "238. 0.042553177\n",
       "239. 0.360436976\n",
       "240. 0.501768152\n",
       "241. 0.572401435\n",
       "242. 0.335607244\n",
       "243. 0.389317133\n",
       "244. 0.652832583\n",
       "245. 0.266411851\n",
       "246. 0.603841202\n",
       "247. 0.246664224\n",
       "248. 0.31143666\n",
       "249. 0.208665972\n",
       "250. 0.252418536\n",
       "251. 0.529884687\n",
       "252. 0.378030516\n",
       "253. 0.140592298\n",
       "254. 0.262148354\n",
       "255. 0.439602752\n",
       "256. 0.162124916\n",
       "257. 0.306593746\n",
       "258. 0.113188522\n",
       "259. 0.303812128\n",
       "260. 0.955766993\n",
       "261. 0.865837657\n",
       "262. 0.886148893\n",
       "263. 0.922184137\n",
       "264. 0.875940695\n",
       "265. 0.791653636\n",
       "266. 0.816859336\n",
       "267. 0.852842343\n",
       "268. 0.91176699\n",
       "269. 0.909780612\n",
       "270. 0.919134461\n",
       "271. 0.875062289\n",
       "272. 0.768856334\n",
       "273. 0.699189434\n",
       "274. 0.727834524\n",
       "275. 0.617593265\n",
       "276. 0.627011724\n",
       "277. 0.282995706\n",
       "278. 0.368561195\n",
       "279. 0.445179046\n",
       "280. 0.490054017\n",
       "281. 0.505921676\n",
       "282. 0.600616258\n",
       "283. 0.54857864\n",
       "284. 0.946580164\n",
       "285. 0.948517742\n",
       "286. 0.520433924\n",
       "287. 0.434780457\n",
       "288. 0.363304509\n",
       "289. 0.335078001\n",
       "290. 0.538440549\n",
       "291. 0.706454493\n",
       "292. 0.563001535\n",
       "293. 0.286674287\n",
       "294. 0.10846589\n",
       "295. 0.419377432\n",
       "296. 0.303097994\n",
       "297. 0.390064258\n",
       "298. 0.38882638\n",
       "299. 0.391642364\n",
       "300. 0.500135747\n",
       "301. 0.571558771\n",
       "302. 0.574200173\n",
       "303. 0.615273533\n",
       "304. 0.767404697\n",
       "305. 0.907243683\n",
       "306. 0.824929944\n",
       "307. 0.78858884\n",
       "308. 0.716590522\n",
       "309. 0.73572574\n",
       "310. 0.841880145\n",
       "311. 0.411607874\n",
       "312. 0.434356376\n",
       "313. 0.52122229\n",
       "314. 0.345631239\n",
       "315. 0.51104777\n",
       "316. 0.79430741\n",
       "317. 0.545882938\n",
       "318. 0.273768325\n",
       "319. 0.795438753\n",
       "320. 0.420209099\n",
       "321. 0.84517176\n",
       "322. 0.803263984\n",
       "323. 0.780428879\n",
       "324. 0.739366517\n",
       "325. 0.456098629\n",
       "326. 0.438947728\n",
       "327. 0.507683298\n",
       "328. 0.879349842\n",
       "329. 0.728552095\n",
       "330. 0.213791378\n",
       "331. 0.292514515\n",
       "332. 0.225475958\n",
       "333. 0.310352744\n",
       "334. 0.795764546\n",
       "335. 0.8561154\n",
       "336. 0.922479688\n",
       "337. 0.739057907\n",
       "338. 0.918643022\n",
       "339. 0.879575286\n",
       "340. 0.590135191\n",
       "341. 0.763460808\n",
       "\n",
       "\n"
      ],
      "text/plain": [
       "  [1] 0.65858140 0.45714543 0.48481520 0.74781309 0.88519832 0.46758732\n",
       "  [7] 0.25450183 0.59256833 0.31603626 0.37718441 0.47791786 0.79570063\n",
       " [13] 0.62325822 0.55187094 0.63599373 0.55580108 0.61747642 0.91966370\n",
       " [19] 0.86553661 0.46222272 0.62385689 0.61580346 0.68909946 0.49706408\n",
       " [25] 0.56148185 0.43395566 0.39989236 0.42786112 0.42407532 0.90694263\n",
       " [31] 0.95256679 0.93289202 0.40869429 0.31737861 0.24987955 0.16045608\n",
       " [37] 0.37379864 0.52856089 0.14584967 0.06131724 0.24581056 0.10533580\n",
       " [43] 0.22860880 0.59323710 0.17741934 0.65979109 0.22423533 0.29051439\n",
       " [49] 0.59159095 0.44843079 0.46749041 0.31644385 0.01609310 0.08690372\n",
       " [55] 0.31293297 0.29575733 0.48730127 0.06503087 0.73208977 0.70893094\n",
       " [61] 0.79518788 0.63239763 0.52521773 0.67214238 0.50337581 0.28750664\n",
       " [67] 0.24131063 0.05489759 0.24247083 0.18355375 0.02693158 0.79008515\n",
       " [73] 0.98261884 1.00000000 0.97036447 0.91547787 0.91988090 0.91166870\n",
       " [79] 0.72293731 0.57621198 0.27028082 0.53569398 0.53612082 0.39267129\n",
       " [85] 0.44353083 0.36982244 0.33088874 0.64741712 0.35782169 0.67153616\n",
       " [91] 0.47597685 0.78162414 0.59681533 0.75543213 0.75953754 0.76408284\n",
       " [97] 0.91487578 0.81964645 0.96892245 0.27207681 0.22837511 0.13693640\n",
       "[103] 0.67058490 0.65677097 0.60578290 0.47960250 0.78950917 0.33456182\n",
       "[109] 0.58066037 0.85175018 0.32372884 0.15377044 0.20983580 0.40308019\n",
       "[115] 0.00000000 0.00000000 0.00000000 0.33980613 0.40570854 0.41264437\n",
       "[121] 0.00000000 0.00000000 0.07682130 0.26718784 0.41463006 0.39355451\n",
       "[127] 0.67787951 0.84564945 0.72124305 0.31672084 0.31958219 0.32577708\n",
       "[133] 0.48736863 0.31948115 0.41111300 0.31531457 0.49122935 0.74014251\n",
       "[139] 0.40394485 0.26401926 0.34157738 0.29035837 0.40186912 0.44907001\n",
       "[145] 0.79407853 0.00000000 0.00000000 0.00000000 0.00000000 0.60912538\n",
       "[151] 0.87242913 0.63415925 0.82271812 0.74769487 0.80257872 0.67995799\n",
       "[157] 0.27754313 0.50973429 0.35536174 0.57956958 0.49305627 0.80746493\n",
       "[163] 0.72116194 0.85942076 0.74127248 0.74550436 0.80350317 0.79061783\n",
       "[169] 0.26768959 0.64489119 0.61457864 0.49523922 0.43020835 0.43619292\n",
       "[175] 0.22585949 0.27390167 0.16904769 0.45789462 0.41317567 0.32074308\n",
       "[181] 0.36694666 0.44152727 0.37680570 0.22973945 0.43898484 0.24910218\n",
       "[187] 0.36813368 0.22707331 0.17173583 0.25506612 0.55887000 0.75398805\n",
       "[193] 0.28836855 0.17033093 0.58689788 0.10442577 0.27488798 0.26299652\n",
       "[199] 0.24965823 0.00817027 0.58645730 0.45903283 0.69467919 0.44584438\n",
       "[205] 0.18819321 0.81094419 0.57085563 0.39679526 0.37654314 0.65898829\n",
       "[211] 0.48860100 0.28452913 0.54289444 0.37289205 0.33704307 0.60222186\n",
       "[217] 0.09970246 0.34428476 0.28089042 0.30647346 0.36724565 0.00000000\n",
       "[223] 0.23252313 0.22095746 0.03021082 0.04573344 0.38810194 0.31027714\n",
       "[229] 0.19297702 0.50525084 0.26141016 0.42848728 0.20153219 0.48132564\n",
       "[235] 0.49791774 0.27113448 0.30155975 0.04255318 0.36043698 0.50176815\n",
       "[241] 0.57240143 0.33560724 0.38931713 0.65283258 0.26641185 0.60384120\n",
       "[247] 0.24666422 0.31143666 0.20866597 0.25241854 0.52988469 0.37803052\n",
       "[253] 0.14059230 0.26214835 0.43960275 0.16212492 0.30659375 0.11318852\n",
       "[259] 0.30381213 0.95576699 0.86583766 0.88614889 0.92218414 0.87594070\n",
       "[265] 0.79165364 0.81685934 0.85284234 0.91176699 0.90978061 0.91913446\n",
       "[271] 0.87506229 0.76885633 0.69918943 0.72783452 0.61759327 0.62701172\n",
       "[277] 0.28299571 0.36856120 0.44517905 0.49005402 0.50592168 0.60061626\n",
       "[283] 0.54857864 0.94658016 0.94851774 0.52043392 0.43478046 0.36330451\n",
       "[289] 0.33507800 0.53844055 0.70645449 0.56300154 0.28667429 0.10846589\n",
       "[295] 0.41937743 0.30309799 0.39006426 0.38882638 0.39164236 0.50013575\n",
       "[301] 0.57155877 0.57420017 0.61527353 0.76740470 0.90724368 0.82492994\n",
       "[307] 0.78858884 0.71659052 0.73572574 0.84188014 0.41160787 0.43435638\n",
       "[313] 0.52122229 0.34563124 0.51104777 0.79430741 0.54588294 0.27376832\n",
       "[319] 0.79543875 0.42020910 0.84517176 0.80326398 0.78042888 0.73936652\n",
       "[325] 0.45609863 0.43894773 0.50768330 0.87934984 0.72855209 0.21379138\n",
       "[331] 0.29251451 0.22547596 0.31035274 0.79576455 0.85611540 0.92247969\n",
       "[337] 0.73905791 0.91864302 0.87957529 0.59013519 0.76346081"
      ]
     },
     "metadata": {},
     "output_type": "display_data"
    }
   ],
   "source": [
    "inFeatures$sky"
   ]
  },
  {
   "cell_type": "markdown",
   "metadata": {},
   "source": [
    "## Examine Characteristics of Variables\n",
    "\n",
    "Produce a scatterplot of the dependent variable (y-axis) and the explanatory variable (x-axis). What can be observed? Well, it seems that there is some trend manifesting here. The Shapiro test however indicates the dependent variable is likely not normal as the null hypothesis can be rejected. Although that's not a huge concern at this point, the dependent variable can be transformed to make it more linear."
   ]
  },
  {
   "cell_type": "code",
   "execution_count": 25,
   "metadata": {},
   "outputs": [],
   "source": [
    "# ## Scatter plot of model variables.\n",
    "# plot(EXVar,YVar,pch=19,main=\"% Irrigated Land vs Mean Rainfall\",cex.main=.8)\n",
    "\n",
    "# ## Conduct a shapiro test.\n",
    "# shapiro.test(YVar)"
   ]
  },
  {
   "cell_type": "code",
   "execution_count": 103,
   "metadata": {},
   "outputs": [
    {
     "data": {
      "text/plain": [
       "\n",
       "\tShapiro-Wilk normality test\n",
       "\n",
       "data:  YVar\n",
       "W = 0.93491, p-value = 4.614e-11\n"
      ]
     },
     "metadata": {},
     "output_type": "display_data"
    },
    {
     "data": {
      "image/png": "[encoded data removed]",
      "text/plain": [
       "Plot with title \"% Irrigated Land vs Mean Rainfall\""
      ]
     },
     "metadata": {
      "image/png": {
       "height": 360,
       "width": 360
      }
     },
     "output_type": "display_data"
    }
   ],
   "source": [
    "## Scatter plot of model variables.\n",
    "plot(EXVar,YVar,main=\"% Irrigated Land vs Mean Rainfall\",cex.main=.8)\n",
    "\n",
    "## Conduct a shapiro test.\n",
    "shapiro.test(YVar)"
   ]
  },
  {
   "cell_type": "markdown",
   "metadata": {},
   "source": [
    "Remember, the individual components of the test statistic can be accessed as well.  Take a look at the structure of the test statistic output (i.e., str())."
   ]
  },
  {
   "cell_type": "code",
   "execution_count": 104,
   "metadata": {},
   "outputs": [
    {
     "name": "stdout",
     "output_type": "stream",
     "text": [
      "List of 4\n",
      " $ statistic: Named num 0.935\n",
      "  ..- attr(*, \"names\")= chr \"W\"\n",
      " $ p.value  : num 4.61e-11\n",
      " $ method   : chr \"Shapiro-Wilk normality test\"\n",
      " $ data.name: chr \"YVar\"\n",
      " - attr(*, \"class\")= chr \"htest\"\n"
     ]
    }
   ],
   "source": [
    "#Evaluate structure of test statistic result.\n",
    "str(shapiro.test(YVar))"
   ]
  },
  {
   "cell_type": "markdown",
   "metadata": {},
   "source": [
    "Thus, the individual components of the test statistic results can be accessed as we did in earlier modules."
   ]
  },
  {
   "cell_type": "code",
   "execution_count": 105,
   "metadata": {},
   "outputs": [
    {
     "name": "stdout",
     "output_type": "stream",
     "text": [
      "      W \n",
      "0.93491 \n",
      "$statistic\n",
      "      W \n",
      "0.93491 \n",
      "\n"
     ]
    }
   ],
   "source": [
    "#Access statistic attribute by name.\n",
    "print(shapiro.test(YVar)$statistic)\n",
    "\n",
    "#Access statistic attribute by index.\n",
    "print(shapiro.test(YVar)[1])"
   ]
  },
  {
   "cell_type": "markdown",
   "metadata": {},
   "source": [
    "### Transform the Dependent Variable\n",
    "\n",
    "Here, the dependent variable is powered to adjust the distribution."
   ]
  },
  {
   "cell_type": "code",
   "execution_count": 106,
   "metadata": {},
   "outputs": [
    {
     "data": {
      "image/png": "[encoded data removed]",
      "text/plain": [
       "Plot with title \"% Irrigated Land vs Mean Rainfall\""
      ]
     },
     "metadata": {
      "image/png": {
       "height": 360,
       "width": 360
      }
     },
     "output_type": "display_data"
    },
    {
     "data": {
      "image/png": "[encoded data removed]",
      "text/plain": [
       "Plot with title \"Histogram of y.YVar\""
      ]
     },
     "metadata": {
      "image/png": {
       "height": 360,
       "width": 360
      }
     },
     "output_type": "display_data"
    }
   ],
   "source": [
    "### Power transformation applied.\n",
    "lambdapwr <- (1/3)\n",
    "y.YVar <- YVar^(lambdapwr)\n",
    "\n",
    "## Scatterplot of model variables.\n",
    "plot(EXVar,y.YVar,pch=19,main=\"% Irrigated Land vs Mean Rainfall\",cex.main=.8)\n",
    "\n",
    "## Histogram of dependent variable.\n",
    "hist(y.YVar)"
   ]
  },
  {
   "cell_type": "markdown",
   "metadata": {},
   "source": [
    "### Shapiro Test\n",
    "\n",
    "Test the dependent variable again and produce a Q-Q plot.  This time it looks like the null hypothesis is not as easily rejected. Feel free to experiment with the transformation and investigate whether a better transformation can be found. If you do find a better transformation, post it to the discussion page!"
   ]
  },
  {
   "cell_type": "code",
   "execution_count": 107,
   "metadata": {},
   "outputs": [
    {
     "data": {
      "text/plain": [
       "\n",
       "\tShapiro-Wilk normality test\n",
       "\n",
       "data:  y.YVar\n",
       "W = 0.92889, p-value = 1.131e-11\n"
      ]
     },
     "metadata": {},
     "output_type": "display_data"
    },
    {
     "data": {
      "text/plain": [
       "\n",
       "\tShapiro-Wilk normality test\n",
       "\n",
       "data:  EXVar\n",
       "W = 0.97531, p-value = 1.396e-05\n"
      ]
     },
     "metadata": {},
     "output_type": "display_data"
    },
    {
     "data": {
      "image/png": "[encoded data removed]",
      "text/plain": [
       "Plot with title \"Normal Q-Q Plot\""
      ]
     },
     "metadata": {
      "image/png": {
       "height": 360,
       "width": 360
      }
     },
     "output_type": "display_data"
    },
    {
     "data": {
      "image/png": "[encoded data removed]",
      "text/plain": [
       "plot without title"
      ]
     },
     "metadata": {
      "image/png": {
       "height": 360,
       "width": 360
      }
     },
     "output_type": "display_data"
    }
   ],
   "source": [
    "## Shapiro test.\n",
    "shapiro.test(y.YVar)\n",
    "shapiro.test(EXVar)\n",
    "\n",
    "## Default S3 method:\n",
    "qqnorm(y.YVar, main = \"Normal Q-Q Plot\",\n",
    "       xlab = \"Theoretical Quantiles\", ylab = \"Sample Quantiles\",\n",
    "       plot.it = TRUE, datax = FALSE)\n",
    "\n",
    "qqline(y.YVar, datax = FALSE)\n",
    "\n",
    "qqplot(EXVar, y.YVar, plot.it = TRUE, xlab = deparse(substitute(x)),\n",
    "       ylab = deparse(substitute(y.YVar)))"
   ]
  },
  {
   "cell_type": "markdown",
   "metadata": {},
   "source": [
    "# Normal Probability Models\n",
    "\n",
    "## Regular (OLS) Regression\n",
    "\n",
    "Let's first conduct a OLS linear regression.  \n",
    "\n",
    "Remember, OLS can be called using R's lm() function.  After the function is applied, the resid() function can be called to retrieve the modeled residuals.  Test the residuals to see if normality can be accepted...looks good to me."
   ]
  },
  {
   "cell_type": "code",
   "execution_count": 108,
   "metadata": {},
   "outputs": [
    {
     "data": {
      "text/plain": [
       "\n",
       "Call:\n",
       "lm(formula = y.YVar ~ EXVar)\n",
       "\n",
       "Residuals:\n",
       "     Min       1Q   Median       3Q      Max \n",
       "-0.58841 -0.07319  0.01903  0.10806  0.41740 \n",
       "\n",
       "Coefficients:\n",
       "            Estimate Std. Error t value Pr(>|t|)    \n",
       "(Intercept)  0.58841    0.02065  28.491   <2e-16 ***\n",
       "EXVar       -0.02716    0.03763  -0.722    0.471    \n",
       "---\n",
       "Signif. codes:  0 '***' 0.001 '**' 0.01 '*' 0.05 '.' 0.1 ' ' 1\n",
       "\n",
       "Residual standard error: 0.1752 on 339 degrees of freedom\n",
       "Multiple R-squared:  0.001534,\tAdjusted R-squared:  -0.001411 \n",
       "F-statistic: 0.5208 on 1 and 339 DF,  p-value: 0.471\n"
      ]
     },
     "metadata": {},
     "output_type": "display_data"
    },
    {
     "data": {
      "text/plain": [
       "\n",
       "\tShapiro-Wilk normality test\n",
       "\n",
       "data:  resid(YVar.lm)\n",
       "W = 0.92292, p-value = 3.028e-12\n"
      ]
     },
     "metadata": {},
     "output_type": "display_data"
    }
   ],
   "source": [
    "## Simple OLS.\n",
    "YVar.lm <- lm(y.YVar ~ EXVar)\n",
    "\n",
    "## OLS summary.\n",
    "summary(YVar.lm)\n",
    "\n",
    "## Shapiro test.\n",
    "shapiro.test(resid(YVar.lm))"
   ]
  },
  {
   "cell_type": "code",
   "execution_count": 109,
   "metadata": {},
   "outputs": [],
   "source": [
    "## Response variable.\n",
    "#YVar <- inFeatures$Rank_0_5\n",
    "\n",
    "## Explanatory variable.\n",
    "EXVar1 <- inFeatures$sky\n",
    "EXVar2 <- inFeatures$wall\n",
    "EXVar3 <- inFeatures$building\n",
    "EXVar4 <- inFeatures$fence"
   ]
  },
  {
   "cell_type": "code",
   "execution_count": 110,
   "metadata": {
    "scrolled": false
   },
   "outputs": [
    {
     "data": {
      "text/plain": [
       "\n",
       "Call:\n",
       "lm(formula = YVar ~ EXVar1 + EXVar2 + EXVar3 + EXVar4)\n",
       "\n",
       "Residuals:\n",
       "     Min       1Q   Median       3Q      Max \n",
       "-0.28358 -0.10145 -0.02382  0.07445  0.76562 \n",
       "\n",
       "Coefficients:\n",
       "            Estimate Std. Error t value Pr(>|t|)    \n",
       "(Intercept)  0.20557    0.02719   7.560 3.88e-13 ***\n",
       "EXVar1      -0.04350    0.03647  -1.193 0.233787    \n",
       "EXVar2       0.24795    0.07956   3.117 0.001987 ** \n",
       "EXVar3       0.13758    0.04133   3.329 0.000968 ***\n",
       "EXVar4       0.01688    0.10570   0.160 0.873234    \n",
       "---\n",
       "Signif. codes:  0 '***' 0.001 '**' 0.01 '*' 0.05 '.' 0.1 ' ' 1\n",
       "\n",
       "Residual standard error: 0.1553 on 336 degrees of freedom\n",
       "Multiple R-squared:  0.08116,\tAdjusted R-squared:  0.07022 \n",
       "F-statistic:  7.42 on 4 and 336 DF,  p-value: 9.761e-06\n"
      ]
     },
     "metadata": {},
     "output_type": "display_data"
    },
    {
     "data": {
      "text/plain": [
       "\n",
       "\tShapiro-Wilk normality test\n",
       "\n",
       "data:  resid(YVar.lm)\n",
       "W = 0.93342, p-value = 3.233e-11\n"
      ]
     },
     "metadata": {},
     "output_type": "display_data"
    }
   ],
   "source": [
    "## multiple OLS.\n",
    "YVar.lm <- lm(YVar ~ EXVar1+EXVar2+EXVar3+EXVar4)\n",
    "\n",
    "## OLS summary.\n",
    "summary(YVar.lm)\n",
    "\n",
    "## Shapiro test.\n",
    "shapiro.test(resid(YVar.lm))"
   ]
  },
  {
   "cell_type": "markdown",
   "metadata": {},
   "source": [
    "## Diagnostics"
   ]
  },
  {
   "cell_type": "code",
   "execution_count": 111,
   "metadata": {},
   "outputs": [
    {
     "name": "stderr",
     "output_type": "stream",
     "text": [
      "`stat_bin()` using `bins = 30`. Pick better value with `binwidth`.\n",
      "\n"
     ]
    },
    {
     "data": {
      "image/png": "[encoded data removed]",
      "text/plain": [
       "plot without title"
      ]
     },
     "metadata": {
      "image/png": {
       "height": 360,
       "width": 360
      }
     },
     "output_type": "display_data"
    }
   ],
   "source": [
    "ggplot() + \n",
    "  geom_histogram(mapping = aes(x=resid(YVar.lm))) +\n",
    "  xlab(\"OLS residuals\")"
   ]
  },
  {
   "cell_type": "code",
   "execution_count": 112,
   "metadata": {
    "scrolled": true
   },
   "outputs": [
    {
     "data": {
      "text/html": [
       "<style>\n",
       ".list-inline {list-style: none; margin:0; padding: 0}\n",
       ".list-inline>li {display: inline-block}\n",
       ".list-inline>li:not(:last-child)::after {content: \"\\00b7\"; padding: 0 .5ex}\n",
       "</style>\n",
       "<ol class=list-inline><li>152</li><li>330</li></ol>\n"
      ],
      "text/latex": [
       "\\begin{enumerate*}\n",
       "\\item 152\n",
       "\\item 330\n",
       "\\end{enumerate*}\n"
      ],
      "text/markdown": [
       "1. 152\n",
       "2. 330\n",
       "\n",
       "\n"
      ],
      "text/plain": [
       "[1] 152 330"
      ]
     },
     "metadata": {},
     "output_type": "display_data"
    },
    {
     "data": {
      "image/png": "[encoded data removed]",
      "text/plain": [
       "plot without title"
      ]
     },
     "metadata": {
      "image/png": {
       "height": 360,
       "width": 360
      }
     },
     "output_type": "display_data"
    }
   ],
   "source": [
    "#QQ plot\n",
    "qqPlot(YVar.lm)"
   ]
  },
  {
   "cell_type": "code",
   "execution_count": 113,
   "metadata": {
    "scrolled": true
   },
   "outputs": [
    {
     "data": {
      "image/png": "[encoded data removed]",
      "text/plain": [
       "plot without title"
      ]
     },
     "metadata": {
      "image/png": {
       "height": 360,
       "width": 360
      }
     },
     "output_type": "display_data"
    }
   ],
   "source": [
    "plot(resid(YVar.lm))"
   ]
  },
  {
   "cell_type": "markdown",
   "metadata": {},
   "source": [
    "### Test Residuals for Autocorrelation\n",
    "\n",
    "Next, test the residuals for presence of spatial autocorrelation.  How can this result be interpreted? Perhaps there is some autocorrelation at work in the residuals. If that's the case, then the assumptions of OLS have been violated."
   ]
  },
  {
   "cell_type": "code",
   "execution_count": 117,
   "metadata": {},
   "outputs": [
    {
     "data": {
      "text/plain": [
       "\n",
       "\tMoran I test under randomisation\n",
       "\n",
       "data:  YVar.lm.res  \n",
       "weights: xy.listB    \n",
       "\n",
       "Moran I statistic standard deviate = 6.2037, p-value = 2.758e-10\n",
       "alternative hypothesis: greater\n",
       "sample estimates:\n",
       "Moran I statistic       Expectation          Variance \n",
       "      0.406971105      -0.002941176       0.004365996 \n"
      ]
     },
     "metadata": {},
     "output_type": "display_data"
    }
   ],
   "source": [
    "## Retrieve residuals.\n",
    "YVar.lm.res <- residuals(YVar.lm)\n",
    "\n",
    "## Apply Moran test.\n",
    "moran.test(YVar.lm.res, xy.listB)"
   ]
  },
  {
   "cell_type": "markdown",
   "metadata": {},
   "source": [
    "## Spatial Simultaneous Autoregressive (SAR) Model\n",
    "\n",
    "The SAR specification builds upon the OLS specification in that it accounts for the spatial weights among the features (row standardized - W) as an explanatory variable and estimates a coefficient for spatial autocorrelation (rho). The errorsarlm() function (spdep library) can be applied to specify a SAR model. \n",
    "\n",
    "The syntax for errorsarlm() is:\n",
    "\n",
    "    errorsarlm(formula, data=list(), listw, na.action, weights=NULL,\n",
    "    etype=\"error\", method=\"eigen\", quiet=NULL, zero.policy=NULL,\n",
    "    interval = NULL, tol.solve=1.0e-10, trs=NULL, control=list())\n",
    "\n",
    "\n",
    "The errorsarlm() function requires the dependent and independent variables in the form of a 'formula' as well as the neighborhood list 'listw'.\n",
    "\n",
    "Conduct the SAR analysis below.  Are there any indications of positive spatial autocorrelation?  Does the SAR model improve upon the amount of variance that is accounted for? How can you tell?\n",
    "\n",
    "Note that the standard errors in the OLS specification are lower than in the SAR specification. This shows that not accounting for spatial autocorrelation makes the OLS results falsely appear to be stronger than they really are!\n",
    "\n",
    "Finally, examine normality of the residuals. There is still an indication of non-normality, but not as extreme as before."
   ]
  },
  {
   "cell_type": "code",
   "execution_count": 118,
   "metadata": {},
   "outputs": [
    {
     "data": {
      "text/plain": [
       "\n",
       "Call:errorsarlm(formula = y.YVar ~ EXVar, listw = xy.listW)\n",
       "\n",
       "Residuals:\n",
       "      Min        1Q    Median        3Q       Max \n",
       "-0.587498 -0.074243  0.010447  0.095112  0.405932 \n",
       "\n",
       "Type: error \n",
       "Coefficients: (asymptotic standard errors) \n",
       "            Estimate Std. Error z value Pr(>|z|)\n",
       "(Intercept) 0.562026   0.023640  23.774   <2e-16\n",
       "EXVar       0.026894   0.041957   0.641   0.5215\n",
       "\n",
       "Lambda: 0.30709, LR test value: 47.743, p-value: 4.8589e-12\n",
       "Asymptotic standard error: 0.038894\n",
       "    z-value: 7.8955, p-value: 2.8866e-15\n",
       "Wald statistic: 62.34, p-value: 2.8866e-15\n",
       "\n",
       "Log likelihood: 134.9839 for error model\n",
       "ML residual variance (sigma squared): 0.02522, (sigma: 0.15881)\n",
       "Number of observations: 341 \n",
       "Number of parameters estimated: 4 \n",
       "AIC: -261.97, (AIC for lm: -216.22)\n"
      ]
     },
     "metadata": {},
     "output_type": "display_data"
    },
    {
     "data": {
      "text/plain": [
       "\n",
       "\tShapiro-Wilk normality test\n",
       "\n",
       "data:  YVar.sar1.res\n",
       "W = 0.94852, p-value = 1.562e-09\n"
      ]
     },
     "metadata": {},
     "output_type": "display_data"
    }
   ],
   "source": [
    "## SAR model.\n",
    "YVar.sar1 <- errorsarlm(y.YVar ~ EXVar, listw=xy.listW)\n",
    "\n",
    "## Summary of SAR model.\n",
    "summary(YVar.sar1)\n",
    "\n",
    "## obtain the model residuals.\n",
    "YVar.sar1.res <- residuals(YVar.sar1)\n",
    "\n",
    "## Conduct the Shapiro test.\n",
    "shapiro.test(YVar.sar1.res)"
   ]
  },
  {
   "cell_type": "markdown",
   "metadata": {},
   "source": [
    "### Test Residuals for Autocorrelation\n",
    "\n",
    "Test the SAR residuals for presence of spatial autocorrelation.  How does this result differ from the Moran test applied to the OLS residuals?"
   ]
  },
  {
   "cell_type": "code",
   "execution_count": 119,
   "metadata": {},
   "outputs": [
    {
     "data": {
      "text/plain": [
       "\n",
       "\tMoran I test under randomisation\n",
       "\n",
       "data:  YVar.sar1.res  \n",
       "weights: xy.listB    \n",
       "\n",
       "Moran I statistic standard deviate = -0.37453, p-value = 0.646\n",
       "alternative hypothesis: greater\n",
       "sample estimates:\n",
       "Moran I statistic       Expectation          Variance \n",
       "     -0.027718472      -0.002941176       0.004376485 \n"
      ]
     },
     "metadata": {},
     "output_type": "display_data"
    }
   ],
   "source": [
    "## Apply Moran test to SAR residuals.\n",
    "moran.test(YVar.sar1.res, xy.listB)"
   ]
  },
  {
   "cell_type": "markdown",
   "metadata": {},
   "source": [
    "### Visualize the Fitted Values (SAR) Model\n",
    "\n",
    "Visualize the fitted SAR values, being sure that the values are back-transformed into their original measurement units prior to mapping."
   ]
  },
  {
   "cell_type": "markdown",
   "metadata": {},
   "source": [
    "#### Back-Transformation\n",
    "\n",
    "Back-transformation is the process of reversing a transformation that was previously applied to a dataset.  \n",
    "\n",
    "Recall that earlier we transformed 'Y.Var' by powering to 'lambdapwr' (which was 1/3 in the earlier example).  To back-transform the fitted values, we will therefore need to power them to 1/'lambdapwr' (e.g., 1/(1/3) per our earlier example."
   ]
  },
  {
   "cell_type": "code",
   "execution_count": 120,
   "metadata": {},
   "outputs": [],
   "source": [
    "## Back-transform fitted values into original measurement units.\n",
    "bt.YVar.sar1 <- YVar.sar1$fitted^(1/lambdapwr)"
   ]
  },
  {
   "cell_type": "markdown",
   "metadata": {},
   "source": [
    "Now, map the back-transformed fitted values."
   ]
  },
  {
   "cell_type": "code",
   "execution_count": 121,
   "metadata": {},
   "outputs": [
    {
     "data": {
      "image/png": "[encoded data removed]",
      "text/plain": [
       "Plot with title \"Fitted Values - SAR Model\""
      ]
     },
     "metadata": {
      "image/png": {
       "height": 360,
       "width": 360
      }
     },
     "output_type": "display_data"
    }
   ],
   "source": [
    "## Classify the variable.\n",
    "numcat <- 5\n",
    "cate <- classIntervals(bt.YVar.sar1, numcat, style=\"quantile\")\n",
    "\n",
    "## Assign colors to categories.\n",
    "pal <- brewer.pal(numcat,\"Reds\")\n",
    "cols <- findColours(cate,pal)\n",
    "\n",
    "## Visualize fitted SAR values.\n",
    "plot(inFeatures, col=cols, lwd=.2,main=\"Fitted Values - SAR Model\",cex.main=.8)\n",
    "brks <- round(cate$brks,3)\n",
    "leg <- paste(brks[-(numcat+1)], brks[-1], sep=\" - \")\n",
    "legend(\"bottomleft\", fill=pal, legend=leg, bty=\"n\",title=\"Fitted Values\",cex=.7)"
   ]
  },
  {
   "cell_type": "markdown",
   "metadata": {},
   "source": [
    "### Examine Correlation Among the Variables\n",
    "\n",
    "Next, examine the correlation between the dependent and independent variables using the Pearson Correlation Coefficient. This can be done using R's corr() function. As can be observed, the correlation is negative, meaning that as one variable increases, the other decreases. However, given that spatial autocorrelation was detected in the model, this is suspect and can indicated that spatial autocorrelation is affecting the variables themselves. Given this, we can now examine each of the variables for spatial autocorrelation."
   ]
  },
  {
   "cell_type": "code",
   "execution_count": 122,
   "metadata": {},
   "outputs": [
    {
     "data": {
      "text/html": [
       "<span style=white-space:pre-wrap>'Pearson Correlation =  -0.0391672385927787'</span>"
      ],
      "text/latex": [
       "'Pearson Correlation =  -0.0391672385927787'"
      ],
      "text/markdown": [
       "<span style=white-space:pre-wrap>'Pearson Correlation =  -0.0391672385927787'</span>"
      ],
      "text/plain": [
       "[1] \"Pearson Correlation =  -0.0391672385927787\""
      ]
     },
     "metadata": {},
     "output_type": "display_data"
    }
   ],
   "source": [
    "## Calculate Pearson product moment correlation coefficient.\n",
    "paste(\"Pearson Correlation = \",cor(y.YVar, EXVar))"
   ]
  },
  {
   "cell_type": "markdown",
   "metadata": {},
   "source": [
    "## Estimate SAR Model for Each Variable\n",
    "\n",
    "This time, let's apply a SAR model to both variables (dependent and explanatory) individually and simply examine the impact of the spatial weights. The rho or lambda parameter estimated by the SAR models can then be returned. Note that for both variables, rho (lambda) is significant, indicating spatial autocorrelation is at work in both of the variables."
   ]
  },
  {
   "cell_type": "code",
   "execution_count": 123,
   "metadata": {},
   "outputs": [
    {
     "data": {
      "text/plain": [
       "\n",
       "Call:errorsarlm(formula = y.YVar ~ 1, listw = xy.listW)\n",
       "\n",
       "Residuals:\n",
       "       Min         1Q     Median         3Q        Max \n",
       "-0.5939857 -0.0740124  0.0097152  0.0968780  0.3955488 \n",
       "\n",
       "Type: error \n",
       "Coefficients: (asymptotic standard errors) \n",
       "            Estimate Std. Error z value  Pr(>|z|)\n",
       "(Intercept) 0.574930   0.012323  46.656 < 2.2e-16\n",
       "\n",
       "Lambda: 0.30098, LR test value: 47.879, p-value: 4.5339e-12\n",
       "Asymptotic standard error: 0.039092\n",
       "    z-value: 7.6993, p-value: 1.3767e-14\n",
       "Wald statistic: 59.28, p-value: 1.3656e-14\n",
       "\n",
       "Log likelihood: 134.79 for error model\n",
       "ML residual variance (sigma squared): 0.025302, (sigma: 0.15906)\n",
       "Number of observations: 341 \n",
       "Number of parameters estimated: 3 \n",
       "AIC: -263.58, (AIC for lm: -217.7)\n"
      ]
     },
     "metadata": {},
     "output_type": "display_data"
    },
    {
     "data": {
      "text/html": [
       "<span style=white-space:pre-wrap>'Lambda =  0.300983876185429'</span>"
      ],
      "text/latex": [
       "'Lambda =  0.300983876185429'"
      ],
      "text/markdown": [
       "<span style=white-space:pre-wrap>'Lambda =  0.300983876185429'</span>"
      ],
      "text/plain": [
       "[1] \"Lambda =  0.300983876185429\""
      ]
     },
     "metadata": {},
     "output_type": "display_data"
    },
    {
     "data": {
      "text/plain": [
       "\n",
       "Call:errorsarlm(formula = EXVar ~ 1, listw = xy.listW)\n",
       "\n",
       "Residuals:\n",
       "       Min         1Q     Median         3Q        Max \n",
       "-0.6363323 -0.0994395 -0.0060996  0.1325240  0.5673159 \n",
       "\n",
       "Type: error \n",
       "Coefficients: (asymptotic standard errors) \n",
       "            Estimate Std. Error z value  Pr(>|z|)\n",
       "(Intercept)  0.46855    0.02061  22.734 < 2.2e-16\n",
       "\n",
       "Lambda: 0.51367, LR test value: 157.44, p-value: < 2.22e-16\n",
       "Asymptotic standard error: 0.030227\n",
       "    z-value: 16.994, p-value: < 2.22e-16\n",
       "Wald statistic: 288.79, p-value: < 2.22e-16\n",
       "\n",
       "Log likelihood: 64.71915 for error model\n",
       "ML residual variance (sigma squared): 0.03426, (sigma: 0.1851)\n",
       "Number of observations: 341 \n",
       "Number of parameters estimated: 3 \n",
       "AIC: -123.44, (AIC for lm: 32.006)\n"
      ]
     },
     "metadata": {},
     "output_type": "display_data"
    },
    {
     "data": {
      "text/html": [
       "<span style=white-space:pre-wrap>'Lambda =  0.513665158566656'</span>"
      ],
      "text/latex": [
       "'Lambda =  0.513665158566656'"
      ],
      "text/markdown": [
       "<span style=white-space:pre-wrap>'Lambda =  0.513665158566656'</span>"
      ],
      "text/plain": [
       "[1] \"Lambda =  0.513665158566656\""
      ]
     },
     "metadata": {},
     "output_type": "display_data"
    }
   ],
   "source": [
    "## Estimate SAR autocorrelation parameter for Y variable.\n",
    "YVar.sar2 <- errorsarlm(y.YVar ~ 1, listw=xy.listW)\n",
    "summary(YVar.sar2)\n",
    "paste(\"Lambda = \",YVar.sar2$lambda)\n",
    "\n",
    "\n",
    "## Estimate SAR autocorrelation parameter for X variable.\n",
    "EXVar.sar2 <- errorsarlm(EXVar ~ 1, listw=xy.listW)\n",
    "summary(EXVar.sar2)\n",
    "paste(\"Lambda = \",EXVar.sar2$lambda)"
   ]
  },
  {
   "cell_type": "markdown",
   "metadata": {},
   "source": [
    "### Adjust Variables for Spatial Autocorrelation\n",
    "\n",
    "Use the rho (lambda) parameters estimate above to adjust the dependent and explanatory variables for autocorrelation. This task can be accomplished is illustrated below. Basically, the dependent and independent variables are adjusted by subtracting them by the product of rho (lambda) and the spatial weights matrix (as a lag vector). The lag vector can be created using the lag.listw() function ('spdep' library). After the adjustment is made, re-assess the correlation between the adjusted variables. \n",
    "\n",
    "Note that after adjusting for spatial autocorrelation in each variable, the correlation is very much reduced from that computed earlier based on the unadjusted variables. Therefore, it is clear that if spatial autocorrelation was not accounted for, the correlation would appear to be much higher than it actually is."
   ]
  },
  {
   "cell_type": "code",
   "execution_count": 125,
   "metadata": {},
   "outputs": [
    {
     "data": {
      "text/html": [
       "0.0722504362862789"
      ],
      "text/latex": [
       "0.0722504362862789"
      ],
      "text/markdown": [
       "0.0722504362862789"
      ],
      "text/plain": [
       "[1] 0.07225044"
      ]
     },
     "metadata": {},
     "output_type": "display_data"
    }
   ],
   "source": [
    "## Adjust for spatial autocorrelation.\n",
    "YVar.sa <- y.YVar - YVar.sar2$lambda * lag.listw(xy.listW,y.YVar)\n",
    "EXVar.sa <- EXVar - EXVar.sar2$lambda * lag.listw(xy.listW,EXVar)\n",
    "\n",
    "## Recompute adjusted Pearson product moment correlation coefficient.\n",
    "cor(YVar.sa,EXVar.sa)"
   ]
  },
  {
   "cell_type": "markdown",
   "metadata": {},
   "source": [
    "### Spatially Adjusted OLS\n",
    "\n",
    "Use the variables adjusted for spatial autocorrelation ('YVar.sa' and 'EXVar.sa') in a new OLS model. How do the results differ from the linear model estimated earlier with unadjusted variables?"
   ]
  },
  {
   "cell_type": "code",
   "execution_count": 126,
   "metadata": {},
   "outputs": [
    {
     "data": {
      "text/plain": [
       "\n",
       "Call:\n",
       "lm(formula = YVar.sa ~ EXVar.sa)\n",
       "\n",
       "Residuals:\n",
       "     Min       1Q   Median       3Q      Max \n",
       "-0.59726 -0.07529  0.01125  0.09648  0.40493 \n",
       "\n",
       "Coefficients:\n",
       "            Estimate Std. Error t value Pr(>|t|)    \n",
       "(Intercept)  0.38774    0.01367  28.371   <2e-16 ***\n",
       "EXVar.sa     0.06209    0.04655   1.334    0.183    \n",
       "---\n",
       "Signif. codes:  0 '***' 0.001 '**' 0.01 '*' 0.05 '.' 0.1 ' ' 1\n",
       "\n",
       "Residual standard error: 0.1591 on 339 degrees of freedom\n",
       "Multiple R-squared:  0.00522,\tAdjusted R-squared:  0.002286 \n",
       "F-statistic: 1.779 on 1 and 339 DF,  p-value: 0.1832\n"
      ]
     },
     "metadata": {},
     "output_type": "display_data"
    }
   ],
   "source": [
    "## Apply linear model after adjusting for spatial autocorrelation.\n",
    "YVar.lm.sa <- lm(YVar.sa ~ EXVar.sa)\n",
    "\n",
    "## Summarize model.\n",
    "summary(YVar.lm.sa)"
   ]
  },
  {
   "cell_type": "markdown",
   "metadata": {},
   "source": [
    "### Evaluate Adjusted Regression Residuals for Normality\n",
    "\n",
    "Apply normality diagnostics to test the residuals of the adjusted linear model.  Can the null hypothesis that the residuals are normally distributed be rejected at the 0.05 confidence level?"
   ]
  },
  {
   "cell_type": "code",
   "execution_count": 127,
   "metadata": {},
   "outputs": [
    {
     "data": {
      "text/plain": [
       "\n",
       "\tShapiro-Wilk normality test\n",
       "\n",
       "data:  residuals(YVar.lm.sa)\n",
       "W = 0.95372, p-value = 6.989e-09\n"
      ]
     },
     "metadata": {},
     "output_type": "display_data"
    }
   ],
   "source": [
    "## Compute normality diagnostics.\n",
    "shapiro.test(residuals(YVar.lm.sa))"
   ]
  },
  {
   "cell_type": "markdown",
   "metadata": {},
   "source": [
    "### Evaluate Adjusted Regression Residuals for Spatial Autocorrelation\n",
    "\n",
    "Test the residuals to see if spatial autocorrelation was effectively treated by the adjustment process.  Well, was it? How can you tell?"
   ]
  },
  {
   "cell_type": "code",
   "execution_count": 129,
   "metadata": {},
   "outputs": [
    {
     "data": {
      "text/plain": [
       "\n",
       "\tMoran I test under randomisation\n",
       "\n",
       "data:  residuals(YVar.lm.sa)  \n",
       "weights: xy.listB    \n",
       "\n",
       "Moran I statistic standard deviate = 0.0013104, p-value = 0.4995\n",
       "alternative hypothesis: greater\n",
       "sample estimates:\n",
       "Moran I statistic       Expectation          Variance \n",
       "     -0.002854463      -0.002941176       0.004379085 \n"
      ]
     },
     "metadata": {},
     "output_type": "display_data"
    }
   ],
   "source": [
    "## Apply Moran test to residuals.\n",
    "moran.test(residuals(YVar.lm.sa), xy.listB)"
   ]
  },
  {
   "cell_type": "markdown",
   "metadata": {},
   "source": [
    "# SAVE YOUR NOTEBOOK, then `File > Close and Halt`"
   ]
  },
  {
   "attachments": {
    "copyright.png": {
     "image/png": "[encoded data removed]"
    }
   },
   "cell_type": "markdown",
   "metadata": {},
   "source": [
    "![copyright.png](attachment:copyright.png)"
   ]
  }
 ],
 "metadata": {
  "kernelspec": {
   "display_name": "R",
   "language": "R",
   "name": "ir"
  },
  "language_info": {
   "codemirror_mode": "r",
   "file_extension": ".r",
   "mimetype": "text/x-r-source",
   "name": "R",
   "pygments_lexer": "r",
   "version": "4.1.3"
  }
 },
 "nbformat": 4,
 "nbformat_minor": 2
}
