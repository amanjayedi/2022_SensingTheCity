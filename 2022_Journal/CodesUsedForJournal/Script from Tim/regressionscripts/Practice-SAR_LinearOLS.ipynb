{
 "cells": [
  {
   "cell_type": "markdown",
   "metadata": {},
   "source": [
    "# Practice - SAR Linear Regression"
   ]
  },
  {
   "cell_type": "markdown",
   "metadata": {},
   "source": [
    "## Spatially Adjusted Regression - Linear Regression\n",
    "\n",
    "Ordinary Least Squares vs Spatial Simultaneous Autoregressive Models\n",
    "\n",
    "In this practice, it is assumed that we are working under the normal probability model. The goals of this practice are to:\n",
    "\n",
    "a) evaluate a standard OLS regression using a continuous dependent variable when spatial autocorrelation may be present, and \n",
    "\n",
    "b) evaluate the same relationships given the ability to adjust for spatial autocorrelation using the rho term obtained from a simultaneous autoregressive error model."
   ]
  },
  {
   "cell_type": "markdown",
   "metadata": {},
   "source": [
    "### Load relevant libraries\n",
    "\n",
    "Documentation for the R libraries used in this notebook can be found at: \n",
    "   \n",
    "  \n",
    "  - [rgdal library](https://web.dsa.missouri.edu/static/PDF/R/rgdal.pdf)   \n",
    "  \n",
    "  - [classInt library](https://web.dsa.missouri.edu/static/PDF/R/classInt.pdf)\n",
    "  \n",
    "  - [spdep library](https://web.dsa.missouri.edu/static/PDF/R/spdep.pdf)\n",
    "  \n",
    "  - [RColorBrewer library](https://web.dsa.missouri.edu/static/PDF/R/RColorBrewer.pdf)\n",
    "  \n",
    "  - [geoR library](https://web.dsa.missouri.edu/static/PDF/R/geoR.pdf)\n",
    "  \n",
    "  - [car library](https://web.dsa.missouri.edu/static/PDF/R/car.pdf)\n",
    "  \n",
    "  - [MASS library](https://web.dsa.missouri.edu/static/PDF/R/MASS.pdf)"
   ]
  },
  {
   "cell_type": "code",
   "execution_count": 1,
   "metadata": {},
   "outputs": [],
   "source": [
    "## Load relevant R packages.\n",
    "inLibraries = list('repr','rgdal','spdep','spatialreg','classInt','car','RColorBrewer','MASS','geoR')\n",
    "for (rpack in inLibraries) {\n",
    "  if (is.element(rpack,installed.packages()[,1])){           \n",
    "      #Load the library into R\n",
    "      suppressMessages(library(rpack,character.only = TRUE))\n",
    "    }\n",
    "    else {\n",
    "        print(paste(\"Warning:  \",rpack,\" is not an installed package\"))\n",
    "    }\n",
    "}\n",
    "\n",
    "## Resize plot area.\n",
    "options(repr.plot.width=6, repr.plot.height=6)"
   ]
  },
  {
   "cell_type": "markdown",
   "metadata": {},
   "source": [
    "## US Farming Data\n",
    "\n",
    "In this practice, we will be working with county data on agricultural practices in the USA (usagriculture/usfarming.shp). Elements of this dataset were obtained from the 2012 [US Ag. Census](https://web.dsa.missouri.edu/static/PDF/R/Ag_Census_Map_documentation_07172015.pdf) ; External source: https://agcensus.library.cornell.edu/census_year/2012-census/. The fields in this dataset may seem kinda mystical, but they are documented in depth at the website noted above (download the associated [Ag. Census Excel](https://web.dsa.missouri.edu/static/PDF/R/Ag_Census_Map_data_07172015.xlsx).\n",
    "\n",
    "There is also a field in the ag. census polygons named 'GRIDCODE', which reflects mean annual precipitation between 1990 and 2009 for each county. The original precipitation data was obtained from (USGS United States Average Annual Precipitation 1990-2009, data can be found at - External source: https://data.globalchange.gov/dataset/usgs-united-states-average-annual-precipitation-1990-2009). The precip. data were then spatially joined to the county polygons.\n",
    "\n",
    "Note: By all means, this is not really a large dataset (3070 records), however, since all operations will be conducted on a remote server, the size of the data coupled with the complexity of the methods could result in longer times required to obtain the results for each step.\n",
    "\n",
    "First, read in the county level data."
   ]
  },
  {
   "cell_type": "code",
   "execution_count": 2,
   "metadata": {},
   "outputs": [
    {
     "name": "stdout",
     "output_type": "stream",
     "text": [
      "OGR data source with driver: ESRI Shapefile \n",
      "Source: \"C:\\Users\\ja2qm\\MIZZOU\\_MotherFolderAmanWorks\\Aman thesis works\\_1_FinalTopic\\_CAADRIA2022\\Paper_2\\SensingTheCity_Stat_R_TimScript\\Script from Tim\\usfarmsdata\", layer: \"usfarming\"\n",
      "with 3070 features\n",
      "It has 93 fields\n",
      "Integer64 fields read as strings:  Join_Count TARGET_FID cntyn ID GRIDCODE \n"
     ]
    }
   ],
   "source": [
    "## Read in the featureclass.\n",
    "#inFeatures <- readOGR(\"/dsa/data/geospatial/DS8612/usagriculture\",\"usfarming\",GDAL1_integer64_policy=TRUE)\n",
    "inFeatures <- readOGR(dsn=\"C:/Users/ja2qm/MIZZOU/_MotherFolderAmanWorks/Aman thesis works/_1_FinalTopic/_CAADRIA2022/Paper_2/SensingTheCity_Stat_R_TimScript/Script from Tim/usfarmsdata\", layer=\"usfarming\")"
   ]
  },
  {
   "cell_type": "markdown",
   "metadata": {},
   "source": [
    "## Subset Features\n",
    "\n",
    "As agricultural conditions vary considerably over the U.S., let's select a specific state to analyze - California.\n",
    "\n",
    "Note, that state names are not explicitly included in the dataset. However, the FIPS (Federal Information Processing Specification) code for each county is provided. Typically, the first two digits of a FIPS code reflect the state id number while the last three reflect a specific county within a state.  In this dataset, the 'atlas_stco' field contains the FIPS code as a character variable. Thus, in order to select the first two characters associated with a particular state, we need some way to match one portion of a string to another. There are several ways to do this. In this case, first a new field is added to the dataframe 'stcode' and populated with the first two characters in the 'atlas_stco' field which is the FIPS code. Next, grep() is used to select the FIPS code prefixes which correspond with the FIPS code of California ('06')."
   ]
  },
  {
   "cell_type": "code",
   "execution_count": 3,
   "metadata": {},
   "outputs": [
    {
     "data": {
      "image/png": "[encoded data removed]",
      "text/plain": [
       "Plot with title \"California Counties\""
      ]
     },
     "metadata": {
      "image/png": {
       "height": 360,
       "width": 360
      }
     },
     "output_type": "display_data"
    }
   ],
   "source": [
    "## Add new column to data frame and populate with first two numbers of FIPS code.\n",
    "inFeatures@data$stcode <- substr(inFeatures@data$atlas_stco, start=1, stop=2)\n",
    "\n",
    "## Select features with a state fips code beginning with...\n",
    "inFeaturesSubsetA <- inFeatures[grep(\"06\", inFeatures@data$stcode), ]\n",
    "\n",
    "## Plot the state selected.\n",
    "plot(inFeaturesSubsetA,col=\"lightblue\", lwd=.2, main=\"California Counties\",cex.main=.8)"
   ]
  },
  {
   "cell_type": "markdown",
   "metadata": {},
   "source": [
    "## Generate Neighborhoods for Features\n",
    "\n",
    "Generate neighborhoods for each feature according to the Queen's Criterion.  Then test the neighborhoods to see if they are valid.  Retain only the features with valid neighborhoods."
   ]
  },
  {
   "cell_type": "code",
   "execution_count": 4,
   "metadata": {},
   "outputs": [],
   "source": [
    "## Identify the neighbors of each feature.\n",
    "inFeaturesSubsetA.nb <- poly2nb(inFeaturesSubsetA ,queen=TRUE)\n",
    "\n",
    "## Select features with at least one neighbor.\n",
    "inFeaturesSubset <- inFeaturesSubsetA[card(inFeaturesSubsetA.nb) >= 1, ]\n",
    "\n",
    "## Identify the neighbors of each feature having at least one neighbor.\n",
    "inFeaturesSubset.nb <- poly2nb(inFeaturesSubset, queen=TRUE)\n",
    "\n",
    "## Create a binary weighted neighbors list\n",
    "inFeaturesSubset.listb <- nb2listw(inFeaturesSubset.nb,style=\"B\")\n",
    "## Create a row standardized weighted neighbors list\n",
    "inFeaturesSubset.listw <- nb2listw(inFeaturesSubset.nb,style=\"W\")"
   ]
  },
  {
   "cell_type": "markdown",
   "metadata": {},
   "source": [
    "## Analysis Variables\n",
    "\n",
    "Configure the variables to analyze. \n",
    "\n",
    "In this practice, the dependent variable is 'y12_M082_1' (acres of irrigated land as percent of land in farms acreage (year 2012)) and the explanatory variable will be 'GRIDCODE' (mean annual rainfall 1990-2009). "
   ]
  },
  {
   "cell_type": "code",
   "execution_count": 5,
   "metadata": {},
   "outputs": [],
   "source": [
    "## Response variable.\n",
    "YVar <- inFeaturesSubset$y12_M082_1\n",
    "\n",
    "## Explanatory variable.\n",
    "EXVar <- inFeaturesSubset$GRIDCODE"
   ]
  },
  {
   "cell_type": "markdown",
   "metadata": {},
   "source": [
    "## Examine Characteristics of Variables\n",
    "\n",
    "Produce a scatterplot of the dependent variable (y-axis) and the explanatory variable (x-axis). What can be observed? Well, it seems that there is some trend manifesting here. The Shapiro test however indicates the dependent variable is likely not normal as the null hypothesis can be rejected. Although that's not a huge concern at this point, the dependent variable can be transformed to make it more linear."
   ]
  },
  {
   "cell_type": "code",
   "execution_count": 6,
   "metadata": {},
   "outputs": [
    {
     "data": {
      "text/plain": [
       "\n",
       "\tShapiro-Wilk normality test\n",
       "\n",
       "data:  YVar\n",
       "W = 0.91452, p-value = 0.0005848\n"
      ]
     },
     "metadata": {},
     "output_type": "display_data"
    },
    {
     "data": {
      "image/png": "[encoded data removed]",
      "text/plain": [
       "Plot with title \"% Irrigated Land vs Mean Rainfall\""
      ]
     },
     "metadata": {
      "image/png": {
       "height": 360,
       "width": 360
      }
     },
     "output_type": "display_data"
    }
   ],
   "source": [
    "## Scatter plot of model variables.\n",
    "plot(EXVar,YVar,pch=19,main=\"% Irrigated Land vs Mean Rainfall\",cex.main=.8)\n",
    "\n",
    "## Conduct a shapiro test.\n",
    "shapiro.test(YVar)"
   ]
  },
  {
   "cell_type": "markdown",
   "metadata": {},
   "source": [
    "Remember, the individual components of the test statistic can be accessed as well.  Take a look at the structure of the test statistic output (i.e., str())."
   ]
  },
  {
   "cell_type": "code",
   "execution_count": null,
   "metadata": {},
   "outputs": [],
   "source": [
    "#Evaluate structure of test statistic result.\n",
    "str(shapiro.test(YVar))"
   ]
  },
  {
   "cell_type": "markdown",
   "metadata": {},
   "source": [
    "Thus, the individual components of the test statistic results can be accessed as we did in earlier modules."
   ]
  },
  {
   "cell_type": "code",
   "execution_count": 7,
   "metadata": {},
   "outputs": [
    {
     "name": "stdout",
     "output_type": "stream",
     "text": [
      "        W \n",
      "0.9145197 \n",
      "$statistic\n",
      "        W \n",
      "0.9145197 \n",
      "\n"
     ]
    }
   ],
   "source": [
    "#Access statistic attribute by name.\n",
    "print(shapiro.test(YVar)$statistic)\n",
    "\n",
    "#Access statistic attribute by index.\n",
    "print(shapiro.test(YVar)[1])"
   ]
  },
  {
   "cell_type": "markdown",
   "metadata": {},
   "source": [
    "### Transform the Dependent Variable\n",
    "\n",
    "Here, the dependent variable is powered to adjust the distribution."
   ]
  },
  {
   "cell_type": "code",
   "execution_count": 8,
   "metadata": {},
   "outputs": [
    {
     "data": {
      "image/png": "[encoded data removed]",
      "text/plain": [
       "Plot with title \"% Irrigated Land vs Mean Rainfall\""
      ]
     },
     "metadata": {
      "image/png": {
       "height": 360,
       "width": 360
      }
     },
     "output_type": "display_data"
    },
    {
     "data": {
      "image/png": "[encoded data removed]",
      "text/plain": [
       "Plot with title \"Histogram of y.YVar\""
      ]
     },
     "metadata": {
      "image/png": {
       "height": 360,
       "width": 360
      }
     },
     "output_type": "display_data"
    }
   ],
   "source": [
    "### Power transformation applied.\n",
    "lambdapwr <- (1/3)\n",
    "y.YVar <- YVar^(lambdapwr)\n",
    "\n",
    "## Scatterplot of model variables.\n",
    "plot(EXVar,y.YVar,pch=19,main=\"% Irrigated Land vs Mean Rainfall\",cex.main=.8)\n",
    "\n",
    "## Histogram of dependent variable.\n",
    "hist(y.YVar)"
   ]
  },
  {
   "cell_type": "markdown",
   "metadata": {},
   "source": [
    "### Shapiro Test\n",
    "\n",
    "Test the dependent variable again and produce a Q-Q plot.  This time it looks like the null hypothesis is not as easily rejected. Feel free to experiment with the transformation and investigate whether a better transformation can be found. If you do find a better transformation, post it to the discussion page!"
   ]
  },
  {
   "cell_type": "code",
   "execution_count": 9,
   "metadata": {},
   "outputs": [
    {
     "data": {
      "text/plain": [
       "\n",
       "\tShapiro-Wilk normality test\n",
       "\n",
       "data:  y.YVar\n",
       "W = 0.95843, p-value = 0.04502\n"
      ]
     },
     "metadata": {},
     "output_type": "display_data"
    },
    {
     "ename": "ERROR",
     "evalue": "Error in shapiro.test(EXVar): is.numeric(x) is not TRUE\n",
     "output_type": "error",
     "traceback": [
      "Error in shapiro.test(EXVar): is.numeric(x) is not TRUE\nTraceback:\n",
      "1. shapiro.test(EXVar)",
      "2. stopifnot(is.numeric(x))"
     ]
    }
   ],
   "source": [
    "## Shapiro test.\n",
    "shapiro.test(y.YVar)\n",
    "shapiro.test(EXVar)\n",
    "\n",
    "## Default S3 method:\n",
    "qqnorm(y.YVar, main = \"Normal Q-Q Plot\",\n",
    "       xlab = \"Theoretical Quantiles\", ylab = \"Sample Quantiles\",\n",
    "       plot.it = TRUE, datax = FALSE)\n",
    "\n",
    "qqline(y.YVar, datax = FALSE)\n",
    "\n",
    "qqplot(EXVar, y.YVar, plot.it = TRUE, xlab = deparse(substitute(x)),\n",
    "       ylab = deparse(substitute(y.YVar)))"
   ]
  },
  {
   "cell_type": "markdown",
   "metadata": {},
   "source": [
    "# Normal Probability Models\n",
    "\n",
    "## Regular (OLS) Regression\n",
    "\n",
    "Let's first conduct a OLS linear regression.  \n",
    "\n",
    "Remember, OLS can be called using R's lm() function.  After the function is applied, the resid() function can be called to retrieve the modeled residuals.  Test the residuals to see if normality can be accepted...looks good to me."
   ]
  },
  {
   "cell_type": "code",
   "execution_count": 10,
   "metadata": {},
   "outputs": [
    {
     "data": {
      "text/plain": [
       "\n",
       "Call:\n",
       "lm(formula = y.YVar ~ EXVar)\n",
       "\n",
       "Residuals:\n",
       "    Min      1Q  Median      3Q     Max \n",
       "-1.1798 -0.2529  0.0000  0.2211  1.3008 \n",
       "\n",
       "Coefficients:\n",
       "              Estimate Std. Error t value Pr(>|t|)    \n",
       "(Intercept) -2.128e-15  7.527e-01   0.000 1.000000    \n",
       "EXVar12      4.452e+00  1.065e+00   4.182 0.000332 ***\n",
       "EXVar16      3.925e+00  1.065e+00   3.687 0.001156 ** \n",
       "EXVar17      2.781e+00  9.219e-01   3.016 0.005971 ** \n",
       "EXVar18      3.088e+00  8.692e-01   3.553 0.001616 ** \n",
       "EXVar20      2.929e+00  8.692e-01   3.370 0.002536 ** \n",
       "EXVar21      2.650e+00  8.416e-01   3.149 0.004341 ** \n",
       "EXVar22      4.023e+00  1.065e+00   3.779 0.000918 ***\n",
       "EXVar23      1.827e+00  1.065e+00   1.716 0.098964 .  \n",
       "EXVar24      3.142e+00  8.692e-01   3.615 0.001384 ** \n",
       "EXVar25      2.391e+00  1.065e+00   2.246 0.034167 *  \n",
       "EXVar26      2.398e+00  1.065e+00   2.253 0.033693 *  \n",
       "EXVar27      3.276e+00  8.692e-01   3.769 0.000943 ***\n",
       "EXVar28      2.845e-15  1.065e+00   0.000 1.000000    \n",
       "EXVar29      3.681e+00  1.065e+00   3.458 0.002043 ** \n",
       "EXVar30      2.965e+00  9.219e-01   3.216 0.003692 ** \n",
       "EXVar33      3.691e+00  9.219e-01   4.004 0.000522 ***\n",
       "EXVar34      1.419e+00  9.219e-01   1.539 0.136809    \n",
       "EXVar36      6.433e-01  9.219e-01   0.698 0.491988    \n",
       "EXVar37      1.803e+00  1.065e+00   1.694 0.103278    \n",
       "EXVar38      3.322e+00  9.219e-01   3.603 0.001425 ** \n",
       "EXVar40      2.102e+00  8.692e-01   2.418 0.023554 *  \n",
       "EXVar41      2.010e+00  8.692e-01   2.313 0.029628 *  \n",
       "EXVar44      3.312e+00  1.065e+00   3.111 0.004760 ** \n",
       "EXVar46      2.453e+00  9.219e-01   2.660 0.013693 *  \n",
       "EXVar48      2.331e+00  9.219e-01   2.528 0.018445 *  \n",
       "EXVar50      2.223e+00  1.065e+00   2.089 0.047528 *  \n",
       "EXVar51      3.529e+00  1.065e+00   3.315 0.002902 ** \n",
       "EXVar52      2.808e+00  1.065e+00   2.638 0.014414 *  \n",
       "EXVar56      3.069e+00  9.219e-01   3.330 0.002802 ** \n",
       "EXVar60      2.166e+00  1.065e+00   2.035 0.053081 .  \n",
       "EXVar64      1.495e+00  1.065e+00   1.404 0.173064    \n",
       "EXVar65      9.726e-01  1.065e+00   0.914 0.369988    \n",
       "EXVar74      1.421e+00  1.065e+00   1.335 0.194405    \n",
       "---\n",
       "Signif. codes:  0 '***' 0.001 '**' 0.01 '*' 0.05 '.' 0.1 ' ' 1\n",
       "\n",
       "Residual standard error: 0.7527 on 24 degrees of freedom\n",
       "Multiple R-squared:  0.7862,\tAdjusted R-squared:  0.4923 \n",
       "F-statistic: 2.675 on 33 and 24 DF,  p-value: 0.007299\n"
      ]
     },
     "metadata": {},
     "output_type": "display_data"
    },
    {
     "data": {
      "text/plain": [
       "\n",
       "\tShapiro-Wilk normality test\n",
       "\n",
       "data:  resid(YVar.lm)\n",
       "W = 0.9584, p-value = 0.04486\n"
      ]
     },
     "metadata": {},
     "output_type": "display_data"
    }
   ],
   "source": [
    "## Simple OLS.\n",
    "YVar.lm <- lm(y.YVar ~ EXVar)\n",
    "\n",
    "## OLS summary.\n",
    "summary(YVar.lm)\n",
    "\n",
    "## Shapiro test.\n",
    "shapiro.test(resid(YVar.lm))"
   ]
  },
  {
   "cell_type": "markdown",
   "metadata": {},
   "source": [
    "### Test Residuals for Autocorrelation\n",
    "\n",
    "Next, test the residuals for presence of spatial autocorrelation.  How can this result be interpreted? Perhaps there is some autocorrelation at work in the residuals. If that's the case, then the assumptions of OLS have been violated."
   ]
  },
  {
   "cell_type": "code",
   "execution_count": 11,
   "metadata": {},
   "outputs": [
    {
     "data": {
      "text/plain": [
       "\n",
       "\tMoran I test under randomisation\n",
       "\n",
       "data:  YVar.lm.res  \n",
       "weights: inFeaturesSubset.listb    \n",
       "\n",
       "Moran I statistic standard deviate = -1.0492, p-value = 0.853\n",
       "alternative hypothesis: greater\n",
       "sample estimates:\n",
       "Moran I statistic       Expectation          Variance \n",
       "     -0.102001511      -0.017543860       0.006479581 \n"
      ]
     },
     "metadata": {},
     "output_type": "display_data"
    }
   ],
   "source": [
    "## Retrieve residuals.\n",
    "YVar.lm.res <- residuals(YVar.lm)\n",
    "\n",
    "## Apply Moran test.\n",
    "moran.test(YVar.lm.res, inFeaturesSubset.listb)"
   ]
  },
  {
   "cell_type": "markdown",
   "metadata": {},
   "source": [
    "## Spatial Simultaneous Autoregressive (SAR) Model\n",
    "\n",
    "The SAR specification builds upon the OLS specification in that it accounts for the spatial weights among the features (row standardized - W) as an explanatory variable and estimates a coefficient for spatial autocorrelation (rho). The errorsarlm() function (spdep library) can be applied to specify a SAR model. \n",
    "\n",
    "The syntax for errorsarlm() is:\n",
    "\n",
    "    errorsarlm(formula, data=list(), listw, na.action, weights=NULL,\n",
    "    etype=\"error\", method=\"eigen\", quiet=NULL, zero.policy=NULL,\n",
    "    interval = NULL, tol.solve=1.0e-10, trs=NULL, control=list())\n",
    "\n",
    "\n",
    "The errorsarlm() function requires the dependent and independent variables in the form of a 'formula' as well as the neighborhood list 'listw'.\n",
    "\n",
    "Conduct the SAR analysis below.  Are there any indications of positive spatial autocorrelation?  Does the SAR model improve upon the amount of variance that is accounted for? How can you tell?\n",
    "\n",
    "Note that the standard errors in the OLS specification are lower than in the SAR specification. This shows that not accounting for spatial autocorrelation makes the OLS results falsely appear to be stronger than they really are!\n",
    "\n",
    "Finally, examine normality of the residuals. There is still an indication of non-normality, but not as extreme as before."
   ]
  },
  {
   "cell_type": "code",
   "execution_count": 12,
   "metadata": {},
   "outputs": [
    {
     "data": {
      "text/plain": [
       "\n",
       "Call:errorsarlm(formula = y.YVar ~ EXVar, listw = inFeaturesSubset.listw)\n",
       "\n",
       "Residuals:\n",
       "       Min         1Q     Median         3Q        Max \n",
       "-0.9246524 -0.2126271 -0.0066447  0.1860870  0.7586210 \n",
       "\n",
       "Type: error \n",
       "Coefficients: (asymptotic standard errors) \n",
       "            Estimate Std. Error z value  Pr(>|z|)\n",
       "(Intercept) -0.33441    0.70907 -0.4716 0.6372040\n",
       "EXVar12      5.36329    0.87235  6.1481 7.840e-10\n",
       "EXVar16      4.75914    0.84742  5.6160 1.954e-08\n",
       "EXVar17      3.30241    0.79653  4.1460 3.383e-05\n",
       "EXVar18      3.02333    0.73930  4.0895 4.324e-05\n",
       "EXVar20      3.62823    0.77236  4.6976 2.633e-06\n",
       "EXVar21      3.34599    0.72292  4.6285 3.684e-06\n",
       "EXVar22      4.67046    0.81064  5.7615 8.338e-09\n",
       "EXVar23      1.82041    0.86265  2.1103 0.0348358\n",
       "EXVar24      3.42762    0.74094  4.6260 3.727e-06\n",
       "EXVar25      3.50129    0.85342  4.1027 4.084e-05\n",
       "EXVar26      2.89931    0.85789  3.3796 0.0007259\n",
       "EXVar27      3.00950    0.71056  4.2354 2.282e-05\n",
       "EXVar28      0.10325    1.19584  0.0863 0.9311972\n",
       "EXVar29      3.94284    0.84851  4.6468 3.371e-06\n",
       "EXVar30      3.02542    0.76275  3.9665 7.294e-05\n",
       "EXVar33      3.94157    0.76831  5.1302 2.895e-07\n",
       "EXVar34      1.77094    0.76317  2.3205 0.0203125\n",
       "EXVar36      1.07798    0.76434  1.4103 0.1584413\n",
       "EXVar37      2.30623    0.98565  2.3398 0.0192941\n",
       "EXVar38      3.75303    0.77595  4.8367 1.320e-06\n",
       "EXVar40      2.46198    0.74936  3.2855 0.0010182\n",
       "EXVar41      2.14222    0.76118  2.8143 0.0048879\n",
       "EXVar44      3.92209    0.85280  4.5991 4.243e-06\n",
       "EXVar46      2.67496    0.79008  3.3857 0.0007100\n",
       "EXVar48      2.39827    0.76541  3.1333 0.0017284\n",
       "EXVar50      2.60455    0.85584  3.0432 0.0023404\n",
       "EXVar51      4.85203    0.79942  6.0694 1.284e-09\n",
       "EXVar52      3.41091    1.08402  3.1465 0.0016521\n",
       "EXVar56      3.33793    0.81368  4.1023 4.091e-05\n",
       "EXVar60      2.04164    0.82092  2.4870 0.0128818\n",
       "EXVar64      1.47519    0.77277  1.9090 0.0562665\n",
       "EXVar65      1.20941    0.66649  1.8146 0.0695855\n",
       "EXVar74      1.96698    1.20199  1.6364 0.1017478\n",
       "\n",
       "Lambda: -1.3, LR test value: 12.717, p-value: 0.0003623\n",
       "Asymptotic standard error: 0.10206\n",
       "    z-value: -12.738, p-value: < 2.22e-16\n",
       "Wald statistic: 162.25, p-value: < 2.22e-16\n",
       "\n",
       "Log likelihood: -33.87493 for error model\n",
       "ML residual variance (sigma squared): 0.12684, (sigma: 0.35615)\n",
       "Number of observations: 58 \n",
       "Number of parameters estimated: 36 \n",
       "AIC: 139.75, (AIC for lm: 150.47)\n"
      ]
     },
     "metadata": {},
     "output_type": "display_data"
    },
    {
     "data": {
      "text/plain": [
       "\n",
       "\tShapiro-Wilk normality test\n",
       "\n",
       "data:  YVar.sar1.res\n",
       "W = 0.98097, p-value = 0.4941\n"
      ]
     },
     "metadata": {},
     "output_type": "display_data"
    }
   ],
   "source": [
    "## SAR model.\n",
    "YVar.sar1 <- errorsarlm(y.YVar ~ EXVar, listw=inFeaturesSubset.listw)\n",
    "\n",
    "## Summary of SAR model.\n",
    "summary(YVar.sar1)\n",
    "\n",
    "## obtain the model residuals.\n",
    "YVar.sar1.res <- residuals(YVar.sar1)\n",
    "\n",
    "## Conduct the Shapiro test.\n",
    "shapiro.test(YVar.sar1.res)"
   ]
  },
  {
   "cell_type": "markdown",
   "metadata": {},
   "source": [
    "### Test Residuals for Autocorrelation\n",
    "\n",
    "Test the SAR residuals for presence of spatial autocorrelation.  How does this result differ from the Moran test applied to the OLS residuals?"
   ]
  },
  {
   "cell_type": "code",
   "execution_count": 13,
   "metadata": {},
   "outputs": [
    {
     "data": {
      "text/plain": [
       "\n",
       "\tMoran I test under randomisation\n",
       "\n",
       "data:  YVar.sar1.res  \n",
       "weights: inFeaturesSubset.listb    \n",
       "\n",
       "Moran I statistic standard deviate = -2.1314, p-value = 0.9835\n",
       "alternative hypothesis: greater\n",
       "sample estimates:\n",
       "Moran I statistic       Expectation          Variance \n",
       "     -0.189482356      -0.017543860       0.006507813 \n"
      ]
     },
     "metadata": {},
     "output_type": "display_data"
    }
   ],
   "source": [
    "## Apply Moran test to SAR residuals.\n",
    "moran.test(YVar.sar1.res, inFeaturesSubset.listb)"
   ]
  },
  {
   "cell_type": "markdown",
   "metadata": {},
   "source": [
    "### Visualize the Fitted Values (SAR) Model\n",
    "\n",
    "Visualize the fitted SAR values, being sure that the values are back-transformed into their original measurement units prior to mapping."
   ]
  },
  {
   "cell_type": "markdown",
   "metadata": {},
   "source": [
    "#### Back-Transformation\n",
    "\n",
    "Back-transformation is the process of reversing a transformation that was previously applied to a dataset.  \n",
    "\n",
    "Recall that earlier we transformed 'Y.Var' by powering to 'lambdapwr' (which was 1/3 in the earlier example).  To back-transform the fitted values, we will therefore need to power them to 1/'lambdapwr' (e.g., 1/(1/3) per our earlier example."
   ]
  },
  {
   "cell_type": "code",
   "execution_count": 14,
   "metadata": {},
   "outputs": [],
   "source": [
    "## Back-transform fitted values into original measurement units.\n",
    "bt.YVar.sar1 <- YVar.sar1$fitted^(1/lambdapwr)"
   ]
  },
  {
   "cell_type": "markdown",
   "metadata": {},
   "source": [
    "Now, map the back-transformed fitted values."
   ]
  },
  {
   "cell_type": "code",
   "execution_count": 15,
   "metadata": {},
   "outputs": [
    {
     "data": {
      "image/png": "[encoded data removed]",
      "text/plain": [
       "Plot with title \"Fitted Values - SAR Model\""
      ]
     },
     "metadata": {
      "image/png": {
       "height": 360,
       "width": 360
      }
     },
     "output_type": "display_data"
    }
   ],
   "source": [
    "## Classify the variable.\n",
    "numcat <- 5\n",
    "cate <- classIntervals(bt.YVar.sar1, numcat, style=\"quantile\")\n",
    "\n",
    "## Assign colors to categories.\n",
    "pal <- brewer.pal(numcat,\"Reds\")\n",
    "cols <- findColours(cate,pal)\n",
    "\n",
    "## Visualize fitted SAR values.\n",
    "plot(inFeaturesSubset, col=cols, lwd=.2,main=\"Fitted Values - SAR Model\",cex.main=.8)\n",
    "brks <- round(cate$brks,3)\n",
    "leg <- paste(brks[-(numcat+1)], brks[-1], sep=\" - \")\n",
    "legend(\"bottomleft\", fill=pal, legend=leg, bty=\"n\",title=\"Fitted Values\",cex=.7)"
   ]
  },
  {
   "cell_type": "markdown",
   "metadata": {},
   "source": [
    "### Examine Correlation Among the Variables\n",
    "\n",
    "Next, examine the correlation between the dependent and independent variables using the Pearson Correlation Coefficient. This can be done using R's corr() function. As can be observed, the correlation is negative, meaning that as one variable increases, the other decreases. However, given that spatial autocorrelation was detected in the model, this is suspect and can indicated that spatial autocorrelation is affecting the variables themselves. Given this, we can now examine each of the variables for spatial autocorrelation."
   ]
  },
  {
   "cell_type": "code",
   "execution_count": 16,
   "metadata": {},
   "outputs": [
    {
     "ename": "ERROR",
     "evalue": "Error in cor(y.YVar, EXVar): 'y' must be numeric\n",
     "output_type": "error",
     "traceback": [
      "Error in cor(y.YVar, EXVar): 'y' must be numeric\nTraceback:\n",
      "1. paste(\"Pearson Correlation = \", cor(y.YVar, EXVar))",
      "2. cor(y.YVar, EXVar)",
      "3. stop(\"'y' must be numeric\")"
     ]
    }
   ],
   "source": [
    "## Calculate Pearson product moment correlation coefficient.\n",
    "paste(\"Pearson Correlation = \",cor(y.YVar, EXVar))"
   ]
  },
  {
   "cell_type": "markdown",
   "metadata": {},
   "source": [
    "## Estimate SAR Model for Each Variable\n",
    "\n",
    "This time, let's apply a SAR model to both variables (dependent and explanatory) individually and simply examine the impact of the spatial weights. The rho or lambda parameter estimated by the SAR models can then be returned. Note that for both variables, rho (lambda) is significant, indicating spatial autocorrelation is at work in both of the variables."
   ]
  },
  {
   "cell_type": "code",
   "execution_count": 17,
   "metadata": {},
   "outputs": [
    {
     "data": {
      "text/plain": [
       "\n",
       "Call:errorsarlm(formula = y.YVar ~ 1, listw = inFeaturesSubset.listw)\n",
       "\n",
       "Residuals:\n",
       "      Min        1Q    Median        3Q       Max \n",
       "-2.275816 -0.504825  0.065455  0.802696  1.654604 \n",
       "\n",
       "Type: error \n",
       "Coefficients: (asymptotic standard errors) \n",
       "            Estimate Std. Error z value  Pr(>|z|)\n",
       "(Intercept)  2.45312    0.25868  9.4831 < 2.2e-16\n",
       "\n",
       "Lambda: 0.52368, LR test value: 8.6178, p-value: 0.0033289\n",
       "Asymptotic standard error: 0.13537\n",
       "    z-value: 3.8685, p-value: 0.00010951\n",
       "Wald statistic: 14.965, p-value: 0.00010951\n",
       "\n",
       "Log likelihood: -80.66485 for error model\n",
       "ML residual variance (sigma squared): 0.88059, (sigma: 0.9384)\n",
       "Number of observations: 58 \n",
       "Number of parameters estimated: 3 \n",
       "AIC: 167.33, (AIC for lm: 173.95)\n"
      ]
     },
     "metadata": {},
     "output_type": "display_data"
    },
    {
     "data": {
      "text/html": [
       "<span style=white-space:pre-wrap>'Lambda =  0.523675003102959'</span>"
      ],
      "text/latex": [
       "'Lambda =  0.523675003102959'"
      ],
      "text/markdown": [
       "<span style=white-space:pre-wrap>'Lambda =  0.523675003102959'</span>"
      ],
      "text/plain": [
       "[1] \"Lambda =  0.523675003102959\""
      ]
     },
     "metadata": {},
     "output_type": "display_data"
    },
    {
     "data": {
      "text/plain": [
       "\n",
       "Call:errorsarlm(formula = EXVar ~ 1, listw = inFeaturesSubset.listw)\n",
       "\n",
       "Residuals:\n",
       "     Min       1Q   Median       3Q      Max \n",
       "-18.0039  -5.8424  -0.8200   5.3788  46.7737 \n",
       "\n",
       "Type: error \n",
       "Coefficients: (asymptotic standard errors) \n",
       "            Estimate Std. Error z value  Pr(>|z|)\n",
       "(Intercept)  36.0551     7.4367  4.8483 1.245e-06\n",
       "\n",
       "Lambda: 0.82284, LR test value: 46.691, p-value: 8.3095e-12\n",
       "Asymptotic standard error: 0.069927\n",
       "    z-value: 11.767, p-value: < 2.22e-16\n",
       "Wald statistic: 138.46, p-value: < 2.22e-16\n",
       "\n",
       "Log likelihood: -222.5678 for error model\n",
       "ML residual variance (sigma squared): 100.68, (sigma: 10.034)\n",
       "Number of observations: 58 \n",
       "Number of parameters estimated: 3 \n",
       "AIC: 451.14, (AIC for lm: 495.83)\n"
      ]
     },
     "metadata": {},
     "output_type": "display_data"
    },
    {
     "data": {
      "text/html": [
       "<span style=white-space:pre-wrap>'Lambda =  0.822835274234041'</span>"
      ],
      "text/latex": [
       "'Lambda =  0.822835274234041'"
      ],
      "text/markdown": [
       "<span style=white-space:pre-wrap>'Lambda =  0.822835274234041'</span>"
      ],
      "text/plain": [
       "[1] \"Lambda =  0.822835274234041\""
      ]
     },
     "metadata": {},
     "output_type": "display_data"
    }
   ],
   "source": [
    "## Estimate SAR autocorrelation parameter for Y variable.\n",
    "YVar.sar2 <- errorsarlm(y.YVar ~ 1, listw=inFeaturesSubset.listw)\n",
    "summary(YVar.sar2)\n",
    "paste(\"Lambda = \",YVar.sar2$lambda)\n",
    "\n",
    "\n",
    "## Estimate SAR autocorrelation parameter for X variable.\n",
    "EXVar.sar2 <- errorsarlm(EXVar ~ 1, listw=inFeaturesSubset.listw)\n",
    "summary(EXVar.sar2)\n",
    "paste(\"Lambda = \",EXVar.sar2$lambda)"
   ]
  },
  {
   "cell_type": "markdown",
   "metadata": {},
   "source": [
    "### Adjust Variables for Spatial Autocorrelation\n",
    "\n",
    "Use the rho (lambda) parameters estimate above to adjust the dependent and explanatory variables for autocorrelation. This task can be accomplished is illustrated below. Basically, the dependent and independent variables are adjusted by subtracting them by the product of rho (lambda) and the spatial weights matrix (as a lag vector). The lag vector can be created using the lag.listw() function ('spdep' library). After the adjustment is made, re-assess the correlation between the adjusted variables. \n",
    "\n",
    "Note that after adjusting for spatial autocorrelation in each variable, the correlation is very much reduced from that computed earlier based on the unadjusted variables. Therefore, it is clear that if spatial autocorrelation was not accounted for, the correlation would appear to be much higher than it actually is."
   ]
  },
  {
   "cell_type": "code",
   "execution_count": 18,
   "metadata": {},
   "outputs": [
    {
     "ename": "ERROR",
     "evalue": "Error in lag.listw(inFeaturesSubset.listw, EXVar): EXVar not numeric\n",
     "output_type": "error",
     "traceback": [
      "Error in lag.listw(inFeaturesSubset.listw, EXVar): EXVar not numeric\nTraceback:\n",
      "1. lag.listw(inFeaturesSubset.listw, EXVar)",
      "2. stop(paste(deparse(substitute(var)), \"not numeric\"))"
     ]
    }
   ],
   "source": [
    "## Adjust for spatial autocorrelation.\n",
    "YVar.sa <- y.YVar - YVar.sar2$lambda * lag.listw(inFeaturesSubset.listw,y.YVar)\n",
    "EXVar.sa <- EXVar - EXVar.sar2$lambda * lag.listw(inFeaturesSubset.listw,EXVar)\n",
    "\n",
    "## Recompute adjusted Pearson product moment correlation coefficient.\n",
    "cor(YVar.sa,EXVar.sa)"
   ]
  },
  {
   "cell_type": "markdown",
   "metadata": {},
   "source": [
    "### Spatially Adjusted OLS\n",
    "\n",
    "Use the variables adjusted for spatial autocorrelation ('YVar.sa' and 'EXVar.sa') in a new OLS model. How do the results differ from the linear model estimated earlier with unadjusted variables?"
   ]
  },
  {
   "cell_type": "code",
   "execution_count": 19,
   "metadata": {},
   "outputs": [
    {
     "ename": "ERROR",
     "evalue": "Error in eval(predvars, data, env): object 'EXVar.sa' not found\n",
     "output_type": "error",
     "traceback": [
      "Error in eval(predvars, data, env): object 'EXVar.sa' not found\nTraceback:\n",
      "1. lm(YVar.sa ~ EXVar.sa)",
      "2. eval(mf, parent.frame())",
      "3. eval(mf, parent.frame())",
      "4. stats::model.frame(formula = YVar.sa ~ EXVar.sa, drop.unused.levels = TRUE)",
      "5. model.frame.default(formula = YVar.sa ~ EXVar.sa, drop.unused.levels = TRUE)",
      "6. eval(predvars, data, env)",
      "7. eval(predvars, data, env)"
     ]
    }
   ],
   "source": [
    "## Apply linear model after adjusting for spatial autocorrelation.\n",
    "YVar.lm.sa <- lm(YVar.sa ~ EXVar.sa)\n",
    "\n",
    "## Summarize model.\n",
    "summary(YVar.lm.sa)"
   ]
  },
  {
   "cell_type": "markdown",
   "metadata": {},
   "source": [
    "### Evaluate Adjusted Regression Residuals for Normality\n",
    "\n",
    "Apply normality diagnostics to test the residuals of the adjusted linear model.  Can the null hypothesis that the residuals are normally distributed be rejected at the 0.05 confidence level?"
   ]
  },
  {
   "cell_type": "code",
   "execution_count": 20,
   "metadata": {},
   "outputs": [
    {
     "ename": "ERROR",
     "evalue": "Error in residuals(YVar.lm.sa): object 'YVar.lm.sa' not found\n",
     "output_type": "error",
     "traceback": [
      "Error in residuals(YVar.lm.sa): object 'YVar.lm.sa' not found\nTraceback:\n",
      "1. shapiro.test(residuals(YVar.lm.sa))",
      "2. stopifnot(is.numeric(x))",
      "3. residuals(YVar.lm.sa)"
     ]
    }
   ],
   "source": [
    "## Compute normality diagnostics.\n",
    "shapiro.test(residuals(YVar.lm.sa))"
   ]
  },
  {
   "cell_type": "markdown",
   "metadata": {},
   "source": [
    "### Evaluate Adjusted Regression Residuals for Spatial Autocorrelation\n",
    "\n",
    "Test the residuals to see if spatial autocorrelation was effectively treated by the adjustment process.  Well, was it? How can you tell?"
   ]
  },
  {
   "cell_type": "code",
   "execution_count": 21,
   "metadata": {},
   "outputs": [
    {
     "ename": "ERROR",
     "evalue": "Error in residuals(YVar.lm.sa): object 'YVar.lm.sa' not found\n",
     "output_type": "error",
     "traceback": [
      "Error in residuals(YVar.lm.sa): object 'YVar.lm.sa' not found\nTraceback:\n",
      "1. moran.test(residuals(YVar.lm.sa), inFeaturesSubset.listb)",
      "2. residuals(YVar.lm.sa)"
     ]
    }
   ],
   "source": [
    "## Apply Moran test to residuals.\n",
    "moran.test(residuals(YVar.lm.sa), inFeaturesSubset.listb)"
   ]
  },
  {
   "cell_type": "markdown",
   "metadata": {},
   "source": [
    "# SAVE YOUR NOTEBOOK, then `File > Close and Halt`"
   ]
  },
  {
   "attachments": {
    "copyright.png": {
     "image/png": "[encoded data removed]"
    }
   },
   "cell_type": "markdown",
   "metadata": {},
   "source": [
    "![copyright.png](attachment:copyright.png)"
   ]
  }
 ],
 "metadata": {
  "kernelspec": {
   "display_name": "R",
   "language": "R",
   "name": "ir"
  },
  "language_info": {
   "codemirror_mode": "r",
   "file_extension": ".r",
   "mimetype": "text/x-r-source",
   "name": "R",
   "pygments_lexer": "r",
   "version": "4.1.3"
  }
 },
 "nbformat": 4,
 "nbformat_minor": 2
}
