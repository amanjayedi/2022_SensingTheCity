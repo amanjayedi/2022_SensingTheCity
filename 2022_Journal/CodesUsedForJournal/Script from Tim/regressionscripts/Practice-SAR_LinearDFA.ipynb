{
 "cells": [
  {
   "cell_type": "markdown",
   "metadata": {},
   "source": [
    "# Practice - SAR Linear Discriminant Function Analysis"
   ]
  },
  {
   "cell_type": "markdown",
   "metadata": {},
   "source": [
    "## Spatially Adjusted Regression - Two Group Discriminant Function Analysis\n",
    "\n",
    "Ordinary Least Squares vs Spatial Simultaneous Autoregressive Error Model\n",
    "\n",
    "In this practice, it is assumed that we are working under the normal probability model. The goals of this practice are to: a) evaluate a standard OLS regression using a binary response variable (2 groups) when spatial autocorrelation may be present and b)evaluate the same relationships given the ability to adjust for spatial autocorrelation using a spatial simultaneous autoregressive error model."
   ]
  },
  {
   "cell_type": "markdown",
   "metadata": {},
   "source": [
    "### Load relevant libraries\n",
    "\n",
    "Documentation for the R libraries used in this notebook can be found at: \n",
    "   \n",
    "  \n",
    "  - [rgdal library](https://web.dsa.missouri.edu/static/PDF/R/rgdal.pdf)   \n",
    "  \n",
    "  - [classInt library](https://web.dsa.missouri.edu/static/PDF/R/classInt.pdf)\n",
    "  \n",
    "  - [spdep library](https://web.dsa.missouri.edu/static/PDF/R/spdep.pdf)\n",
    "  \n",
    "  - [RColorBrewer library](https://web.dsa.missouri.edu/static/PDF/R/RColorBrewer.pdf)\n",
    "  \n",
    "  - [geoR library](https://web.dsa.missouri.edu/static/PDF/R/geoR.pdf)\n",
    "  \n",
    "  - [car library](https://web.dsa.missouri.edu/static/PDF/R/car.pdf)\n",
    "  \n",
    "  - [MASS library](https://web.dsa.missouri.edu/static/PDF/R/MASS.pdf)"
   ]
  },
  {
   "cell_type": "code",
   "execution_count": 14,
   "metadata": {},
   "outputs": [],
   "source": [
    "#install.packages('geoR')"
   ]
  },
  {
   "cell_type": "code",
   "execution_count": 15,
   "metadata": {},
   "outputs": [],
   "source": [
    "## Load relevant R packages.\n",
    "inLibraries = list('rgdal','spdep','spatialreg','classInt','car','RColorBrewer','MASS','geoR')\n",
    "for (rpack in inLibraries) {\n",
    "  if (is.element(rpack,installed.packages()[,1])){           \n",
    "      #Load the library into R\n",
    "      suppressMessages(library(rpack,character.only = TRUE))\n",
    "    }\n",
    "    else {\n",
    "        print(paste(\"Warning:  \",rpack,\" is not an installed package\"))\n",
    "    }\n",
    "}\n",
    "\n",
    "## Resize plot area.\n",
    "options(repr.plot.width=6, repr.plot.height=6)"
   ]
  },
  {
   "cell_type": "markdown",
   "metadata": {},
   "source": [
    "## US Farming Data\n",
    "\n",
    "In this practice, we will be working with county data on agricultural practices in the USA (usagriculture/usfarming.shp). Elements of this dataset were obtained from the 2012 [US Ag. Census](https://web.dsa.missouri.edu/static/PDF/R/Ag_Census_Map_documentation_07172015.pdf) ; External source: https://agcensus.library.cornell.edu/census_year/2012-census/. The fields in this dataset may seem kinda mystical, but they are documented in depth at the website noted above (download the associated [Ag. Census Excel](https://web.dsa.missouri.edu/static/PDF/R/Ag_Census_Map_data_07172015.xlsx).\n",
    "\n",
    "In this practice, a variable 'y12_M082_1' indicating acres of irrigated land as percent of land in farms acreage (year 2012) will be evaluated as will a variable named 'coastal' which was added to indicate which counties fall on the coast of the U.S. The 'coastal' variable is set to 1 for counties falling along the coastal regions of the U.S. For all other cases, 'coastal' is either zero or na. First, read in the dataset. It is not really that large, but may take some time to load remotely."
   ]
  },
  {
   "cell_type": "code",
   "execution_count": 22,
   "metadata": {},
   "outputs": [
    {
     "name": "stdout",
     "output_type": "stream",
     "text": [
      "OGR data source with driver: ESRI Shapefile \n",
      "Source: \"C:\\Users\\ja2qm\\MIZZOU\\_MotherFolderAmanWorks\\Aman thesis works\\_1_FinalTopic\\_CAADRIA2022\\Paper_2\\SensingTheCity_Stat_R_TimScript\\Script from Tim\\usfarmsdata\", layer: \"usfarming\"\n",
      "with 3070 features\n",
      "It has 93 fields\n",
      "Integer64 fields read as strings:  Join_Count TARGET_FID cntyn ID GRIDCODE \n"
     ]
    }
   ],
   "source": [
    "## Read in the featureclass.\n",
    "#inFeatures <- readOGR(\"/dsa/data/geospatial/DS8612/usagriculture\",\"usfarming\",GDAL1_integer64_policy=TRUE)\n",
    "inFeatures <- readOGR(dsn=\"C:/Users/ja2qm/MIZZOU/_MotherFolderAmanWorks/Aman thesis works/_1_FinalTopic/_CAADRIA2022/Paper_2/SensingTheCity_Stat_R_TimScript/Script from Tim/usfarmsdata\", layer=\"usfarming\")"
   ]
  },
  {
   "cell_type": "markdown",
   "metadata": {},
   "source": [
    "## Subset Features\n",
    "\n",
    "As agricultural conditions vary considerably over the U.S., let's select a specific state to analyze - California. \n",
    "\n",
    "Note, that state names are not explicitly included in the dataset. However, the FIPS (Federal Information Processing Specification) code for each county is provided. Typically, the first two digits of a FIPS code reflect the state id number while the last three reflect a specific county within a state.  In this dataset, the 'atlas_stco' field contains the FIPS code as a character variable. Thus, in order to select the first two characters associated with a particular state, we need some way to match one portion of a string to another. There are several ways to do this. In this case, first a new field is added to the dataframe 'stcode' and populated with the first two characters in the 'atlas_stco' field which is the FIPS code. Next, grep() is used to select the FIPS code prefixes which correspond with the FIPS code of California ('06')."
   ]
  },
  {
   "cell_type": "code",
   "execution_count": 25,
   "metadata": {},
   "outputs": [
    {
     "data": {
      "image/png": "[encoded data removed]",
      "text/plain": [
       "Plot with title \"California Counties\""
      ]
     },
     "metadata": {
      "image/png": {
       "height": 360,
       "width": 360
      }
     },
     "output_type": "display_data"
    }
   ],
   "source": [
    "## Add new column to data frame and populate with first two numbers of FIPS code.\n",
    "inFeatures@data$stcode <- substr(inFeatures@data$atlas_stco, start=1, stop=2)\n",
    "\n",
    "## Select features with a state fips code beginning with...\n",
    "inFeaturesSubsetA <- inFeatures[grep(\"06\", inFeatures@data$stcode), ]\n",
    "\n",
    "## Plot the state selected.\n",
    "plot(inFeaturesSubsetA,col=\"lightblue\", lwd=.2, main=\"California Counties\",cex.main=.8)"
   ]
  },
  {
   "cell_type": "markdown",
   "metadata": {},
   "source": [
    "## Generate Neighborhoods for Features\n",
    "\n",
    "Generate neighborhoods for each feature according to the Queen's Criterion.  Then test the neighborhoods to see if they are valid.  Retain only the features with valid neighborhoods."
   ]
  },
  {
   "cell_type": "code",
   "execution_count": 26,
   "metadata": {},
   "outputs": [],
   "source": [
    "## Identify the neighbors of each feature.\n",
    "inFeaturesSubsetA.nb <- poly2nb(inFeaturesSubsetA ,queen=TRUE)\n",
    "\n",
    "## Select features with at least one neighbor.\n",
    "inFeaturesSubset <- inFeaturesSubsetA[card(inFeaturesSubsetA.nb) >= 1, ]\n",
    "\n",
    "## Identify the neighbors of each feature having at least one neighbor.\n",
    "inFeaturesSubset.nb <- poly2nb(inFeaturesSubset, queen=TRUE)\n",
    "\n",
    "## Create a binary weighted neighbors list\n",
    "inFeaturesSubset.listb <- nb2listw(inFeaturesSubset.nb,style=\"B\")\n",
    "## Create a row standardized weighted neighbors list\n",
    "inFeaturesSubset.listw <- nb2listw(inFeaturesSubset.nb,style=\"W\")"
   ]
  },
  {
   "cell_type": "markdown",
   "metadata": {},
   "source": [
    "### Configure Variables to Analyze\n",
    "\n",
    "In this case, the explanatory variable is set to 'y12_M082_1'.  A binary (0/1) response variable is used to indicate which counties border the coast (1 if they do, 0 or <NA> otherwise). Thus, the original 'coastal' variable needs to be re-worked to change null values to 0."
   ]
  },
  {
   "cell_type": "code",
   "execution_count": 27,
   "metadata": {},
   "outputs": [],
   "source": [
    "## Set coastal variable = 0 if null.\n",
    "inFeaturesSubset$coastal[is.na(inFeaturesSubset$coastal)] <- 0\n",
    "\n",
    "## Set response variable.\n",
    "YVar <- inFeaturesSubset$coastal\n",
    "\n",
    "## Explanatory variable.\n",
    "Exp1 <- inFeaturesSubset$y12_M082_1"
   ]
  },
  {
   "cell_type": "markdown",
   "metadata": {},
   "source": [
    "### Visualize the Observed Response Variable\n",
    "\n",
    "Visualize the two categories of counties."
   ]
  },
  {
   "cell_type": "code",
   "execution_count": 28,
   "metadata": {},
   "outputs": [
    {
     "data": {
      "image/png": "[encoded data removed]",
      "text/plain": [
       "Plot with title \"Coastal and Interior Counties\""
      ]
     },
     "metadata": {
      "image/png": {
       "height": 360,
       "width": 360
      }
     },
     "output_type": "display_data"
    }
   ],
   "source": [
    "## Assign colors to categories.\n",
    "pal <- c(\"lightgray\",\"lightblue\")\n",
    "cols <- pal[round(inFeaturesSubset@data$coastal)+1]\n",
    "\n",
    "## Visualize the categories.\n",
    "plot(inFeaturesSubset, col=cols, lwd=.2,main=\"Coastal and Interior Counties\",cex.main=.8)\n",
    "leg <- c(\"interior\", \"coastal\")\n",
    "legend(\"bottomleft\", fill=pal, legend=leg, bty=\"n\")"
   ]
  },
  {
   "cell_type": "markdown",
   "metadata": {},
   "source": [
    "### Visualize the Explanatory Variable\n",
    "\n",
    "Visualize the geographic distribution of the explanatory variable."
   ]
  },
  {
   "cell_type": "code",
   "execution_count": 29,
   "metadata": {},
   "outputs": [
    {
     "data": {
      "image/png": "[encoded data removed]",
      "text/plain": [
       "Plot with title \"Explanatory Variable\""
      ]
     },
     "metadata": {
      "image/png": {
       "height": 360,
       "width": 360
      }
     },
     "output_type": "display_data"
    }
   ],
   "source": [
    "## Classify the variable.\n",
    "numcat <- 5\n",
    "cate <- classIntervals(Exp1, numcat, style=\"quantile\")\n",
    "\n",
    "## Assign colors to categories.\n",
    "pal <- brewer.pal(numcat,\"Reds\")\n",
    "cols <- findColours(cate,pal)\n",
    "\n",
    "## Visualize the explanatory variable.\n",
    "plot(inFeaturesSubset, col=cols, lwd=.2,main=\"Explanatory Variable\",cex.main=.8)\n",
    "brks <- round(cate$brks,3)\n",
    "leg <- paste(brks[-(numcat+1)], brks[-1], sep=\" - \")\n",
    "legend(\"bottomleft\", fill=pal, legend=leg, bty=\"n\",title=\"Irrigated Farmland\",cex=.7)"
   ]
  },
  {
   "cell_type": "markdown",
   "metadata": {},
   "source": [
    "## Examine Test Statistics for Autocorrelation\n",
    "\n",
    "Test the explanatory variable for spatial autocorrelation using the Moran and Geary global tests.  \n",
    "\n",
    "It looks like the Moran test is significant and is greater than zero. Remember what that means?"
   ]
  },
  {
   "cell_type": "code",
   "execution_count": 30,
   "metadata": {},
   "outputs": [
    {
     "data": {
      "text/plain": [
       "\n",
       "\tMoran I test under randomisation\n",
       "\n",
       "data:  YVar  \n",
       "weights: inFeaturesSubset.listb    \n",
       "\n",
       "Moran I statistic standard deviate = 4.1497, p-value = 1.665e-05\n",
       "alternative hypothesis: greater\n",
       "sample estimates:\n",
       "Moran I statistic       Expectation          Variance \n",
       "      0.321578100      -0.017543860       0.006678572 \n"
      ]
     },
     "metadata": {},
     "output_type": "display_data"
    },
    {
     "data": {
      "text/plain": [
       "\n",
       "\tGeary C test under randomisation\n",
       "\n",
       "data:  YVar \n",
       "weights: inFeaturesSubset.listb \n",
       "\n",
       "Geary C statistic standard deviate = 5.1705, p-value = 1.167e-07\n",
       "alternative hypothesis: Expectation greater than statistic\n",
       "sample estimates:\n",
       "Geary C statistic       Expectation          Variance \n",
       "      0.549003623       1.000000000       0.007608226 \n"
      ]
     },
     "metadata": {},
     "output_type": "display_data"
    }
   ],
   "source": [
    "## Run the Moran test.\n",
    "moran.test(YVar, inFeaturesSubset.listb)\n",
    "\n",
    "## Run the Geary test.\n",
    "geary.test(YVar, inFeaturesSubset.listb)"
   ]
  },
  {
   "cell_type": "markdown",
   "metadata": {},
   "source": [
    "## Assess the difference between ordinary regression and SAR\n",
    "\n",
    "Evaluate the differences between OLS regression and SAR whenever a binary response variable is involved. First, conduct an ordinary linear regression. Take a note of the R-square and standard errors that result."
   ]
  },
  {
   "cell_type": "code",
   "execution_count": 31,
   "metadata": {},
   "outputs": [
    {
     "data": {
      "text/plain": [
       "\n",
       "Call:\n",
       "lm(formula = YVar ~ Exp1, data = inFeaturesSubset)\n",
       "\n",
       "Residuals:\n",
       "    Min      1Q  Median      3Q     Max \n",
       "-0.4824 -0.3856 -0.1690  0.5366  0.8233 \n",
       "\n",
       "Coefficients:\n",
       "             Estimate Std. Error t value Pr(>|t|)    \n",
       "(Intercept)  0.482443   0.090631   5.323 1.86e-06 ***\n",
       "Exp1        -0.007070   0.002838  -2.491   0.0157 *  \n",
       "---\n",
       "Signif. codes:  0 '***' 0.001 '**' 0.01 '*' 0.05 '.' 0.1 ' ' 1\n",
       "\n",
       "Residual standard error: 0.4467 on 56 degrees of freedom\n",
       "Multiple R-squared:  0.09975,\tAdjusted R-squared:  0.08367 \n",
       "F-statistic: 6.205 on 1 and 56 DF,  p-value: 0.01573\n"
      ]
     },
     "metadata": {},
     "output_type": "display_data"
    }
   ],
   "source": [
    "## Conduct a two-group discriminant function analysis using a binary response variable using linear regression specification.\n",
    "YVar.lm <- lm(YVar ~ Exp1, data=inFeaturesSubset)\n",
    "summary(YVar.lm)"
   ]
  },
  {
   "cell_type": "markdown",
   "metadata": {},
   "source": [
    "### Evaluate Autocorrelation of OLS Residuals\n",
    "\n",
    "Retrieve the residuals from the OLS model. This can be done using the residuals() function (stats library).  Next, apply a Moran test for spatial autocorrelation in the residuals.\n",
    "\n",
    "Note the test is highly significant, indicating the null hypothesis can be rejected.  Thus, it is clear that the residuals contain a high level of spatial autocorrelation."
   ]
  },
  {
   "cell_type": "code",
   "execution_count": 32,
   "metadata": {},
   "outputs": [
    {
     "data": {
      "text/plain": [
       "\n",
       "\tMoran I test under randomisation\n",
       "\n",
       "data:  YVar.lm.res  \n",
       "weights: inFeaturesSubset.listb    \n",
       "\n",
       "Moran I statistic standard deviate = 4.1231, p-value = 1.869e-05\n",
       "alternative hypothesis: greater\n",
       "sample estimates:\n",
       "Moran I statistic       Expectation          Variance \n",
       "      0.319272957      -0.017543860       0.006673435 \n"
      ]
     },
     "metadata": {},
     "output_type": "display_data"
    }
   ],
   "source": [
    "## Retrieve residuals from OLS model.\n",
    "YVar.lm.res <- residuals(YVar.lm)\n",
    "\n",
    "## Conduct Moran test.\n",
    "moran.test(YVar.lm.res, inFeaturesSubset.listb)"
   ]
  },
  {
   "cell_type": "markdown",
   "metadata": {},
   "source": [
    "## Next, Apply a Spatial Simultaneous Autoregressive model\n",
    "\n",
    "Specify a SAR model. This can be done using the errorsarlm() function (spdep library).\n",
    "\n",
    "Note the differences in the results of the two models.  Here, the standard errors in the SAR specification differ from those in the OLS model. Also, the rho (lambda) parameter of the SAR model is positive and highly significant.  This is evidence that the dependent variable may be afflicted by a high level of spatial autocorrelation.  How are the coefficients on the variables similar or different?  Are the coefficients significant in both model specifications?"
   ]
  },
  {
   "cell_type": "code",
   "execution_count": 33,
   "metadata": {},
   "outputs": [
    {
     "data": {
      "text/plain": [
       "\n",
       "Call:errorsarlm(formula = YVar ~ Exp1, listw = inFeaturesSubset.listw)\n",
       "\n",
       "Residuals:\n",
       "      Min        1Q    Median        3Q       Max \n",
       "-0.550233 -0.221003 -0.085691  0.351917  0.643909 \n",
       "\n",
       "Type: error \n",
       "Coefficients: (asymptotic standard errors) \n",
       "              Estimate Std. Error z value Pr(>|z|)\n",
       "(Intercept)  0.5131822  0.1607223   3.193 0.001408\n",
       "Exp1        -0.0059185  0.0024396  -2.426 0.015264\n",
       "\n",
       "Lambda: 0.70378, LR test value: 20.802, p-value: 5.0936e-06\n",
       "Asymptotic standard error: 0.10006\n",
       "    z-value: 7.0334, p-value: 2.0153e-12\n",
       "Wald statistic: 49.469, p-value: 2.0153e-12\n",
       "\n",
       "Log likelihood: -24.14277 for error model\n",
       "ML residual variance (sigma squared): 0.11643, (sigma: 0.34122)\n",
       "Number of observations: 58 \n",
       "Number of parameters estimated: 4 \n",
       "AIC: 56.286, (AIC for lm: 75.087)\n"
      ]
     },
     "metadata": {},
     "output_type": "display_data"
    }
   ],
   "source": [
    "## Conduct a SAR specification using a binary response variable.\n",
    "YVar.sar <- errorsarlm(YVar ~ Exp1,listw=inFeaturesSubset.listw)\n",
    "\n",
    "## Report a summary of the SAR model.\n",
    "summary(YVar.sar)"
   ]
  },
  {
   "cell_type": "markdown",
   "metadata": {},
   "source": [
    "## Evaluate Autocorrelation of SAR Residuals\n",
    "\n",
    "Examine the residuals obtained from the SAR specification. Apply the Moran test statistic to test for spatial autocorrelation in the residuals. \n",
    "\n",
    "Note that the Moran test is not significant, indicating that the null hypothesis cannot be rejected. Thus, significant spatial autocorrelation among the residuals no longer exists."
   ]
  },
  {
   "cell_type": "code",
   "execution_count": 34,
   "metadata": {},
   "outputs": [
    {
     "data": {
      "text/plain": [
       "\n",
       "\tMoran I test under randomisation\n",
       "\n",
       "data:  YVar.sar.res  \n",
       "weights: inFeaturesSubset.listb    \n",
       "\n",
       "Moran I statistic standard deviate = 0.78202, p-value = 0.2171\n",
       "alternative hypothesis: greater\n",
       "sample estimates:\n",
       "Moran I statistic       Expectation          Variance \n",
       "      0.046133524      -0.017543860       0.006630298 \n"
      ]
     },
     "metadata": {},
     "output_type": "display_data"
    }
   ],
   "source": [
    "## Retrieve residuals from SAR model.\n",
    "YVar.sar.res <- residuals(YVar.sar)\n",
    "\n",
    "## Conduct Moran test.\n",
    "moran.test(YVar.sar.res, inFeaturesSubset.listb)"
   ]
  },
  {
   "cell_type": "markdown",
   "metadata": {},
   "source": [
    "### Visualize the SAR Fitted Values\n",
    "\n",
    "The fitted values (the difference between the response variable and the residuals) from the SAR model are output to a field named 'fitted' associated with the SAR output.  Let's evaluate the geographic distribution of these fitted values."
   ]
  },
  {
   "cell_type": "code",
   "execution_count": 35,
   "metadata": {},
   "outputs": [
    {
     "data": {
      "image/png": "[encoded data removed]",
      "text/plain": [
       "Plot with title \"SAR Fitted Values (raw values)\""
      ]
     },
     "metadata": {
      "image/png": {
       "height": 360,
       "width": 360
      }
     },
     "output_type": "display_data"
    }
   ],
   "source": [
    "## Classify the variable.\n",
    "numcat <- 5\n",
    "cate <- classIntervals(YVar.sar$fitted, numcat, style=\"quantile\")\n",
    "\n",
    "## Assign colors to categories.\n",
    "pal <- brewer.pal(numcat,\"Reds\")\n",
    "cols <- findColours(cate,pal)\n",
    "\n",
    "## Visualize the SAR fitted values.\n",
    "plot(inFeaturesSubset, col=cols, lwd=.2,main=\"SAR Fitted Values (raw values)\",cex.main=.8)\n",
    "brks <- round(cate$brks,3)\n",
    "leg <- paste(brks[-(numcat+1)], brks[-1], sep=\" - \")\n",
    "legend(\"bottomleft\", fill=pal, legend=leg, bty=\"n\",title=\"Predicted Values\",cex=.7)"
   ]
  },
  {
   "cell_type": "markdown",
   "metadata": {},
   "source": [
    "### Visualize the Rounded SAR Fitted Values\n",
    "\n",
    "Remember, that the response variable is actually binary (0,1) in this case. Thus, it might be preferable to visualize the fitted values as 0,1 values as well. To do this, simply round the fitted variables and map to two categories."
   ]
  },
  {
   "cell_type": "code",
   "execution_count": 36,
   "metadata": {},
   "outputs": [
    {
     "data": {
      "image/png": "[encoded data removed]",
      "text/plain": [
       "Plot with title \"SAR Fitted Values (rounded values)\""
      ]
     },
     "metadata": {
      "image/png": {
       "height": 360,
       "width": 360
      }
     },
     "output_type": "display_data"
    }
   ],
   "source": [
    "## Round the fitted values.\n",
    "rndvalues <- round(YVar.sar$fitted)\n",
    "pal <- c(\"lightgray\",\"lightblue\")\n",
    "cols <- pal[rndvalues + 1]\n",
    "\n",
    "## Visualize the rounded fitted values.\n",
    "plot(inFeaturesSubset, col=cols, lwd=.2,main=\"SAR Fitted Values (rounded values)\",cex.main=.8)\n",
    "leg <- c(\"interior\", \"coastal\")\n",
    "legend(\"bottomleft\", fill=pal, legend=leg, bty=\"n\")"
   ]
  },
  {
   "cell_type": "markdown",
   "metadata": {},
   "source": [
    "# SAVE YOUR NOTEBOOK, then `File > Close and Halt`"
   ]
  },
  {
   "attachments": {
    "copyright.png": {
     "image/png": "[encoded data removed]"
    }
   },
   "cell_type": "markdown",
   "metadata": {},
   "source": [
    "![copyright.png](attachment:copyright.png)"
   ]
  }
 ],
 "metadata": {
  "kernelspec": {
   "display_name": "R",
   "language": "R",
   "name": "ir"
  },
  "language_info": {
   "codemirror_mode": "r",
   "file_extension": ".r",
   "mimetype": "text/x-r-source",
   "name": "R",
   "pygments_lexer": "r",
   "version": "4.1.3"
  }
 },
 "nbformat": 4,
 "nbformat_minor": 2
}
