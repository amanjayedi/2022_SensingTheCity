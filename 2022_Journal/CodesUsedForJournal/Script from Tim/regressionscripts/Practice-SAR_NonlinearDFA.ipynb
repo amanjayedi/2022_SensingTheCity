{
 "cells": [
  {
   "cell_type": "markdown",
   "metadata": {},
   "source": [
    "# Practice - SAR Nonlinear Discriminant Function Analysis"
   ]
  },
  {
   "cell_type": "markdown",
   "metadata": {},
   "source": [
    "## Spatially Adjusted Regression - Two Group Discriminant Function Analysis\n",
    "\n",
    "Logistic Regression vs Logistic Regression with Eigenvector Spatial Filter\n",
    "\n",
    "In the prior linear DFA, the predicted binary values obviously did not always fall within the range [0,1] as we would have liked.  However, this type of DFA can be better specified as a non-linear model using logistic regression.\n",
    "\n",
    "In this practice, it is assumed that we are working with a non-linear, non-normal probability model. \n",
    "\n",
    "The goals of this practice are to: \n",
    "\n",
    "a) evaluate a standard logistic binomial using a binary response variable (2 groups) when spatial autocorrelation may be present, and \n",
    "\n",
    "b) evaluate the same relationships given the ability to adjust for spatial autocorrelation using a logistic regression coupled with an eigenvector spatial filter."
   ]
  },
  {
   "cell_type": "markdown",
   "metadata": {},
   "source": [
    "### Load relevant libraries\n",
    "\n",
    "Documentation for the R libraries used in this notebook can be found at: \n",
    "   \n",
    "  \n",
    "  - [rgdal library](https://web.dsa.missouri.edu/static/PDF/R/rgdal.pdf)   \n",
    "  \n",
    "  - [classInt library](https://web.dsa.missouri.edu/static/PDF/R/classInt.pdf)\n",
    "  \n",
    "  - [spdep library](https://web.dsa.missouri.edu/static/PDF/R/spdep.pdf)\n",
    "  \n",
    "  - [RColorBrewer library](https://web.dsa.missouri.edu/static/PDF/R/RColorBrewer.pdf)  \n",
    "  \n",
    "  - [car library](https://web.dsa.missouri.edu/static/PDF/R/car.pdf)\n",
    "  \n",
    "  - [MASS library](https://web.dsa.missouri.edu/static/PDF/R/MASS.pdf)"
   ]
  },
  {
   "cell_type": "code",
   "execution_count": 1,
   "metadata": {},
   "outputs": [],
   "source": [
    "## Load relevant R packages.\n",
    "inLibraries = list('rgdal','spdep','spatialreg','classInt','car','RColorBrewer','MASS')\n",
    "for (rpack in inLibraries) {\n",
    "  if (is.element(rpack,installed.packages()[,1])){           \n",
    "      #Load the library into R\n",
    "      suppressMessages(library(rpack,character.only = TRUE))\n",
    "    }\n",
    "    else {\n",
    "        print(paste(\"Warning:  \",rpack,\" is not an installed package\"))\n",
    "    }\n",
    "}\n",
    "\n",
    "## resize plot area.\n",
    "options(repr.plot.width=6, repr.plot.height=6)"
   ]
  },
  {
   "cell_type": "markdown",
   "metadata": {},
   "source": [
    "## US Farming Data\n",
    "\n",
    "In this practice, we will be working with county data on agricultural practices in the USA (usagriculture/usfarming.shp). Elements of this dataset were obtained from the 2012 [US Ag. Census](https://web.dsa.missouri.edu/static/PDF/R/Ag_Census_Map_documentation_07172015.pdf) ; External source: https://agcensus.library.cornell.edu/census_year/2012-census/. The fields in this dataset may seem kinda mystical, but they are documented in depth at the website noted above (download the associated [Ag. Census Excel](https://web.dsa.missouri.edu/static/PDF/R/Ag_Census_Map_data_07172015.xlsx).\n",
    "\n",
    "In this practice, a variable 'y12_M082_1' indicating acres of irrigated land as percent of land in farms acreage (year 2012) will be evaluated as will a variable named 'coastal' which was added to indicate which counties fall on the coast of the U.S. The 'coastal' variable is set to 1 for counties falling along the coastal regions of the U.S. For all other cases, 'coastal' is either zero or na. First, read in the dataset. It is not really that large, but may take some time to load remotely."
   ]
  },
  {
   "cell_type": "code",
   "execution_count": 2,
   "metadata": {},
   "outputs": [
    {
     "name": "stdout",
     "output_type": "stream",
     "text": [
      "OGR data source with driver: ESRI Shapefile \n",
      "Source: \"C:\\Users\\ja2qm\\MIZZOU\\_MotherFolderAmanWorks\\Aman thesis works\\_1_FinalTopic\\_CAADRIA2022\\Paper_2\\SensingTheCity_Stat_R_TimScript\\Script from Tim\\usfarmsdata\", layer: \"usfarming\"\n",
      "with 3070 features\n",
      "It has 93 fields\n",
      "Integer64 fields read as strings:  Join_Count TARGET_FID cntyn ID GRIDCODE \n"
     ]
    }
   ],
   "source": [
    "## Read in the featureclass.\n",
    "#inFeatures <- readOGR(\"/dsa/data/geospatial/DS8612/usagriculture\",\"usfarming\",GDAL1_integer64_policy=TRUE)\n",
    "inFeatures <- readOGR(dsn=\"C:/Users/ja2qm/MIZZOU/_MotherFolderAmanWorks/Aman thesis works/_1_FinalTopic/_CAADRIA2022/Paper_2/SensingTheCity_Stat_R_TimScript/Script from Tim/usfarmsdata\", layer=\"usfarming\")"
   ]
  },
  {
   "cell_type": "markdown",
   "metadata": {},
   "source": [
    "## Subset Features\n",
    "\n",
    "As agricultural conditions vary considerably over the U.S., let's select a specific state to analyze - California.\n",
    "\n",
    "Note that state names are not explicitly included in the dataset. However, the FIPS (Federal Information Processing Specification) code for each county is provided. Typically, the first two digits of a FIPS code reflect the state id number while the last three reflect a specific county within a state.  In this dataset, the 'atlas_stco' field contains the FIPS code as a character variable. Thus, in order to select the first two characters associated with a particular state, we need some way to match one portion of a string to another. There are several ways to do this. In this case, first a new field is added to the dataframe 'stcode' and populated with the first two characters in the 'atlas_stco' field which is the FIPS code. Next, grep() is used to select the FIPS code prefixes which correspond with the FIPS code of California ('06')."
   ]
  },
  {
   "cell_type": "code",
   "execution_count": 3,
   "metadata": {},
   "outputs": [
    {
     "data": {
      "image/png": "[encoded data removed]",
      "text/plain": [
       "Plot with title \"California Counties\""
      ]
     },
     "metadata": {
      "image/png": {
       "height": 360,
       "width": 360
      }
     },
     "output_type": "display_data"
    }
   ],
   "source": [
    "## Add new column to data frame and populate with first two numbers of FIPS code.\n",
    "inFeatures@data$stcode <- substr(inFeatures@data$atlas_stco, start=1, stop=2)\n",
    "\n",
    "## Select features with a state FIPS code beginning with...\n",
    "inFeaturesSubsetA <- inFeatures[grep(\"06\", inFeatures@data$stcode), ]\n",
    "\n",
    "## Plot the state selected.\n",
    "plot(inFeaturesSubsetA,col=\"lightblue\", lwd=.2, main=\"California Counties\",cex.main=.8)"
   ]
  },
  {
   "cell_type": "markdown",
   "metadata": {},
   "source": [
    "## Generate Neighborhoods for Features¶\n",
    "\n",
    "Generate neighborhoods for each feature according to the Queen's Criterion. Then test the neighborhoods to see if they are valid. Retain only the features with valid neighborhoods."
   ]
  },
  {
   "cell_type": "code",
   "execution_count": 4,
   "metadata": {},
   "outputs": [],
   "source": [
    "## Identify the neighbors of each feature.\n",
    "inFeaturesSubsetA.nb <- poly2nb(inFeaturesSubsetA ,queen=TRUE)\n",
    "\n",
    "## Select features with at least one neighbor.\n",
    "inFeaturesSubset <- inFeaturesSubsetA[card(inFeaturesSubsetA.nb) >= 1, ]\n",
    "\n",
    "## Identify the neighbors of each feature having at least one neighbor.\n",
    "inFeaturesSubset.nb <- poly2nb(inFeaturesSubset, queen=TRUE)\n",
    "\n",
    "## Create a binary weighted neighbors list\n",
    "inFeaturesSubset.listb <- nb2listw(inFeaturesSubset.nb,style=\"B\")\n",
    "## Create a row standardized weighted neighbors list\n",
    "inFeaturesSubset.listw <- nb2listw(inFeaturesSubset.nb,style=\"W\")"
   ]
  },
  {
   "cell_type": "markdown",
   "metadata": {},
   "source": [
    "## Configure Variables to Analyze\n",
    "\n",
    "In this case, the explanatory variable is set to 'y12_M082_1'.  A binary (0/1) response variable is used to indicate which counties border the coast (1 if they do, 0 or <NA> otherwise). Thus, the original 'coastal' variable needs to be re-worked to change null values to 0."
   ]
  },
  {
   "cell_type": "code",
   "execution_count": 5,
   "metadata": {},
   "outputs": [],
   "source": [
    "## Set coastal variable = 0 if null.\n",
    "inFeaturesSubset$coastal[is.na(inFeaturesSubset$coastal)] <- 0\n",
    "\n",
    "## Set response variable.\n",
    "YVar <- inFeaturesSubset$coastal\n",
    "\n",
    "## Set explanatory variable.\n",
    "Exp1 <- inFeaturesSubset$y12_M082_1"
   ]
  },
  {
   "cell_type": "markdown",
   "metadata": {},
   "source": [
    "### Visualize the Observed Response Variable\n",
    "\n",
    "Visualize the two categories of counties."
   ]
  },
  {
   "cell_type": "code",
   "execution_count": 6,
   "metadata": {},
   "outputs": [
    {
     "data": {
      "image/png": "[encoded data removed]",
      "text/plain": [
       "Plot with title \"Coastal and Interior Counties\""
      ]
     },
     "metadata": {
      "image/png": {
       "height": 360,
       "width": 360
      }
     },
     "output_type": "display_data"
    }
   ],
   "source": [
    "## Assign colors to categories.\n",
    "pal <- c(\"lightgray\",\"lightblue\")\n",
    "cols <- pal[round(inFeaturesSubset@data$coastal)+1]\n",
    "\n",
    "## Visualize the variable.\n",
    "plot(inFeaturesSubset, col=cols, lwd=.2,main=\"Coastal and Interior Counties\",cex.main=.8)\n",
    "leg <- c(\"interior\", \"coastal\")\n",
    "legend(\"bottomleft\", fill=pal, legend=leg, bty=\"n\")"
   ]
  },
  {
   "cell_type": "markdown",
   "metadata": {},
   "source": [
    "### Visualize the Explanatory Variable\n",
    "\n",
    "Visualize the geographic distribution of the explanatory variable."
   ]
  },
  {
   "cell_type": "code",
   "execution_count": 7,
   "metadata": {},
   "outputs": [
    {
     "data": {
      "image/png": "[encoded data removed]",
      "text/plain": [
       "Plot with title \"Explanatory Variable\""
      ]
     },
     "metadata": {
      "image/png": {
       "height": 360,
       "width": 360
      }
     },
     "output_type": "display_data"
    }
   ],
   "source": [
    "## Classify the variable.\n",
    "numcat <- 5\n",
    "cate <- classIntervals(Exp1, numcat, style=\"quantile\")\n",
    "\n",
    "## Assign colors to categories.\n",
    "pal <- brewer.pal(numcat,\"Reds\")\n",
    "cols <- findColours(cate,pal)\n",
    "\n",
    "## Visualize the explanatory variable.\n",
    "plot(inFeaturesSubset, col=cols, lwd=.2,main=\"Explanatory Variable\",cex.main=.8)\n",
    "brks <- round(cate$brks,3)\n",
    "leg <- paste(brks[-(numcat+1)], brks[-1], sep=\" - \")\n",
    "legend(\"bottomleft\", fill=pal, legend=leg, bty=\"n\",title=\"Irrigated Farmland\",cex=.7)"
   ]
  },
  {
   "cell_type": "markdown",
   "metadata": {},
   "source": [
    "## Examine Test Statistics for Autocorrelation\n",
    "\n",
    "Test the explanatory variable for spatial autocorrelation using the Moran and Geary global tests.  \n",
    "\n",
    "It looks like the Moran test is significant and is greater than zero. Remember what that means?"
   ]
  },
  {
   "cell_type": "code",
   "execution_count": 8,
   "metadata": {},
   "outputs": [
    {
     "data": {
      "text/plain": [
       "\n",
       "\tMoran I test under randomisation\n",
       "\n",
       "data:  YVar  \n",
       "weights: inFeaturesSubset.listb    \n",
       "\n",
       "Moran I statistic standard deviate = 4.1497, p-value = 1.665e-05\n",
       "alternative hypothesis: greater\n",
       "sample estimates:\n",
       "Moran I statistic       Expectation          Variance \n",
       "      0.321578100      -0.017543860       0.006678572 \n"
      ]
     },
     "metadata": {},
     "output_type": "display_data"
    },
    {
     "data": {
      "text/plain": [
       "\n",
       "\tGeary C test under randomisation\n",
       "\n",
       "data:  YVar \n",
       "weights: inFeaturesSubset.listb \n",
       "\n",
       "Geary C statistic standard deviate = 5.1705, p-value = 1.167e-07\n",
       "alternative hypothesis: Expectation greater than statistic\n",
       "sample estimates:\n",
       "Geary C statistic       Expectation          Variance \n",
       "      0.549003623       1.000000000       0.007608226 \n"
      ]
     },
     "metadata": {},
     "output_type": "display_data"
    }
   ],
   "source": [
    "## Run the Moran test.\n",
    "moran.test(YVar, inFeaturesSubset.listb)\n",
    "\n",
    "## Run the Geary test.\n",
    "geary.test(YVar, inFeaturesSubset.listb)"
   ]
  },
  {
   "cell_type": "markdown",
   "metadata": {},
   "source": [
    "## Standard Logistic Regression \n",
    "\n",
    "Too assess what happens when autocorrelation is not addressed in a model with what happens when it is considered, first let's apply a logistic regression model.  This can be done via the glm() function, specifying the family as binomial."
   ]
  },
  {
   "cell_type": "code",
   "execution_count": 9,
   "metadata": {},
   "outputs": [
    {
     "data": {
      "text/plain": [
       "\n",
       "Call:\n",
       "glm(formula = YVar ~ Exp1, family = binomial)\n",
       "\n",
       "Deviance Residuals: \n",
       "    Min       1Q   Median       3Q      Max  \n",
       "-1.2092  -0.9741  -0.5576   1.1938   1.9490  \n",
       "\n",
       "Coefficients:\n",
       "            Estimate Std. Error z value Pr(>|z|)  \n",
       "(Intercept)  0.07455    0.44060   0.169   0.8656  \n",
       "Exp1        -0.04189    0.01836  -2.281   0.0225 *\n",
       "---\n",
       "Signif. codes:  0 '***' 0.001 '**' 0.01 '*' 0.05 '.' 0.1 ' ' 1\n",
       "\n",
       "(Dispersion parameter for binomial family taken to be 1)\n",
       "\n",
       "    Null deviance: 71.848  on 57  degrees of freedom\n",
       "Residual deviance: 65.226  on 56  degrees of freedom\n",
       "AIC: 69.226\n",
       "\n",
       "Number of Fisher Scoring iterations: 4\n"
      ]
     },
     "metadata": {},
     "output_type": "display_data"
    }
   ],
   "source": [
    "## Apply logistic regression.\n",
    "YVar.full <- glm(YVar ~ Exp1, family=binomial)\n",
    "\n",
    "## Output a summary of the logistic regression.\n",
    "summary(YVar.full)"
   ]
  },
  {
   "cell_type": "markdown",
   "metadata": {},
   "source": [
    "## Evaluate Autocorrelation in Regression Residuals\n",
    "\n",
    "Retrieve the residuals from the logistic model. This can be done using the residuals() function (stats library). Next, apply a Moran test for spatial autocorrelation in the residuals.\n",
    "\n",
    "Note the test is highly significant, indicating the null hypothesis can be rejected. Thus, it is clear that the residuals contain a high level of spatial autocorrelation."
   ]
  },
  {
   "cell_type": "code",
   "execution_count": 10,
   "metadata": {},
   "outputs": [
    {
     "data": {
      "text/plain": [
       "\n",
       "\tMoran I test under randomisation\n",
       "\n",
       "data:  YVar.full.res  \n",
       "weights: inFeaturesSubset.listb    \n",
       "\n",
       "Moran I statistic standard deviate = 4.1369, p-value = 1.76e-05\n",
       "alternative hypothesis: greater\n",
       "sample estimates:\n",
       "Moran I statistic       Expectation          Variance \n",
       "      0.320156635      -0.017543860       0.006663794 \n"
      ]
     },
     "metadata": {},
     "output_type": "display_data"
    }
   ],
   "source": [
    "## Retrieve logistic residuals.\n",
    "YVar.full.res <- residuals(YVar.full)\n",
    "\n",
    "## Apply a Moran test to the residuals.\n",
    "moran.test(YVar.full.res, inFeaturesSubset.listb)"
   ]
  },
  {
   "cell_type": "markdown",
   "metadata": {},
   "source": [
    "## Spatial Filtering\n",
    "\n",
    "One way to address spatial autocorrelation in a model is to implement what is termed an eigenvector spatial filter. \n",
    "\n",
    "The first step is to compute the 'MBM' matrix. Note that matrix 'B' is the spatial weights matrix.\n",
    "\n",
    "The second step is to generate eigenvalues and eigenvectors that correspond with the dimensions of the input data.\n",
    "\n",
    "The third step is to do a first cut to weed out eigenvectors that are likely not that relevant for explaining spatial autocorrelation."
   ]
  },
  {
   "cell_type": "code",
   "execution_count": 11,
   "metadata": {},
   "outputs": [],
   "source": [
    "## Compute MBM.\n",
    "n <- length(inFeaturesSubset)\n",
    "M <- diag(n) - matrix(1,n,n)/n\n",
    "B <- listw2mat(inFeaturesSubset.listb)\n",
    "\n",
    "MBM <- M %*% B %*% M\n",
    "\n",
    "## Generate Eigenvalues and Eigenvectors.\n",
    "eig <- eigen(MBM, symmetric=T)\n",
    "\n",
    "## Select most relevant eigenvectors (first cut).\n",
    "cutThreshold <- 0.25\n",
    "EV <- as.data.frame( eig$vectors[ ,eig$values/eig$values[1] > cutThreshold])\n",
    "colnames(EV) <- paste(\"EV\", 1:NCOL(EV),sep=\"\")"
   ]
  },
  {
   "cell_type": "markdown",
   "metadata": {},
   "source": [
    "### Use Stepwise Regression to Refine Set of Eigenvectors\n",
    "\n",
    "The next step is to use stepwise regression to select important components of the model related to spatial autocorrelation.  \n",
    "\n",
    "How many Eigenvectors are selected?  According to the code, which parameters influence how many Eigenvectors are selected?  Hey, what is an Eigenvector anyway?"
   ]
  },
  {
   "cell_type": "code",
   "execution_count": 12,
   "metadata": {},
   "outputs": [
    {
     "name": "stderr",
     "output_type": "stream",
     "text": [
      "Warning message:\n",
      "\"glm.fit: algorithm did not converge\"\n",
      "Warning message:\n",
      "\"glm.fit: fitted probabilities numerically 0 or 1 occurred\"\n"
     ]
    },
    {
     "name": "stdout",
     "output_type": "stream",
     "text": [
      "Start:  AIC=69.23\n",
      "YVar ~ Exp1\n",
      "\n",
      "       Df Deviance    AIC\n",
      "+ EV6   1   53.558 59.558\n",
      "+ EV3   1   60.193 66.193\n",
      "+ EV4   1   62.072 68.072\n",
      "+ EV5   1   62.979 68.979\n",
      "<none>      65.226 69.226\n",
      "+ EV11  1   63.608 69.608\n",
      "+ EV2   1   63.655 69.655\n",
      "+ EV13  1   64.292 70.292\n",
      "+ EV1   1   64.936 70.936\n",
      "+ EV10  1   64.940 70.940\n",
      "+ EV14  1   65.014 71.014\n",
      "+ EV12  1   65.101 71.101\n",
      "+ EV8   1   65.200 71.200\n",
      "+ EV9   1   65.214 71.214\n",
      "+ EV7   1   65.220 71.220\n",
      "- Exp1  1   71.848 73.848\n",
      "\n",
      "Step:  AIC=59.56\n",
      "YVar ~ Exp1 + EV6\n",
      "\n",
      "       Df Deviance    AIC\n",
      "+ EV3   1   46.145 54.145\n",
      "+ EV5   1   48.744 56.744\n",
      "+ EV4   1   50.533 58.533\n",
      "+ EV11  1   50.723 58.723\n",
      "+ EV13  1   51.148 59.148\n",
      "<none>      53.558 59.558\n",
      "+ EV2   1   52.004 60.004\n",
      "+ EV10  1   53.211 61.211\n",
      "+ EV8   1   53.277 61.277\n",
      "+ EV12  1   53.415 61.415\n",
      "+ EV14  1   53.440 61.440\n",
      "+ EV9   1   53.508 61.508\n",
      "+ EV7   1   53.536 61.536\n",
      "+ EV1   1   53.552 61.552\n",
      "- Exp1  1   60.299 64.299\n",
      "- EV6   1   65.226 69.226\n",
      "\n",
      "Step:  AIC=54.15\n",
      "YVar ~ Exp1 + EV6 + EV3\n",
      "\n",
      "       Df Deviance    AIC\n",
      "+ EV5   1   40.754 50.754\n",
      "+ EV13  1   43.187 53.187\n",
      "+ EV2   1   43.567 53.567\n",
      "+ EV4   1   43.695 53.695\n",
      "<none>      46.145 54.145\n",
      "+ EV11  1   44.435 54.435\n",
      "+ EV14  1   45.489 55.489\n",
      "+ EV1   1   45.601 55.601\n",
      "+ EV10  1   45.731 55.731\n",
      "+ EV8   1   45.952 55.952\n",
      "+ EV7   1   46.051 56.051\n",
      "+ EV9   1   46.075 56.075\n",
      "+ EV12  1   46.126 56.126\n",
      "- EV3   1   53.558 59.558\n",
      "- Exp1  1   58.122 64.122\n",
      "- EV6   1   60.193 66.193\n",
      "\n",
      "Step:  AIC=50.75\n",
      "YVar ~ Exp1 + EV6 + EV3 + EV5\n",
      "\n",
      "       Df Deviance    AIC\n",
      "+ EV11  1   35.271 47.271\n",
      "+ EV13  1   37.269 49.269\n",
      "+ EV4   1   37.563 49.563\n",
      "<none>      40.754 50.754\n",
      "+ EV2   1   38.934 50.934\n",
      "+ EV7   1   39.769 51.769\n",
      "+ EV1   1   40.337 52.337\n",
      "+ EV14  1   40.468 52.468\n",
      "+ EV9   1   40.545 52.545\n",
      "+ EV8   1   40.642 52.642\n",
      "+ EV10  1   40.707 52.707\n",
      "+ EV12  1   40.751 52.751\n",
      "- EV5   1   46.145 54.145\n",
      "- EV3   1   48.744 56.744\n",
      "- Exp1  1   52.706 60.706\n",
      "- EV6   1   58.550 66.550\n",
      "\n",
      "Step:  AIC=47.27\n",
      "YVar ~ Exp1 + EV6 + EV3 + EV5 + EV11\n",
      "\n",
      "       Df Deviance    AIC\n",
      "+ EV13  1   29.377 43.377\n",
      "+ EV7   1   32.659 46.659\n",
      "+ EV4   1   32.838 46.838\n",
      "<none>      35.271 47.271\n",
      "+ EV1   1   34.347 48.347\n",
      "+ EV2   1   34.792 48.792\n",
      "+ EV14  1   35.079 49.079\n",
      "+ EV9   1   35.081 49.081\n",
      "+ EV12  1   35.236 49.236\n",
      "+ EV8   1   35.246 49.246\n",
      "+ EV10  1   35.270 49.270\n",
      "- Exp1  1   40.619 50.619\n",
      "- EV11  1   40.754 50.754\n",
      "- EV3   1   41.210 51.210\n",
      "- EV5   1   44.435 54.435\n",
      "- EV6   1   57.132 67.132\n",
      "\n",
      "Step:  AIC=43.38\n",
      "YVar ~ Exp1 + EV6 + EV3 + EV5 + EV11 + EV13\n",
      "\n"
     ]
    },
    {
     "name": "stderr",
     "output_type": "stream",
     "text": [
      "Warning message:\n",
      "\"glm.fit: fitted probabilities numerically 0 or 1 occurred\"\n"
     ]
    },
    {
     "name": "stdout",
     "output_type": "stream",
     "text": [
      "       Df Deviance    AIC\n",
      "+ EV7   1   23.072 39.072\n",
      "+ EV4   1   27.134 43.134\n",
      "<none>      29.377 43.377\n",
      "+ EV2   1   29.008 45.008\n",
      "+ EV1   1   29.111 45.111\n",
      "+ EV14  1   29.265 45.265\n",
      "+ EV12  1   29.277 45.277\n",
      "+ EV9   1   29.280 45.280\n",
      "+ EV8   1   29.325 45.325\n",
      "+ EV10  1   29.376 45.376\n",
      "- EV13  1   35.271 47.271\n",
      "- EV11  1   37.269 49.269\n",
      "- EV3   1   37.353 49.353\n",
      "- Exp1  1   38.013 50.013\n",
      "- EV5   1   41.332 53.332\n",
      "- EV6   1   56.298 68.298\n"
     ]
    },
    {
     "name": "stderr",
     "output_type": "stream",
     "text": [
      "Warning message:\n",
      "\"glm.fit: fitted probabilities numerically 0 or 1 occurred\"\n"
     ]
    },
    {
     "name": "stdout",
     "output_type": "stream",
     "text": [
      "\n",
      "Step:  AIC=39.07\n",
      "YVar ~ Exp1 + EV6 + EV3 + EV5 + EV11 + EV13 + EV7\n",
      "\n"
     ]
    },
    {
     "name": "stderr",
     "output_type": "stream",
     "text": [
      "Warning message:\n",
      "\"glm.fit: fitted probabilities numerically 0 or 1 occurred\"\n",
      "Warning message:\n",
      "\"glm.fit: fitted probabilities numerically 0 or 1 occurred\"\n",
      "Warning message:\n",
      "\"glm.fit: fitted probabilities numerically 0 or 1 occurred\"\n",
      "Warning message:\n",
      "\"glm.fit: fitted probabilities numerically 0 or 1 occurred\"\n",
      "Warning message:\n",
      "\"glm.fit: fitted probabilities numerically 0 or 1 occurred\"\n",
      "Warning message:\n",
      "\"glm.fit: fitted probabilities numerically 0 or 1 occurred\"\n",
      "Warning message:\n",
      "\"glm.fit: fitted probabilities numerically 0 or 1 occurred\"\n",
      "Warning message:\n",
      "\"glm.fit: fitted probabilities numerically 0 or 1 occurred\"\n",
      "Warning message:\n",
      "\"glm.fit: fitted probabilities numerically 0 or 1 occurred\"\n"
     ]
    },
    {
     "name": "stdout",
     "output_type": "stream",
     "text": [
      "       Df Deviance    AIC\n",
      "+ EV4   1   21.044 39.044\n",
      "<none>      23.072 39.072\n",
      "+ EV1   1   22.147 40.147\n",
      "+ EV2   1   22.398 40.398\n",
      "+ EV8   1   22.857 40.857\n",
      "+ EV10  1   22.883 40.883\n",
      "+ EV14  1   22.974 40.974\n",
      "+ EV9   1   23.059 41.059\n",
      "+ EV12  1   23.066 41.066\n",
      "- EV7   1   29.377 43.377\n",
      "- Exp1  1   31.086 45.086\n",
      "- EV13  1   32.659 46.659\n",
      "- EV3   1   35.895 49.895\n",
      "- EV11  1   36.256 50.256\n",
      "- EV5   1   41.186 55.186\n",
      "- EV6   1   56.252 70.252\n"
     ]
    },
    {
     "name": "stderr",
     "output_type": "stream",
     "text": [
      "Warning message:\n",
      "\"glm.fit: fitted probabilities numerically 0 or 1 occurred\"\n"
     ]
    },
    {
     "name": "stdout",
     "output_type": "stream",
     "text": [
      "\n",
      "Step:  AIC=39.04\n",
      "YVar ~ Exp1 + EV6 + EV3 + EV5 + EV11 + EV13 + EV7 + EV4\n",
      "\n"
     ]
    },
    {
     "name": "stderr",
     "output_type": "stream",
     "text": [
      "Warning message:\n",
      "\"glm.fit: fitted probabilities numerically 0 or 1 occurred\"\n",
      "Warning message:\n",
      "\"glm.fit: fitted probabilities numerically 0 or 1 occurred\"\n",
      "Warning message:\n",
      "\"glm.fit: fitted probabilities numerically 0 or 1 occurred\"\n",
      "Warning message:\n",
      "\"glm.fit: fitted probabilities numerically 0 or 1 occurred\"\n",
      "Warning message:\n",
      "\"glm.fit: fitted probabilities numerically 0 or 1 occurred\"\n",
      "Warning message:\n",
      "\"glm.fit: fitted probabilities numerically 0 or 1 occurred\"\n",
      "Warning message:\n",
      "\"glm.fit: fitted probabilities numerically 0 or 1 occurred\"\n",
      "Warning message:\n",
      "\"glm.fit: fitted probabilities numerically 0 or 1 occurred\"\n",
      "Warning message:\n",
      "\"glm.fit: fitted probabilities numerically 0 or 1 occurred\"\n"
     ]
    },
    {
     "name": "stdout",
     "output_type": "stream",
     "text": [
      "       Df Deviance    AIC\n",
      "<none>      21.044 39.044\n",
      "- EV4   1   23.072 39.072\n",
      "+ EV9   1   20.326 40.326\n",
      "+ EV2   1   20.463 40.463\n",
      "+ EV1   1   20.895 40.895\n",
      "+ EV14  1   20.978 40.978\n",
      "+ EV8   1   20.986 40.986\n",
      "+ EV10  1   20.993 40.993\n",
      "+ EV12  1   21.043 41.043\n",
      "- EV7   1   27.134 43.134\n",
      "- Exp1  1   27.951 43.951\n",
      "- EV13  1   29.744 45.744\n",
      "- EV11  1   32.928 48.928\n",
      "- EV3   1   34.524 50.524\n",
      "- EV5   1   38.997 54.997\n",
      "- EV6   1   52.748 68.748\n"
     ]
    }
   ],
   "source": [
    "## Specify a logistic regression that includes the eigenvectors.\n",
    "YVar.full <- glm(YVar ~ Exp1 + ., data=EV, family=binomial)\n",
    "\n",
    "## Conduct stepwise regression to spatially filter Eigenvectors, using the full logistic specification as the upper model\n",
    "YVar.sf <- stepAIC(glm(YVar ~ Exp1, data=EV, family=binomial), scope=list(upper=YVar.full), direction=\"both\",k=2)\n",
    "coefnm <- names(coef(YVar.sf))\n",
    "\n",
    "## Extract upto exComp components to analyze from final model.\n",
    "formula2 <- c(YVar ~ Exp1)\n",
    "exComp <- 8\n",
    "ctit <- 1\n",
    "formlist <- list()\n",
    "formula3 <- c()\n",
    "incnt <- 1\n",
    "for (ele in coefnm)   {\n",
    "    if ((ctit <= exComp) && (startsWith(ele,\"EV\"))) {\n",
    "        formula2 <- paste(formula2, \"+\", sep=\" \")\n",
    "        formula2 <- paste(formula2, ele, sep=\" \")\n",
    "        s1 = unlist(strsplit(ele, split='EV', fixed=TRUE))[2]\n",
    "        formlist[[ctit]] <- as.numeric(s1)\n",
    "        \n",
    "        ctit <- ctit + 1\n",
    "    }\n",
    "    incnt <- incnt + 1    \n",
    "}"
   ]
  },
  {
   "cell_type": "markdown",
   "metadata": {},
   "source": [
    "### Given the selected Eigenvectors, run the spatially filtered logistic model\n",
    "\n",
    "Now that the major eigenvectors have been selected, apply them to the logistic model."
   ]
  },
  {
   "cell_type": "code",
   "execution_count": 13,
   "metadata": {},
   "outputs": [
    {
     "name": "stderr",
     "output_type": "stream",
     "text": [
      "Warning message:\n",
      "\"glm.fit: fitted probabilities numerically 0 or 1 occurred\"\n"
     ]
    },
    {
     "data": {
      "text/plain": [
       "\n",
       "Call:\n",
       "glm(formula = formula2, family = binomial, data = EV)\n",
       "\n",
       "Deviance Residuals: \n",
       "     Min        1Q    Median        3Q       Max  \n",
       "-1.94017  -0.10034  -0.00013   0.10142   1.72053  \n",
       "\n",
       "Coefficients:\n",
       "             Estimate Std. Error z value Pr(>|z|)  \n",
       "(Intercept)  -4.49007    2.41938  -1.856   0.0635 .\n",
       "Exp1         -0.11141    0.05847  -1.905   0.0567 .\n",
       "EV6          50.23753   19.89058   2.526   0.0115 *\n",
       "EV3         -24.25084    9.92919  -2.442   0.0146 *\n",
       "EV5          35.07741   15.66496   2.239   0.0251 *\n",
       "EV11        -30.38821   14.78919  -2.055   0.0399 *\n",
       "EV13        -18.49919    8.85166  -2.090   0.0366 *\n",
       "EV7         -14.83109    8.23364  -1.801   0.0717 .\n",
       "EV4          -5.86919    4.40220  -1.333   0.1825  \n",
       "---\n",
       "Signif. codes:  0 '***' 0.001 '**' 0.01 '*' 0.05 '.' 0.1 ' ' 1\n",
       "\n",
       "(Dispersion parameter for binomial family taken to be 1)\n",
       "\n",
       "    Null deviance: 71.848  on 57  degrees of freedom\n",
       "Residual deviance: 21.044  on 49  degrees of freedom\n",
       "AIC: 39.044\n",
       "\n",
       "Number of Fisher Scoring iterations: 9\n"
      ]
     },
     "metadata": {},
     "output_type": "display_data"
    }
   ],
   "source": [
    "## Populate model with selected Eigenvectors.\n",
    "YVar.sf <- glm(formula2, data=EV, family=binomial)\n",
    "\n",
    "## Output a summary of the model.\n",
    "summary(YVar.sf)"
   ]
  },
  {
   "cell_type": "markdown",
   "metadata": {},
   "source": [
    "## Evaluate Autocorrelation of Spatial Filter Residuals\n",
    "\n",
    "Examine the residuals obtained from the spatially filtered specification. Apply the Moran test statistic to evaluate the presence of spatial autocorrelation in the residuals. \n",
    "\n",
    "Note that the Moran test is not significant, indicating that the null hypothesis cannot be rejected. Thus, significant spatial autocorrelation among the residuals no longer exists."
   ]
  },
  {
   "cell_type": "code",
   "execution_count": 14,
   "metadata": {},
   "outputs": [
    {
     "data": {
      "text/plain": [
       "\n",
       "\tMoran I test under randomisation\n",
       "\n",
       "data:  YVar.sf.res  \n",
       "weights: inFeaturesSubset.listb    \n",
       "\n",
       "Moran I statistic standard deviate = -0.69463, p-value = 0.7564\n",
       "alternative hypothesis: greater\n",
       "sample estimates:\n",
       "Moran I statistic       Expectation          Variance \n",
       "     -0.070048309      -0.017543860       0.005713308 \n"
      ]
     },
     "metadata": {},
     "output_type": "display_data"
    },
    {
     "data": {
      "text/plain": [
       "\n",
       "\tGeary C test under randomisation\n",
       "\n",
       "data:  YVar.sf.res \n",
       "weights: inFeaturesSubset.listb \n",
       "\n",
       "Geary C statistic standard deviate = -0.22804, p-value = 0.5902\n",
       "alternative hypothesis: Expectation greater than statistic\n",
       "sample estimates:\n",
       "Geary C statistic       Expectation          Variance \n",
       "       1.03260870        1.00000000        0.02044711 \n"
      ]
     },
     "metadata": {},
     "output_type": "display_data"
    }
   ],
   "source": [
    "## Extract residuals.\n",
    "YVar.sf.res <- round(residuals(YVar.sf, type=\"response\"))\n",
    "\n",
    "## Analyze autocorrelation test statistics for residuals.\n",
    "moran.test(YVar.sf.res, inFeaturesSubset.listb)\n",
    "geary.test(YVar.sf.res, inFeaturesSubset.listb)"
   ]
  },
  {
   "cell_type": "markdown",
   "metadata": {},
   "source": [
    "### Visualize the Spatial Filtered Fitted Values\n",
    "\n",
    "The fitted values (the difference between the response variable and the residuals) from the spatially filtered model are output to a field named 'fitted' associated with the SAR output. Let's evaluate the geographic distribution of these fitted values.  Notice that the fitted values all fall within the range [0,1]!"
   ]
  },
  {
   "cell_type": "code",
   "execution_count": 15,
   "metadata": {},
   "outputs": [
    {
     "data": {
      "image/png": "[encoded data removed]",
      "text/plain": [
       "Plot with title \"Spatial Filtered Fitted Values (raw values)\""
      ]
     },
     "metadata": {
      "image/png": {
       "height": 360,
       "width": 360
      }
     },
     "output_type": "display_data"
    }
   ],
   "source": [
    "## Classify the variable.\n",
    "numcat <- 5\n",
    "cate <- classIntervals(YVar.sf$fitted, numcat, style=\"quantile\")\n",
    "\n",
    "## Assign colors to categories.\n",
    "pal <- brewer.pal(numcat,\"Reds\")\n",
    "cols <- findColours(cate,pal)\n",
    "\n",
    "## Visualize the fitted values.\n",
    "plot(inFeaturesSubset, col=cols, lwd=.2,main=\"Spatial Filtered Fitted Values (raw values)\",cex.main=.8)\n",
    "brks <- round(cate$brks,3)\n",
    "leg <- paste(brks[-(numcat+1)], brks[-1], sep=\" - \")\n",
    "legend(\"bottomleft\", fill=pal, legend=leg, bty=\"n\",title=\"Predicted Values\",cex=.7)"
   ]
  },
  {
   "cell_type": "markdown",
   "metadata": {},
   "source": [
    "### Round the fitted values and visualize the predicted values\n",
    "\n",
    "Given the fitted values now fall between 0 and 1, let's round them so they are either 0 or 1...just as the response variables were originally."
   ]
  },
  {
   "cell_type": "code",
   "execution_count": 16,
   "metadata": {},
   "outputs": [
    {
     "data": {
      "image/png": "[encoded data removed]",
      "text/plain": [
       "Plot with title \"Spatial Filter Fitted Values (rounded values)\""
      ]
     },
     "metadata": {
      "image/png": {
       "height": 360,
       "width": 360
      }
     },
     "output_type": "display_data"
    }
   ],
   "source": [
    "## Assign colors to categories.\n",
    "pal <- c(\"lightgray\",\"lightblue\")\n",
    "cols <- pal[round(YVar.sf$fitted)+1]\n",
    "\n",
    "## Visualize the rounded fitted values.\n",
    "plot(inFeaturesSubset, col=cols, lwd=.2,main=\"Spatial Filter Fitted Values (rounded values)\",cex.main=.8)\n",
    "leg <- c(\"0\", \"1\")\n",
    "legend(\"bottomleft\", fill=pal, legend=leg, bty=\"n\",title=\"Predicted Values\",cex=.7)"
   ]
  },
  {
   "cell_type": "markdown",
   "metadata": {},
   "source": [
    "# SAVE YOUR NOTEBOOK, then `File > Close and Halt`"
   ]
  },
  {
   "attachments": {
    "copyright.png": {
     "image/png": "[encoded data removed]"
    }
   },
   "cell_type": "markdown",
   "metadata": {},
   "source": [
    "![copyright.png](attachment:copyright.png)"
   ]
  }
 ],
 "metadata": {
  "kernelspec": {
   "display_name": "R",
   "language": "R",
   "name": "ir"
  },
  "language_info": {
   "codemirror_mode": "r",
   "file_extension": ".r",
   "mimetype": "text/x-r-source",
   "name": "R",
   "pygments_lexer": "r",
   "version": "4.1.3"
  }
 },
 "nbformat": 4,
 "nbformat_minor": 2
}
