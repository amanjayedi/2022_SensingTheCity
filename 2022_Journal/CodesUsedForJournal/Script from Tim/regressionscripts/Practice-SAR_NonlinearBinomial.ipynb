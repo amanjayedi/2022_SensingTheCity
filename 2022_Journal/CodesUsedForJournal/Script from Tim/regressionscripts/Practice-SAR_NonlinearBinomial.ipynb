{
 "cells": [
  {
   "cell_type": "markdown",
   "metadata": {},
   "source": [
    "# Practice - SAR Nonlinear Binomial Models"
   ]
  },
  {
   "cell_type": "markdown",
   "metadata": {},
   "source": [
    "## Spatially Adjusted Regression - Non-Linear Models (continuous response variable)\n",
    "\n",
    "Standard Logistic Regression vs Logistic Regression with Eigenvector Spatial Filter\n",
    "\n",
    "What if the response variables are not binary, but rather take the form of percentages? In such cases, a binomial model may be an option...if you desire the predicted values to lie somewhere between 0.0 and infinity.\n",
    "\n",
    "In this practice, it is assumed that we are working under a non-linear, non-normal probability model. \n",
    "\n",
    "The goals of this practice are to: \n",
    "\n",
    "a) evaluate a standard logistic regression using a continuous dependent variable when spatial autocorrelation may be present, and \n",
    "\n",
    "b) evaluate the same relationships given the ability to adjust for spatial autocorrelation using the rho term obtained from a logistic model adjusted with an eigenvector spatial filter."
   ]
  },
  {
   "cell_type": "markdown",
   "metadata": {},
   "source": [
    "### Load relevant libraries\n",
    "\n",
    "Documentation for the R libraries used in this notebook can be found at: \n",
    "   \n",
    "  \n",
    "  - [rgdal library](https://web.dsa.missouri.edu/static/PDF/R/rgdal.pdf)   \n",
    "  \n",
    "  - [classInt library](https://web.dsa.missouri.edu/static/PDF/R/classInt.pdf)\n",
    "  \n",
    "  - [spdep library](https://web.dsa.missouri.edu/static/PDF/R/spdep.pdf)\n",
    "  \n",
    "  - [RColorBrewer library](https://web.dsa.missouri.edu/static/PDF/R/RColorBrewer.pdf)  \n",
    "  \n",
    "  - [car library](https://web.dsa.missouri.edu/static/PDF/R/car.pdf)\n",
    "  \n",
    "  - [MASS library](https://web.dsa.missouri.edu/static/PDF/R/MASS.pdf)"
   ]
  },
  {
   "cell_type": "code",
   "execution_count": 1,
   "metadata": {},
   "outputs": [],
   "source": [
    "## Load relevant R packages.\n",
    "inLibraries = list('rgdal','spdep','spatialreg','classInt','car','RColorBrewer','MASS')\n",
    "for (rpack in inLibraries) {\n",
    "  if (is.element(rpack,installed.packages()[,1])){           \n",
    "      #Load the library into R\n",
    "      suppressMessages(library(rpack,character.only = TRUE))\n",
    "    }\n",
    "    else {\n",
    "        print(paste(\"Warning:  \",rpack,\" is not an installed package\"))\n",
    "    }\n",
    "}\n",
    "\n",
    "## Resize plot area.\n",
    "options(repr.plot.width=6, repr.plot.height=6)"
   ]
  },
  {
   "cell_type": "markdown",
   "metadata": {},
   "source": [
    "## US Farming Data\n",
    "\n",
    "In this practice, we will be working with county data on agricultural practices in the USA (usagriculture/usfarming.shp). Elements of this dataset were obtained from the 2012 [US Ag. Census](https://web.dsa.missouri.edu/static/PDF/R/Ag_Census_Map_documentation_07172015.pdf) ; External source: https://agcensus.library.cornell.edu/census_year/2012-census/. The fields in this dataset may seem kinda mystical, but they are documented in depth at the website noted above (download the associated [Ag. Census Excel](https://web.dsa.missouri.edu/static/PDF/R/Ag_Census_Map_data_07172015.xlsx).\n",
    "\n",
    "There is also a field in the usfarming polygons named 'GRIDCODE', which reflects mean annual precipitation between 1990 and 2009 for each county. The original precipitation data was obtained from (USGS United States Average Annual Precipitation 1990-2009, data can be found at - External source: https://data.globalchange.gov/dataset/usgs-united-states-average-annual-precipitation-1990-2009). The precip. data were then spatially joined to the county polygons.\n",
    "\n",
    "Note: By all means, this is not really a large dataset (3070 records), however, since all operations will be conducted on a remote server, the size of the data coupled with the complexity of the methods could result in longer times required to obtain the results for each step.\n",
    "\n",
    "First, read in the county level data."
   ]
  },
  {
   "cell_type": "code",
   "execution_count": 2,
   "metadata": {},
   "outputs": [
    {
     "name": "stdout",
     "output_type": "stream",
     "text": [
      "OGR data source with driver: ESRI Shapefile \n",
      "Source: \"C:\\Users\\ja2qm\\MIZZOU\\_MotherFolderAmanWorks\\Aman thesis works\\_1_FinalTopic\\_CAADRIA2022\\Paper_2\\SensingTheCity_Stat_R_TimScript\\Script from Tim\\usfarmsdata\", layer: \"usfarming\"\n",
      "with 3070 features\n",
      "It has 93 fields\n",
      "Integer64 fields read as strings:  Join_Count TARGET_FID cntyn ID GRIDCODE \n"
     ]
    }
   ],
   "source": [
    "## Read in the featureclass.\n",
    "#inFeatures <- readOGR(\"/dsa/data/geospatial/DS8612/usagriculture\",\"usfarming\",GDAL1_integer64_policy=TRUE)\n",
    "inFeatures <- readOGR(dsn=\"C:/Users/ja2qm/MIZZOU/_MotherFolderAmanWorks/Aman thesis works/_1_FinalTopic/_CAADRIA2022/Paper_2/SensingTheCity_Stat_R_TimScript/Script from Tim/usfarmsdata\", layer=\"usfarming\")"
   ]
  },
  {
   "cell_type": "markdown",
   "metadata": {},
   "source": [
    "## Subset Features\n",
    "\n",
    "As agricultural conditions vary considerably over the U.S., let's select a specific state to analyze - California.\n",
    "\n",
    "Note that state names are not explicitly included in the dataset. However, the FIPS (Federal Information Processing Specification) code for each county is provided. Typically, the first two digits of a FIPS code reflect the state id number while the last three reflect a specific county within a state.  In this dataset, the 'atlas_stco' field contains the FIPS code as a character variable. Thus, in order to select the first two characters associated with a particular state, we need some way to match one portion of a string to another. There are several ways to do this. In this case, first a new field is added to the dataframe 'stcode' and populated with the first two characters in the 'atlas_stco' field which is the FIPS code. Next, grep() is used to select the FIPS code prefixes which correspond with the FIPS code of California ('06')."
   ]
  },
  {
   "cell_type": "code",
   "execution_count": 3,
   "metadata": {},
   "outputs": [
    {
     "data": {
      "image/png": "[encoded data removed]",
      "text/plain": [
       "Plot with title \"California Counties\""
      ]
     },
     "metadata": {
      "image/png": {
       "height": 360,
       "width": 360
      }
     },
     "output_type": "display_data"
    }
   ],
   "source": [
    "## Add new column to data frame and populate with first two numbers of FIPS code.\n",
    "inFeatures@data$stcode <- substr(inFeatures@data$atlas_stco, start=1, stop=2)\n",
    "\n",
    "## Select features with a state FIPS code beginning with...\n",
    "inFeaturesSubsetA <- inFeatures[grep(\"06\", inFeatures@data$stcode), ]\n",
    "\n",
    "## Visualize the state selected.\n",
    "plot(inFeaturesSubsetA,col=\"lightblue\", lwd=.2, main=\"California Counties\",cex.main=.8)"
   ]
  },
  {
   "cell_type": "markdown",
   "metadata": {},
   "source": [
    "## Generate Neighborhoods for Features¶\n",
    "\n",
    "As before, generate neighborhoods for each feature. Then test the neighborhoods to see if they are valid. Retain only the features with valid neighborhoods."
   ]
  },
  {
   "cell_type": "code",
   "execution_count": 4,
   "metadata": {},
   "outputs": [],
   "source": [
    "## Identify the neighbors of each feature.\n",
    "inFeaturesSubsetA.nb <- poly2nb(inFeaturesSubsetA ,queen=TRUE)\n",
    "\n",
    "## Select features with at least one neighbor.\n",
    "inFeaturesSubset <- inFeaturesSubsetA[card(inFeaturesSubsetA.nb) >= 1, ]\n",
    "\n",
    "## Identify the neighbors of each feature having at least one neighbor.\n",
    "inFeaturesSubset.nb <- poly2nb(inFeaturesSubset, queen=TRUE)\n",
    "\n",
    "## Retrieve neighborhood list.\n",
    "inFeaturesSubset.listb <- nb2listw(inFeaturesSubset.nb,style=\"B\")\n",
    "inFeaturesSubset.listw <- nb2listw(inFeaturesSubset.nb,style=\"W\")"
   ]
  },
  {
   "cell_type": "markdown",
   "metadata": {},
   "source": [
    "## Analysis Variables\n",
    "\n",
    "Configure the variables to analyze. \n",
    "\n",
    "In this practice, the dependent variable is 'y12_M082_1' (acres of irrigated land as percent of land in farms acreage (year 2012)) and the explanatory variable will be 'GRIDCODE' (mean annual rainfall 1990-2009). Also, 'y12_M249_1' is the number of farms in 2012, a variable that may be of use later on.\n",
    "\n",
    "Non-linear logistic regression expects the response variable values to range between 0 and 1. As is, the 'y12_M082_1' rates range between 0 and 100%. Thus, before a logistic regression can be applied, they need to be rescaled to the [0,1] range (i.e. divided by 100 in this case)."
   ]
  },
  {
   "cell_type": "code",
   "execution_count": 5,
   "metadata": {},
   "outputs": [],
   "source": [
    "## Acres of irrigated land as a percent of land in farms acreage.\n",
    "inVa <- inFeaturesSubset$y12_M082_1\n",
    "\n",
    "## Number of farms in 2012.\n",
    "inVb <- inFeaturesSubset$y12_M249_1 \n",
    "\n",
    "## Response variable.\n",
    "YVar <- inVa/100\n",
    "\n",
    "## Explanatory variable.\n",
    "Exp1 <- inFeaturesSubset$GRIDCODE"
   ]
  },
  {
   "cell_type": "markdown",
   "metadata": {},
   "source": [
    "### Visualize the Observed  Variable\n",
    "\n",
    "Visualize the dependent variable."
   ]
  },
  {
   "cell_type": "code",
   "execution_count": 6,
   "metadata": {},
   "outputs": [
    {
     "data": {
      "image/png": "[encoded data removed]",
      "text/plain": [
       "Plot with title \"Dependent Variable\""
      ]
     },
     "metadata": {
      "image/png": {
       "height": 360,
       "width": 360
      }
     },
     "output_type": "display_data"
    }
   ],
   "source": [
    "## Classify the variable.\n",
    "numcat <- 5\n",
    "cate <- classIntervals(YVar, numcat, style=\"quantile\")\n",
    "\n",
    "## Assign colors to categories.\n",
    "pal <- brewer.pal(numcat,\"Reds\")\n",
    "cols <- findColours(cate,pal)\n",
    "\n",
    "## Visualize the dependent variable.\n",
    "plot(inFeaturesSubset, col=cols, lwd=.2,main=\"Dependent Variable\",cex.main=.8)\n",
    "brks <- round(cate$brks,3)\n",
    "leg <- paste(brks[-(numcat+1)], brks[-1], sep=\" - \")\n",
    "legend(\"bottomleft\", fill=pal, legend=leg, bty=\"n\",title=\"Proportion Irrigated Farmland\",cex=.7)"
   ]
  },
  {
   "cell_type": "markdown",
   "metadata": {},
   "source": [
    "### Visualize the Explanatory Variable"
   ]
  },
  {
   "cell_type": "code",
   "execution_count": 7,
   "metadata": {},
   "outputs": [
    {
     "ename": "ERROR",
     "evalue": "Error in classIntervals(Exp1, numcat, style = \"quantile\"): var is not numeric\n",
     "output_type": "error",
     "traceback": [
      "Error in classIntervals(Exp1, numcat, style = \"quantile\"): var is not numeric\nTraceback:\n",
      "1. classIntervals(Exp1, numcat, style = \"quantile\")",
      "2. stop(\"var is not numeric\")"
     ]
    }
   ],
   "source": [
    "## Classify the variable.\n",
    "numcat <- 5\n",
    "cate <- classIntervals(Exp1, numcat, style=\"quantile\")\n",
    "\n",
    "## Assign colors to categories.\n",
    "pal <- brewer.pal(numcat,\"Reds\")\n",
    "cols <- findColours(cate,pal)\n",
    "\n",
    "## Visualize the explanatory variable.\n",
    "plot(inFeaturesSubset, col=cols, lwd=.2,main=\"Explanatory Variable\",cex.main=.8)\n",
    "brks <- round(cate$brks,3)\n",
    "leg <- paste(brks[-(numcat+1)], brks[-1], sep=\" - \")\n",
    "legend(\"bottomleft\", fill=pal, legend=leg, bty=\"n\",title=\"Average Annual Rainfall\",cex=.7)"
   ]
  },
  {
   "cell_type": "markdown",
   "metadata": {},
   "source": [
    "## Examine Test Statistics for Autocorrelation\n",
    "\n",
    "Is there any indication of significant spatial autocorrelation within this response variable?"
   ]
  },
  {
   "cell_type": "code",
   "execution_count": 8,
   "metadata": {},
   "outputs": [
    {
     "data": {
      "text/plain": [
       "\n",
       "\tMoran I test under randomisation\n",
       "\n",
       "data:  YVar  \n",
       "weights: inFeaturesSubset.listb    \n",
       "\n",
       "Moran I statistic standard deviate = 2.9575, p-value = 0.001551\n",
       "alternative hypothesis: greater\n",
       "sample estimates:\n",
       "Moran I statistic       Expectation          Variance \n",
       "      0.221279446      -0.017543860       0.006520776 \n"
      ]
     },
     "metadata": {},
     "output_type": "display_data"
    },
    {
     "data": {
      "text/plain": [
       "\n",
       "\tGeary C test under randomisation\n",
       "\n",
       "data:  YVar \n",
       "weights: inFeaturesSubset.listb \n",
       "\n",
       "Geary C statistic standard deviate = 2.8001, p-value = 0.002555\n",
       "alternative hypothesis: Expectation greater than statistic\n",
       "sample estimates:\n",
       "Geary C statistic       Expectation          Variance \n",
       "      0.724123989       1.000000000       0.009707066 \n"
      ]
     },
     "metadata": {},
     "output_type": "display_data"
    }
   ],
   "source": [
    "## Run the Moran test.\n",
    "moran.test(YVar, inFeaturesSubset.listb)\n",
    "\n",
    "## Run the Geary test.\n",
    "geary.test(YVar, inFeaturesSubset.listb)"
   ]
  },
  {
   "cell_type": "markdown",
   "metadata": {},
   "source": [
    "## Logistic Regression\n",
    "\n",
    "First, let's estimate a standard logistic regression model. In this case, it will be specified as 'quasibinomial' given the response variable is actually continuous."
   ]
  },
  {
   "cell_type": "code",
   "execution_count": 9,
   "metadata": {},
   "outputs": [
    {
     "data": {
      "text/plain": [
       "\n",
       "Call:\n",
       "glm(formula = YVar ~ Exp1, family = quasibinomial)\n",
       "\n",
       "Deviance Residuals: \n",
       "    Min       1Q   Median       3Q      Max  \n",
       "-0.6580  -0.1694   0.0000   0.1138   0.7028  \n",
       "\n",
       "Coefficients:\n",
       "              Estimate Std. Error t value Pr(>|t|)\n",
       "(Intercept) -1.957e+01  4.157e+03  -0.005    0.996\n",
       "Exp112       2.158e+01  4.157e+03   0.005    0.996\n",
       "Exp116       1.999e+01  4.157e+03   0.005    0.996\n",
       "Exp117       1.860e+01  4.157e+03   0.004    0.996\n",
       "Exp118       1.874e+01  4.157e+03   0.005    0.996\n",
       "Exp120       1.855e+01  4.157e+03   0.004    0.996\n",
       "Exp121       1.862e+01  4.157e+03   0.004    0.996\n",
       "Exp122       2.019e+01  4.157e+03   0.005    0.996\n",
       "Exp123       1.683e+01  4.157e+03   0.004    0.997\n",
       "Exp124       1.881e+01  4.157e+03   0.005    0.996\n",
       "Exp125       1.772e+01  4.157e+03   0.004    0.997\n",
       "Exp126       1.773e+01  4.157e+03   0.004    0.997\n",
       "Exp127       1.899e+01  4.157e+03   0.005    0.996\n",
       "Exp128      -5.612e-08  5.879e+03   0.000    1.000\n",
       "Exp129       1.956e+01  4.157e+03   0.005    0.996\n",
       "Exp130       1.854e+01  4.157e+03   0.004    0.996\n",
       "Exp133       1.959e+01  4.157e+03   0.005    0.996\n",
       "Exp134       1.643e+01  4.157e+03   0.004    0.997\n",
       "Exp136       1.503e+01  4.157e+03   0.004    0.997\n",
       "Exp137       1.679e+01  4.157e+03   0.004    0.997\n",
       "Exp138       1.914e+01  4.157e+03   0.005    0.996\n",
       "Exp140       1.765e+01  4.157e+03   0.004    0.997\n",
       "Exp141       1.746e+01  4.157e+03   0.004    0.997\n",
       "Exp144       1.900e+01  4.157e+03   0.005    0.996\n",
       "Exp146       1.789e+01  4.157e+03   0.004    0.997\n",
       "Exp148       1.764e+01  4.157e+03   0.004    0.997\n",
       "Exp150       1.747e+01  4.157e+03   0.004    0.997\n",
       "Exp151       1.932e+01  4.157e+03   0.005    0.996\n",
       "Exp152       1.831e+01  4.157e+03   0.004    0.997\n",
       "Exp156       1.886e+01  4.157e+03   0.005    0.996\n",
       "Exp160       1.739e+01  4.157e+03   0.004    0.997\n",
       "Exp164       1.620e+01  4.157e+03   0.004    0.997\n",
       "Exp165       1.489e+01  4.157e+03   0.004    0.997\n",
       "Exp174       1.604e+01  4.157e+03   0.004    0.997\n",
       "\n",
       "(Dispersion parameter for quasibinomial family taken to be 0.1494244)\n",
       "\n",
       "    Null deviance: 14.4176  on 57  degrees of freedom\n",
       "Residual deviance:  3.8112  on 24  degrees of freedom\n",
       "AIC: NA\n",
       "\n",
       "Number of Fisher Scoring iterations: 18\n"
      ]
     },
     "metadata": {},
     "output_type": "display_data"
    }
   ],
   "source": [
    "## Conduct logistic regression.\n",
    "YVar.base <- glm(YVar ~ Exp1, family=quasibinomial)\n",
    "\n",
    "## Examine model results.\n",
    "summary(YVar.base)\n",
    "disp <- summary(YVar.base)$dispersion"
   ]
  },
  {
   "cell_type": "markdown",
   "metadata": {},
   "source": [
    "### Examine Autocorrelation in Residuals\n",
    "\n",
    "Is spatial autocorrelation affecting the residuals obtained via the basic logistic model specification?  Well, that seems to be the case...something that really doesn't bode well for interpretation of the results!"
   ]
  },
  {
   "cell_type": "code",
   "execution_count": 10,
   "metadata": {},
   "outputs": [
    {
     "data": {
      "text/plain": [
       "\n",
       "\tMoran I test under randomisation\n",
       "\n",
       "data:  YVar.base.res  \n",
       "weights: inFeaturesSubset.listb    \n",
       "\n",
       "Moran I statistic standard deviate = -1.6763, p-value = 0.9532\n",
       "alternative hypothesis: greater\n",
       "sample estimates:\n",
       "Moran I statistic       Expectation          Variance \n",
       "     -0.151527382      -0.017543860       0.006388682 \n"
      ]
     },
     "metadata": {},
     "output_type": "display_data"
    },
    {
     "data": {
      "text/plain": [
       "\n",
       "\tGeary C test under randomisation\n",
       "\n",
       "data:  YVar.base.res \n",
       "weights: inFeaturesSubset.listb \n",
       "\n",
       "Geary C statistic standard deviate = -1.9347, p-value = 0.9735\n",
       "alternative hypothesis: Expectation greater than statistic\n",
       "sample estimates:\n",
       "Geary C statistic       Expectation          Variance \n",
       "       1.20714624        1.00000000        0.01146403 \n"
      ]
     },
     "metadata": {},
     "output_type": "display_data"
    }
   ],
   "source": [
    "## Get logistic residuals.\n",
    "YVar.base.res <- residuals(YVar.base, type=\"response\")\n",
    "\n",
    "## Analyze autocorrelation test statistics for residuals using the Moran test.\n",
    "moran.test(YVar.base.res, inFeaturesSubset.listb)\n",
    "## Analyze autocorrelation test statistics for residuals using the Geary test.\n",
    "geary.test(YVar.base.res, inFeaturesSubset.listb)"
   ]
  },
  {
   "cell_type": "markdown",
   "metadata": {},
   "source": [
    "## Develop an Eigenvector Spatial Filter\n",
    "\n",
    "Now, let's try to improve upon this base logistic specification and build an Eigenvector spatial filter."
   ]
  },
  {
   "cell_type": "markdown",
   "metadata": {},
   "source": [
    "### Generate Eigenvalues and Eigenvectors\n",
    "\n",
    "The first step is to compute the 'MBM' matrix. Note that matrix 'B' is the spatial weights matrix.\n",
    "\n",
    "The second step is to generate eigenvalues and eigenvectors that correspond with the dimensions of the input data.\n",
    "\n",
    "The third step is to do a first cut to weed out eigenvectors that are likely not that relevant for explaining spatial autocorrelation."
   ]
  },
  {
   "cell_type": "code",
   "execution_count": 11,
   "metadata": {},
   "outputs": [],
   "source": [
    "## Compute MBM.\n",
    "n <- length(inFeaturesSubset)\n",
    "M <- diag(n) - matrix(1,n,n)/n\n",
    "B <- listw2mat(inFeaturesSubset.listb)\n",
    "\n",
    "MBM <- M %*% B %*% M\n",
    "\n",
    "## Compute eigenvectors and values.\n",
    "eig <- eigen(MBM, symmetric=T)\n",
    "\n",
    "## Select most relevant eigenvectors (first cut).\n",
    "cutThreshold <- 0.25\n",
    "EV <- as.data.frame( eig$vectors[ ,eig$values/eig$values[1] > cutThreshold])\n",
    "colnames(EV) <- paste(\"EV\", 1:NCOL(EV),sep=\"\")"
   ]
  },
  {
   "cell_type": "markdown",
   "metadata": {},
   "source": [
    "### Use Stepwise Regression to Refine Set of Eigenvectors\n",
    "\n",
    "Refine the set of relevant eigenvectors using step-wise regression.  How many Eigenvectors are selected?  According to the code, which parameters influence how many Eigenvectors are selected?  Hey, what is an Eigenvector anyway?"
   ]
  },
  {
   "cell_type": "code",
   "execution_count": 12,
   "metadata": {},
   "outputs": [
    {
     "name": "stderr",
     "output_type": "stream",
     "text": [
      "Warning message in eval(family$initialize):\n",
      "\"non-integer #successes in a binomial glm!\"\n",
      "Warning message in eval(family$initialize):\n",
      "\"non-integer #successes in a binomial glm!\"\n"
     ]
    },
    {
     "name": "stdout",
     "output_type": "stream",
     "text": [
      "Start:  AIC=89.51\n",
      "YVar ~ Exp1\n",
      "\n"
     ]
    },
    {
     "name": "stderr",
     "output_type": "stream",
     "text": [
      "Warning message in eval(family$initialize):\n",
      "\"non-integer #successes in a binomial glm!\"\n",
      "Warning message in eval(family$initialize):\n",
      "\"non-integer #successes in a binomial glm!\"\n",
      "Warning message in eval(family$initialize):\n",
      "\"non-integer #successes in a binomial glm!\"\n",
      "Warning message in eval(family$initialize):\n",
      "\"non-integer #successes in a binomial glm!\"\n",
      "Warning message in eval(family$initialize):\n",
      "\"non-integer #successes in a binomial glm!\"\n",
      "Warning message in eval(family$initialize):\n",
      "\"non-integer #successes in a binomial glm!\"\n",
      "Warning message in eval(family$initialize):\n",
      "\"non-integer #successes in a binomial glm!\"\n",
      "Warning message in eval(family$initialize):\n",
      "\"non-integer #successes in a binomial glm!\"\n",
      "Warning message in eval(family$initialize):\n",
      "\"non-integer #successes in a binomial glm!\"\n",
      "Warning message in eval(family$initialize):\n",
      "\"non-integer #successes in a binomial glm!\"\n",
      "Warning message in eval(family$initialize):\n",
      "\"non-integer #successes in a binomial glm!\"\n",
      "Warning message in eval(family$initialize):\n",
      "\"non-integer #successes in a binomial glm!\"\n",
      "Warning message in eval(family$initialize):\n",
      "\"non-integer #successes in a binomial glm!\"\n",
      "Warning message in eval(family$initialize):\n",
      "\"non-integer #successes in a binomial glm!\"\n",
      "Warning message in eval(family$initialize):\n",
      "\"non-integer #successes in a binomial glm!\"\n"
     ]
    },
    {
     "name": "stdout",
     "output_type": "stream",
     "text": [
      "       Df Deviance    AIC\n",
      "+ EV10  1   3.4486 88.684\n",
      "+ EV8   1   3.5191 89.156\n",
      "+ EV5   1   3.5719 89.510\n",
      "<none>      3.8112 89.511\n",
      "+ EV4   1   3.6303 89.900\n",
      "+ EV2   1   3.6891 90.294\n",
      "+ EV13  1   3.7007 90.372\n",
      "+ EV11  1   3.7644 90.798\n",
      "+ EV12  1   3.7716 90.846\n",
      "+ EV3   1   3.7806 90.906\n",
      "+ EV6   1   3.7887 90.961\n",
      "+ EV14  1   3.7919 90.982\n",
      "+ EV7   1   3.8020 91.049\n",
      "+ EV9   1   3.8059 91.076\n",
      "+ EV1   1   3.8074 91.086\n"
     ]
    },
    {
     "name": "stderr",
     "output_type": "stream",
     "text": [
      "Warning message in eval(family$initialize):\n",
      "\"non-integer #successes in a binomial glm!\"\n"
     ]
    },
    {
     "name": "stdout",
     "output_type": "stream",
     "text": [
      "\n",
      "Step:  AIC=91.47\n",
      "YVar ~ Exp1 + EV10\n",
      "\n"
     ]
    },
    {
     "data": {
      "text/plain": [
       "\n",
       "Call:  glm(formula = YVar ~ Exp1 + EV10, family = binomial, data = EV)\n",
       "\n",
       "Coefficients:\n",
       "(Intercept)       Exp112       Exp116       Exp117       Exp118       Exp120  \n",
       "   -20.3064      22.6499      21.0404      19.0343      19.6479      19.1159  \n",
       "     Exp121       Exp122       Exp123       Exp124       Exp125       Exp126  \n",
       "    19.3263      20.1791      17.7108      19.2608      19.0856      18.1835  \n",
       "     Exp127       Exp128       Exp129       Exp130       Exp133       Exp134  \n",
       "    19.8287       0.8084      20.0467      19.6140      20.1948      16.7446  \n",
       "     Exp136       Exp137       Exp138       Exp140       Exp141       Exp144  \n",
       "    16.3437      17.6471      19.9049      18.7808      18.3448      19.9961  \n",
       "     Exp146       Exp148       Exp150       Exp151       Exp152       Exp156  \n",
       "    18.3806      18.4086      18.8431      19.7543      18.2902      19.7986  \n",
       "     Exp160       Exp164       Exp165       Exp174         EV10  \n",
       "    18.3990      16.9915      15.2206      15.9309      -2.9608  \n",
       "\n",
       "Degrees of Freedom: 57 Total (i.e. Null);  23 Residual\n",
       "Null Deviance:\t    14.42 \n",
       "Residual Deviance: 3.449 \tAIC: 105.5"
      ]
     },
     "metadata": {},
     "output_type": "display_data"
    }
   ],
   "source": [
    "## Conduct stepwise regression to spatially filter Eigenvectors.\n",
    "## Specify full model with all eigenvectors.\n",
    "YVar.full <- glm(YVar ~ Exp1 + ., data=EV,family=binomial)\n",
    "\n",
    "## Apply stepwise regression.\n",
    "YVar.sf <- stepAIC(glm(YVar~Exp1, data=EV, family=binomial),scale=disp, scope=list(upper=YVar.full), direction=\"forward\",k=1.6)\n",
    "YVar.sf\n",
    "coefnm <- names(coef(YVar.sf))\n",
    "\n",
    "## Extract upto exComp components to analyze from final model.\n",
    "exComp <- 7\n",
    "ctit <- 1\n",
    "formula2 <- c(YVar ~ Exp1)\n",
    "formlist <- list()\n",
    "formula3 <- c()\n",
    "incnt <- 1\n",
    "for (ele in coefnm)   {\n",
    "    if ((ctit <= exComp)&& (startsWith(ele,\"EV\"))) {\n",
    "        formula2 <- paste(formula2, \"+\", sep=\" \")\n",
    "        formula2 <- paste(formula2, ele, sep=\" \")\n",
    "        s1 = unlist(strsplit(ele, split='EV', fixed=TRUE))[2]\n",
    "        formlist[[ctit]] <- as.numeric(s1)\n",
    "        \n",
    "        ctit <- ctit + 1\n",
    "    }\n",
    "    incnt <- incnt + 1   \n",
    "}\n",
    "\n",
    "formula3 <- unlist(formlist)"
   ]
  },
  {
   "cell_type": "markdown",
   "metadata": {},
   "source": [
    "### Given the selected Eigenvectors, run the spatially filtered model\n",
    "\n",
    "How should the results be interpreted?  How do the results differ from the basic logistic regression?  Note that deviance of spatially filtered regression is much lower than that of the basic logistic regression.  What is deviance and dispersion and how should those be interpreted?"
   ]
  },
  {
   "cell_type": "code",
   "execution_count": 13,
   "metadata": {},
   "outputs": [
    {
     "data": {
      "text/plain": [
       "\n",
       "Call:\n",
       "glm(formula = formula2, family = quasibinomial, data = EV)\n",
       "\n",
       "Deviance Residuals: \n",
       "     Min        1Q    Median        3Q       Max  \n",
       "-0.61783  -0.13310   0.00000   0.07947   0.80476  \n",
       "\n",
       "Coefficients:\n",
       "             Estimate Std. Error t value Pr(>|t|)\n",
       "(Intercept)  -20.3064  4111.7662  -0.005    0.996\n",
       "Exp112        22.6499  4111.7664   0.006    0.996\n",
       "Exp116        21.0404  4111.7663   0.005    0.996\n",
       "Exp117        19.0343  4111.7663   0.005    0.996\n",
       "Exp118        19.6479  4111.7663   0.005    0.996\n",
       "Exp120        19.1159  4111.7663   0.005    0.996\n",
       "Exp121        19.3263  4111.7663   0.005    0.996\n",
       "Exp122        20.1791  4111.7663   0.005    0.996\n",
       "Exp123        17.7108  4111.7666   0.004    0.997\n",
       "Exp124        19.2608  4111.7663   0.005    0.996\n",
       "Exp125        19.0856  4111.7665   0.005    0.996\n",
       "Exp126        18.1835  4111.7664   0.004    0.997\n",
       "Exp127        19.8287  4111.7663   0.005    0.996\n",
       "Exp128         0.8084  5814.9156   0.000    1.000\n",
       "Exp129        20.0467  4111.7663   0.005    0.996\n",
       "Exp130        19.6140  4111.7663   0.005    0.996\n",
       "Exp133        20.1948  4111.7663   0.005    0.996\n",
       "Exp134        16.7446  4111.7664   0.004    0.997\n",
       "Exp136        16.3437  4111.7671   0.004    0.997\n",
       "Exp137        17.6471  4111.7666   0.004    0.997\n",
       "Exp138        19.9049  4111.7663   0.005    0.996\n",
       "Exp140        18.7808  4111.7663   0.005    0.996\n",
       "Exp141        18.3448  4111.7663   0.004    0.996\n",
       "Exp144        19.9961  4111.7663   0.005    0.996\n",
       "Exp146        18.3806  4111.7663   0.004    0.996\n",
       "Exp148        18.4086  4111.7663   0.004    0.996\n",
       "Exp150        18.8431  4111.7665   0.005    0.996\n",
       "Exp151        19.7543  4111.7663   0.005    0.996\n",
       "Exp152        18.2902  4111.7663   0.004    0.996\n",
       "Exp156        19.7986  4111.7663   0.005    0.996\n",
       "Exp160        18.3990  4111.7665   0.004    0.996\n",
       "Exp164        16.9915  4111.7668   0.004    0.997\n",
       "Exp165        15.2206  4111.7682   0.004    0.997\n",
       "Exp174        15.9309  4111.7669   0.004    0.997\n",
       "EV10          -2.9608     1.8967  -1.561    0.132\n",
       "\n",
       "(Dispersion parameter for quasibinomial family taken to be 0.1461893)\n",
       "\n",
       "    Null deviance: 14.4176  on 57  degrees of freedom\n",
       "Residual deviance:  3.4486  on 23  degrees of freedom\n",
       "AIC: NA\n",
       "\n",
       "Number of Fisher Scoring iterations: 18\n"
      ]
     },
     "metadata": {},
     "output_type": "display_data"
    },
    {
     "data": {
      "text/html": [
       "<span style=white-space:pre-wrap>'Deviance Base Model =  0.158799240300324'</span>"
      ],
      "text/latex": [
       "'Deviance Base Model =  0.158799240300324'"
      ],
      "text/markdown": [
       "<span style=white-space:pre-wrap>'Deviance Base Model =  0.158799240300324'</span>"
      ],
      "text/plain": [
       "[1] \"Deviance Base Model =  0.158799240300324\""
      ]
     },
     "metadata": {},
     "output_type": "display_data"
    },
    {
     "data": {
      "text/html": [
       "<span style=white-space:pre-wrap>'Deviance Spatial Filter =  0.149937744312537'</span>"
      ],
      "text/latex": [
       "'Deviance Spatial Filter =  0.149937744312537'"
      ],
      "text/markdown": [
       "<span style=white-space:pre-wrap>'Deviance Spatial Filter =  0.149937744312537'</span>"
      ],
      "text/plain": [
       "[1] \"Deviance Spatial Filter =  0.149937744312537\""
      ]
     },
     "metadata": {},
     "output_type": "display_data"
    },
    {
     "data": {
      "text/html": [
       "<span style=white-space:pre-wrap>'Dispersion =  0.146189341408046'</span>"
      ],
      "text/latex": [
       "'Dispersion =  0.146189341408046'"
      ],
      "text/markdown": [
       "<span style=white-space:pre-wrap>'Dispersion =  0.146189341408046'</span>"
      ],
      "text/plain": [
       "[1] \"Dispersion =  0.146189341408046\""
      ]
     },
     "metadata": {},
     "output_type": "display_data"
    }
   ],
   "source": [
    "## Populate model with selected Eigenvectors.\n",
    "YVar.sf <- glm(formula2, data=EV, family=quasibinomial)\n",
    "summary(YVar.sf)\n",
    "\n",
    "paste(\"Deviance Base Model = \",summary(YVar.base)$deviance/YVar.base$df.residual)\n",
    "paste(\"Deviance Spatial Filter = \",summary(YVar.sf)$deviance/YVar.sf$df.residual)\n",
    "paste(\"Dispersion = \",summary(YVar.sf)$dispersion)"
   ]
  },
  {
   "cell_type": "markdown",
   "metadata": {},
   "source": [
    "### Examine Test Statistics for Autocorrelation in Spatial Filter Model\n",
    "\n",
    "Is spatial autocorrelation at work within the spatial filter?"
   ]
  },
  {
   "cell_type": "code",
   "execution_count": 14,
   "metadata": {},
   "outputs": [
    {
     "ename": "ERROR",
     "evalue": "Error in as.matrix(EV[, formula3]) %*% as.matrix(YVar.sf$coefficients[c(-1, : non-conformable arguments\n",
     "output_type": "error",
     "traceback": [
      "Error in as.matrix(EV[, formula3]) %*% as.matrix(YVar.sf$coefficients[c(-1, : non-conformable arguments\nTraceback:\n"
     ]
    }
   ],
   "source": [
    "## Analyze autocorrelation test statistics for residuals.\n",
    "sfilter <- as.matrix(EV[ ,formula3]) %*% as.matrix(YVar.sf$coefficients[c(-1,-2)])\n",
    "sfvector <- as.vector(sfilter)\n",
    "\n",
    "## Apply Moran test to the filter.\n",
    "moran.test(sfvector, inFeaturesSubset.listb)\n",
    "## Apply Geary test to the filter.\n",
    "geary.test(sfvector, inFeaturesSubset.listb)"
   ]
  },
  {
   "cell_type": "markdown",
   "metadata": {},
   "source": [
    "## Examine Autocorrelation in Spatially Filtered Residuals\n",
    "\n",
    "Is spatial autocorrelation affecting the residuals obtained given the spatial filter was applied?"
   ]
  },
  {
   "cell_type": "code",
   "execution_count": null,
   "metadata": {},
   "outputs": [],
   "source": [
    "## Select out the model residuals.\n",
    "YVar.sf.res <- residuals(YVar.sf, type=\"response\")\n",
    "\n",
    "## Apply the Moran test to the residuals.\n",
    "moran.test(YVar.sf.res, inFeaturesSubset.listb)\n",
    "## Apply the Geary test to the residuals.\n",
    "geary.test(YVar.sf.res, inFeaturesSubset.listb)"
   ]
  },
  {
   "cell_type": "markdown",
   "metadata": {},
   "source": [
    "### Visualize the Fitted Values"
   ]
  },
  {
   "cell_type": "code",
   "execution_count": 15,
   "metadata": {},
   "outputs": [
    {
     "data": {
      "image/png": "[encoded data removed]",
      "text/plain": [
       "Plot with title \"Fitted Values - Spatially Filtered\""
      ]
     },
     "metadata": {
      "image/png": {
       "height": 360,
       "width": 360
      }
     },
     "output_type": "display_data"
    }
   ],
   "source": [
    "## Classify the variable.\n",
    "numcat <- 5\n",
    "cate <- classIntervals(YVar.sf$fitted, numcat, style=\"quantile\")\n",
    "\n",
    "## Assign colors to categories.\n",
    "pal <- brewer.pal(numcat,\"Reds\")\n",
    "cols <- findColours(cate,pal)\n",
    "\n",
    "## Visualize the fitted values.\n",
    "plot(inFeaturesSubset, col=cols, lwd=.2,main=\"Fitted Values - Spatially Filtered\",cex.main=.8)\n",
    "brks <- round(cate$brks,3)\n",
    "leg <- paste(brks[-(numcat+1)], brks[-1], sep=\" - \")\n",
    "legend(\"bottomleft\", fill=pal, legend=leg, bty=\"n\",title=\"Predicted Values\",cex=.7)"
   ]
  },
  {
   "cell_type": "markdown",
   "metadata": {},
   "source": [
    "### Visualize the Spatial Filter\n",
    "\n",
    "Display the spatial filter to get a sense of how spatial autocorrelation was ultimately modeled in this application."
   ]
  },
  {
   "cell_type": "code",
   "execution_count": 16,
   "metadata": {},
   "outputs": [
    {
     "ename": "ERROR",
     "evalue": "Error in is.factor(var): object 'sfvector' not found\n",
     "output_type": "error",
     "traceback": [
      "Error in is.factor(var): object 'sfvector' not found\nTraceback:\n",
      "1. classIntervals(sfvector, numcat, style = \"quantile\")",
      "2. is.factor(var)"
     ]
    }
   ],
   "source": [
    "## Classify the variable.\n",
    "numcat <- 5\n",
    "cate <- classIntervals(sfvector, numcat, style=\"quantile\")\n",
    "\n",
    "## Assign colors to categories.\n",
    "pal <- brewer.pal(numcat,\"Reds\")\n",
    "cols <- findColours(cate,pal)\n",
    "\n",
    "## Visualize the spatial filter.\n",
    "plot(inFeaturesSubset, col=cols, lwd=.2,main=\"Spatial Filter\",cex.main=.8)\n",
    "brks <- round(cate$brks,3)\n",
    "leg <- paste(brks[-(numcat+1)], brks[-1], sep=\" - \")\n",
    "legend(\"bottomleft\", fill=pal, legend=leg, bty=\"n\",title=\"Filter Values\",cex=.7)"
   ]
  },
  {
   "cell_type": "markdown",
   "metadata": {},
   "source": [
    "# SAVE YOUR NOTEBOOK, then `File > Close and Halt`"
   ]
  },
  {
   "attachments": {
    "copyright.png": {
     "image/png": "[encoded data removed]"
    }
   },
   "cell_type": "markdown",
   "metadata": {},
   "source": [
    "![copyright.png](attachment:copyright.png)"
   ]
  }
 ],
 "metadata": {
  "kernelspec": {
   "display_name": "R",
   "language": "R",
   "name": "ir"
  },
  "language_info": {
   "codemirror_mode": "r",
   "file_extension": ".r",
   "mimetype": "text/x-r-source",
   "name": "R",
   "pygments_lexer": "r",
   "version": "4.1.3"
  }
 },
 "nbformat": 4,
 "nbformat_minor": 2
}
